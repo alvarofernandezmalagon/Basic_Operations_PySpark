{
  "nbformat": 4,
  "nbformat_minor": 0,
  "metadata": {
    "colab": {
      "name": "basic_operations_pyspark.ipynb",
      "provenance": [],
      "collapsed_sections": [],
      "toc_visible": true,
      "mount_file_id": "1YaIgLWD8gY5itcInkOx3BLRqBWenZwmS",
      "authorship_tag": "ABX9TyMq6daJ8krog9WCeZ5b59qC",
      "include_colab_link": true
    },
    "kernelspec": {
      "name": "python3",
      "display_name": "Python 3"
    }
  },
  "cells": [
    {
      "cell_type": "markdown",
      "metadata": {
        "id": "view-in-github",
        "colab_type": "text"
      },
      "source": [
        "<a href=\"https://colab.research.google.com/github/alvarofernandezmalagon/Basic_Operations_PySpark/blob/master/basic_operations_pyspark.ipynb\" target=\"_parent\"><img src=\"https://colab.research.google.com/assets/colab-badge.svg\" alt=\"Open In Colab\"/></a>"
      ]
    },
    {
      "cell_type": "markdown",
      "metadata": {
        "id": "J3i_6reR9uv9",
        "colab_type": "text"
      },
      "source": [
        "# Objective\n",
        "\n",
        "\n"
      ]
    },
    {
      "cell_type": "markdown",
      "metadata": {
        "id": "Uwxxv_N_DgYs",
        "colab_type": "text"
      },
      "source": [
        "The objective of this notebook is to review the basic operations of PySpark "
      ]
    },
    {
      "cell_type": "markdown",
      "metadata": {
        "id": "9b2ezgU0ABW0",
        "colab_type": "text"
      },
      "source": [
        "# Create the environment of PySpark"
      ]
    },
    {
      "cell_type": "code",
      "metadata": {
        "id": "W6m19Cke9ZYV",
        "colab_type": "code",
        "colab": {}
      },
      "source": [
        "#We have to install Spark and Java in Colab\n",
        "!apt-get install openjdk-8-jdk-headless -qq > /dev/null\n",
        "!wget -q https://www-us.apache.org/dist/spark/spark-2.4.5/spark-2.4.5-bin-hadoop2.7.tgz\n",
        "!tar xf spark-2.4.5-bin-hadoop2.7.tgz\n",
        "!pip install -q findspark"
      ],
      "execution_count": 0,
      "outputs": []
    },
    {
      "cell_type": "code",
      "metadata": {
        "id": "WxjDm-3uARv7",
        "colab_type": "code",
        "colab": {}
      },
      "source": [
        "#It is time to set the environment path that enables us to run PySpark in our Colab environment\n",
        "import os\n",
        "os.environ[\"JAVA_HOME\"] = \"/usr/lib/jvm/java-8-openjdk-amd64\"\n",
        "os.environ[\"SPARK_HOME\"] = \"/content/spark-2.4.5-bin-hadoop2.7\""
      ],
      "execution_count": 0,
      "outputs": []
    },
    {
      "cell_type": "code",
      "metadata": {
        "id": "j3ov86qMBAlb",
        "colab_type": "code",
        "colab": {}
      },
      "source": [
        "#We can run a local spark session to test our installation:\n",
        "import findspark\n",
        "findspark.init()\n",
        "from pyspark.sql import SparkSession\n",
        "spark = SparkSession.builder.master(\"local[*]\").getOrCreate()"
      ],
      "execution_count": 0,
      "outputs": []
    },
    {
      "cell_type": "code",
      "metadata": {
        "id": "41f9FxjcBJbS",
        "colab_type": "code",
        "outputId": "808b3c43-732d-4718-a320-9ce3c92d8fe3",
        "colab": {
          "base_uri": "https://localhost:8080/",
          "height": 216
        }
      },
      "source": [
        "spark"
      ],
      "execution_count": 4,
      "outputs": [
        {
          "output_type": "execute_result",
          "data": {
            "text/html": [
              "\n",
              "            <div>\n",
              "                <p><b>SparkSession - in-memory</b></p>\n",
              "                \n",
              "        <div>\n",
              "            <p><b>SparkContext</b></p>\n",
              "\n",
              "            <p><a href=\"http://6443d15eef84:4040\">Spark UI</a></p>\n",
              "\n",
              "            <dl>\n",
              "              <dt>Version</dt>\n",
              "                <dd><code>v2.4.5</code></dd>\n",
              "              <dt>Master</dt>\n",
              "                <dd><code>local[*]</code></dd>\n",
              "              <dt>AppName</dt>\n",
              "                <dd><code>pyspark-shell</code></dd>\n",
              "            </dl>\n",
              "        </div>\n",
              "        \n",
              "            </div>\n",
              "        "
            ],
            "text/plain": [
              "<pyspark.sql.session.SparkSession at 0x7fa3e178c6d8>"
            ]
          },
          "metadata": {
            "tags": []
          },
          "execution_count": 4
        }
      ]
    },
    {
      "cell_type": "markdown",
      "metadata": {
        "id": "YCQJ0HQ1OMOO",
        "colab_type": "text"
      },
      "source": [
        "# Get data"
      ]
    },
    {
      "cell_type": "markdown",
      "metadata": {
        "id": "W3_SSaV1Okoa",
        "colab_type": "text"
      },
      "source": [
        "### Get access to Google Drive\n"
      ]
    },
    {
      "cell_type": "code",
      "metadata": {
        "id": "wKKT_waRKNjz",
        "colab_type": "code",
        "colab": {}
      },
      "source": [
        "from google.colab import drive"
      ],
      "execution_count": 0,
      "outputs": []
    },
    {
      "cell_type": "code",
      "metadata": {
        "id": "qpHXCbaBKP7z",
        "colab_type": "code",
        "outputId": "a3599961-5120-4dd8-8609-e377ff0f36e1",
        "colab": {
          "base_uri": "https://localhost:8080/",
          "height": 34
        }
      },
      "source": [
        "drive.mount('/content/drive', force_remount=True)"
      ],
      "execution_count": 6,
      "outputs": [
        {
          "output_type": "stream",
          "text": [
            "Mounted at /content/drive\n"
          ],
          "name": "stdout"
        }
      ]
    },
    {
      "cell_type": "markdown",
      "metadata": {
        "id": "ixWSDuk6PFZJ",
        "colab_type": "text"
      },
      "source": [
        "### Change the directory"
      ]
    },
    {
      "cell_type": "code",
      "metadata": {
        "id": "NZKkg7K7PBuB",
        "colab_type": "code",
        "outputId": "183db735-70dd-4401-b993-f98e8c3beab1",
        "colab": {
          "base_uri": "https://localhost:8080/",
          "height": 34
        }
      },
      "source": [
        "%cd /content/drive/My Drive/02-Colab/01-PySpark/00-Repaso_Pyspark/01-Script"
      ],
      "execution_count": 7,
      "outputs": [
        {
          "output_type": "stream",
          "text": [
            "/content/drive/My Drive/02-Colab/01-PySpark/00-Repaso_Pyspark/01-Script\n"
          ],
          "name": "stdout"
        }
      ]
    },
    {
      "cell_type": "markdown",
      "metadata": {
        "id": "Lhb691WSPdgB",
        "colab_type": "text"
      },
      "source": [
        "###Unzip the data"
      ]
    },
    {
      "cell_type": "code",
      "metadata": {
        "id": "EOQI_KGfPg6q",
        "colab_type": "code",
        "outputId": "a5fb2668-2fc3-43fb-8d3f-29c4d68cd123",
        "colab": {
          "base_uri": "https://localhost:8080/",
          "height": 34
        }
      },
      "source": [
        "!ls ../00-Data"
      ],
      "execution_count": 8,
      "outputs": [
        {
          "output_type": "stream",
          "text": [
            "fire-incidents.csv.zip\n"
          ],
          "name": "stdout"
        }
      ]
    },
    {
      "cell_type": "code",
      "metadata": {
        "id": "tBKbSN4-P9bs",
        "colab_type": "code",
        "outputId": "ad5087ac-ad89-4864-fdf9-3eb000e250d1",
        "colab": {
          "base_uri": "https://localhost:8080/",
          "height": 51
        }
      },
      "source": [
        "!unzip ../00-Data/fire-incidents.csv.zip -d ../00-Data/"
      ],
      "execution_count": 9,
      "outputs": [
        {
          "output_type": "stream",
          "text": [
            "Archive:  ../00-Data/fire-incidents.csv.zip\n",
            "  inflating: ../00-Data/fire-incidents.csv  \n"
          ],
          "name": "stdout"
        }
      ]
    },
    {
      "cell_type": "code",
      "metadata": {
        "id": "EiE25JRhQE2K",
        "colab_type": "code",
        "outputId": "1c8defea-2430-4f19-c291-c3ba57778175",
        "colab": {
          "base_uri": "https://localhost:8080/",
          "height": 68
        }
      },
      "source": [
        "!ls -l ../00-Data"
      ],
      "execution_count": 10,
      "outputs": [
        {
          "output_type": "stream",
          "text": [
            "total 236153\n",
            "-rw------- 1 root root 207085551 Dec  6 12:15 fire-incidents.csv\n",
            "-rw------- 1 root root  34734540 May  5 15:36 fire-incidents.csv.zip\n"
          ],
          "name": "stdout"
        }
      ]
    },
    {
      "cell_type": "markdown",
      "metadata": {
        "id": "kAAA8D-GZxYe",
        "colab_type": "text"
      },
      "source": [
        "#Import libraries"
      ]
    },
    {
      "cell_type": "code",
      "metadata": {
        "id": "6XIorcEHZ1YX",
        "colab_type": "code",
        "colab": {}
      },
      "source": [
        "from pyspark.sql import functions as F\n",
        "from pyspark.sql import types as T"
      ],
      "execution_count": 0,
      "outputs": []
    },
    {
      "cell_type": "markdown",
      "metadata": {
        "id": "SeragLtORUlg",
        "colab_type": "text"
      },
      "source": [
        "#Create the path"
      ]
    },
    {
      "cell_type": "markdown",
      "metadata": {
        "id": "2ENWsU3ArDcc",
        "colab_type": "text"
      },
      "source": [
        "[Get data](https://www.kaggle.com/san-francisco/sf-fire-data-incidents-violations-and-more?select=fire-incidents.csv)"
      ]
    },
    {
      "cell_type": "code",
      "metadata": {
        "id": "fqt5OPVjRjW-",
        "colab_type": "code",
        "outputId": "f648d7bb-bc12-4796-9b9e-73e6871a071b",
        "colab": {
          "base_uri": "https://localhost:8080/",
          "height": 34
        }
      },
      "source": [
        "filename = 'fire-incidents.csv'\n",
        "data_path = '/content/drive/My Drive/02-Colab/01-PySpark/00-Repaso_Pyspark/00-Data/'+filename\n",
        "print(data_path)"
      ],
      "execution_count": 12,
      "outputs": [
        {
          "output_type": "stream",
          "text": [
            "/content/drive/My Drive/02-Colab/01-PySpark/00-Repaso_Pyspark/00-Data/fire-incidents.csv\n"
          ],
          "name": "stdout"
        }
      ]
    },
    {
      "cell_type": "markdown",
      "metadata": {
        "id": "yGLf0o3rR0Ek",
        "colab_type": "text"
      },
      "source": [
        "#Load data in memory"
      ]
    },
    {
      "cell_type": "code",
      "metadata": {
        "id": "s5-lUyBtSGhw",
        "colab_type": "code",
        "colab": {}
      },
      "source": [
        "fire_df = spark.read.csv(data_path,\n",
        "                         header=True,\n",
        "                         inferSchema=True,\n",
        "                         sep=\",\")"
      ],
      "execution_count": 0,
      "outputs": []
    },
    {
      "cell_type": "code",
      "metadata": {
        "id": "hy48X0O-SPZ2",
        "colab_type": "code",
        "outputId": "72562ae8-7528-46b7-fd74-87abfa6fad32",
        "colab": {
          "base_uri": "https://localhost:8080/",
          "height": 224
        }
      },
      "source": [
        "fire_df.show(5,truncate=False)"
      ],
      "execution_count": 14,
      "outputs": [
        {
          "output_type": "stream",
          "text": [
            "+---------------+---------------+----------------------+-------------------+-----------+-------------------+-------------------+-------------------+-------------+-------+---------+------------+----+-----------------+---------------------+---------+-------------+-----------+---------------+-------------------+-----------------------+-----------------------+---------------+-------------+-------------------+-----------------+----------------+----------------------------------------------------+----------+--------------------+----------------------+------------------+--------------------------+---------------------------------------------+-------------------+--------------+-----------------------+-------------------------+-----------+------------------+--------------------------------------+--------------+----------------+--------------------+-----------+--------------+------------------------------------+----------------------------------------+----------------------------------+------------------------------------+-----------------+-------------+------------------+----------------------+-----------------------+--------------------------------------+----------------------------------+----------------------------------------+--------------------------------------------+-----------------------------------+-------------------+--------------------------+--------------------------------------------------------------------------+\n",
            "|Incident Number|Exposure Number|Address               |Incident Date      |Call Number|Alarm DtTm         |Arrival DtTm       |Close DtTm         |City         |Zipcode|Battalion|Station Area|Box |Suppression Units|Suppression Personnel|EMS Units|EMS Personnel|Other Units|Other Personnel|First Unit On Scene|Estimated Property Loss|Estimated Contents Loss|Fire Fatalities|Fire Injuries|Civilian Fatalities|Civilian Injuries|Number of Alarms|Primary Situation                                   |Mutual Aid|Action Taken Primary|Action Taken Secondary|Action Taken Other|Detector Alerted Occupants|Property Use                                 |Area of Fire Origin|Ignition Cause|Ignition Factor Primary|Ignition Factor Secondary|Heat Source|Item First Ignited|Human Factors Associated with Ignition|Structure Type|Structure Status|Floor of Fire Origin|Fire Spread|No Flame Spead|Number of floors with minimum damage|Number of floors with significant damage|Number of floors with heavy damage|Number of floors with extreme damage|Detectors Present|Detector Type|Detector Operation|Detector Effectiveness|Detector Failure Reason|Automatic Extinguishing System Present|Automatic Extinguishing Sytem Type|Automatic Extinguishing Sytem Perfomance|Automatic Extinguishing Sytem Failure Reason|Number of Sprinkler Heads Operating|Supervisor District|Neighborhood  District    |Location                                                                  |\n",
            "+---------------+---------------+----------------------+-------------------+-----------+-------------------+-------------------+-------------------+-------------+-------+---------+------------+----+-----------------+---------------------+---------+-------------+-----------+---------------+-------------------+-----------------------+-----------------------+---------------+-------------+-------------------+-----------------+----------------+----------------------------------------------------+----------+--------------------+----------------------+------------------+--------------------------+---------------------------------------------+-------------------+--------------+-----------------------+-------------------------+-----------+------------------+--------------------------------------+--------------+----------------+--------------------+-----------+--------------+------------------------------------+----------------------------------------+----------------------------------+------------------------------------+-----------------+-------------+------------------+----------------------+-----------------------+--------------------------------------+----------------------------------+----------------------------------------+--------------------------------------------+-----------------------------------+-------------------+--------------------------+--------------------------------------------------------------------------+\n",
            "|19146215       |0              |925 Golden Gate Avenue|2019-12-05 00:00:00|193390376  |2019-12-05 05:12:14|2019-12-05 05:15:22|2019-12-05 05:25:47|San Francisco|94102  |B02      |05          |3411|3                |11                   |0        |0            |0          |0              |null               |null                   |null                   |0              |0            |0                  |0                |null            |730 system malfunction, other                       |n none    |86 investigate      |null                  |null              |null                      |429 multifamily dwelling                     |null               |null          |null                   |null                     |null       |null              |null                                  |null          |null            |null                |null       |na            |null                                |null                                    |null                              |null                                |null             |null         |null              |null                  |null                   |null                                  |null                              |null                                    |null                                        |null                               |5                  |Western Addition          |{'type': 'Point', 'coordinates': [-122.425802, 37.78027800002966]}        |\n",
            "|19146165       |0              |619 Holloway Avenue   |2019-12-05 00:00:00|193390050  |2019-12-05 00:30:33|2019-12-05 00:34:38|2019-12-05 00:48:17|San Francisco|94112  |B09      |15          |8463|3                |11                   |0        |0            |0          |0              |null               |null                   |null                   |0              |0            |0                  |0                |null            |733 smoke detector activation due to malfunction    |n none    |86 investigate      |null                  |null              |null                      |429 multifamily dwelling                     |null               |null          |null                   |null                     |null       |null              |null                                  |null          |null            |null                |null       |na            |null                                |null                                    |null                              |null                                |null             |null         |null              |null                  |null                   |null                                  |null                              |null                                    |null                                        |null                               |11                 |Oceanview/Merced/Ingleside|{'type': 'Point', 'coordinates': [-122.45944600000001, 37.72176900002962]}|\n",
            "|19146202       |0              |1485 Pine Street      |2019-12-05 00:00:00|193390291  |2019-12-05 03:52:19|2019-12-05 03:55:38|2019-12-05 04:05:24|San Francisco|94109  |B04      |41          |3122|3                |10                   |0        |0            |0          |0              |null               |null                   |null                   |0              |0            |0                  |0                |null            |745 alarm system activation, no fire - unintentional|n none    |86 investigate      |null                  |null              |null                      |429 multifamily dwelling                     |null               |null          |null                   |null                     |null       |null              |null                                  |null          |null            |null                |null       |na            |null                                |null                                    |null                              |null                                |null             |null         |null              |null                  |null                   |null                                  |null                              |null                                    |null                                        |null                               |3                  |Nob Hill                  |{'type': 'Point', 'coordinates': [-122.42018599999999, 37.78958900002967]}|\n",
            "|19146182       |0              |Church Street         |2019-12-05 00:00:00|193390165  |2019-12-05 01:55:48|2019-12-05 01:59:37|2019-12-05 02:19:06|San Francisco|94114  |B02      |06          |5127|3                |11                   |0        |0            |0          |0              |null               |null                   |null                   |0              |0            |0                  |0                |null            |700 false alarm or false call, other                |n none    |86 investigate      |null                  |null              |null                      |174 rapid transit station                    |null               |null          |null                   |null                     |null       |null              |null                                  |null          |null            |null                |null       |na            |null                                |null                                    |null                              |null                                |null             |null         |null              |null                  |null                   |null                                  |null                              |null                                    |null                                        |null                               |8                  |Castro/Upper Market       |{'type': 'Point', 'coordinates': [-122.42895000000001, 37.76750200002965]}|\n",
            "|19146193       |0              |1430 Scott Street     |2019-12-05 00:00:00|193390205  |2019-12-05 02:36:59|2019-12-05 02:41:27|2019-12-05 03:03:27|San Francisco|94115  |B04      |05          |0413|3                |10                   |0        |0            |0          |0              |null               |null                   |null                   |0              |0            |0                  |0                |null            |735 alarm system sounded due to malfunction         |n none    |86 investigate      |null                  |null              |null                      |213 elementary school, including kindergarten|null               |null          |null                   |null                     |null       |null              |null                                  |null          |null            |null                |null       |na            |null                                |null                                    |null                              |null                                |null             |null         |null              |null                  |null                   |null                                  |null                              |null                                    |null                                        |null                               |5                  |Western Addition          |{'type': 'Point', 'coordinates': [-122.437025, 37.78322000002966]}        |\n",
            "+---------------+---------------+----------------------+-------------------+-----------+-------------------+-------------------+-------------------+-------------+-------+---------+------------+----+-----------------+---------------------+---------+-------------+-----------+---------------+-------------------+-----------------------+-----------------------+---------------+-------------+-------------------+-----------------+----------------+----------------------------------------------------+----------+--------------------+----------------------+------------------+--------------------------+---------------------------------------------+-------------------+--------------+-----------------------+-------------------------+-----------+------------------+--------------------------------------+--------------+----------------+--------------------+-----------+--------------+------------------------------------+----------------------------------------+----------------------------------+------------------------------------+-----------------+-------------+------------------+----------------------+-----------------------+--------------------------------------+----------------------------------+----------------------------------------+--------------------------------------------+-----------------------------------+-------------------+--------------------------+--------------------------------------------------------------------------+\n",
            "only showing top 5 rows\n",
            "\n"
          ],
          "name": "stdout"
        }
      ]
    },
    {
      "cell_type": "markdown",
      "metadata": {
        "id": "uRTalTPtXRcZ",
        "colab_type": "text"
      },
      "source": [
        "###Get the columns and types"
      ]
    },
    {
      "cell_type": "code",
      "metadata": {
        "id": "yjRyO0MkXvw7",
        "colab_type": "code",
        "outputId": "dedd5cae-549e-4f2b-a9f8-5c5bb8916f8b",
        "colab": {
          "base_uri": "https://localhost:8080/",
          "height": 1000
        }
      },
      "source": [
        "fire_df.printSchema()"
      ],
      "execution_count": 15,
      "outputs": [
        {
          "output_type": "stream",
          "text": [
            "root\n",
            " |-- Incident Number: integer (nullable = true)\n",
            " |-- Exposure Number: integer (nullable = true)\n",
            " |-- Address: string (nullable = true)\n",
            " |-- Incident Date: timestamp (nullable = true)\n",
            " |-- Call Number: integer (nullable = true)\n",
            " |-- Alarm DtTm: timestamp (nullable = true)\n",
            " |-- Arrival DtTm: timestamp (nullable = true)\n",
            " |-- Close DtTm: timestamp (nullable = true)\n",
            " |-- City: string (nullable = true)\n",
            " |-- Zipcode: integer (nullable = true)\n",
            " |-- Battalion: string (nullable = true)\n",
            " |-- Station Area: string (nullable = true)\n",
            " |-- Box: string (nullable = true)\n",
            " |-- Suppression Units: integer (nullable = true)\n",
            " |-- Suppression Personnel: integer (nullable = true)\n",
            " |-- EMS Units: integer (nullable = true)\n",
            " |-- EMS Personnel: integer (nullable = true)\n",
            " |-- Other Units: integer (nullable = true)\n",
            " |-- Other Personnel: integer (nullable = true)\n",
            " |-- First Unit On Scene: string (nullable = true)\n",
            " |-- Estimated Property Loss: integer (nullable = true)\n",
            " |-- Estimated Contents Loss: double (nullable = true)\n",
            " |-- Fire Fatalities: integer (nullable = true)\n",
            " |-- Fire Injuries: integer (nullable = true)\n",
            " |-- Civilian Fatalities: integer (nullable = true)\n",
            " |-- Civilian Injuries: integer (nullable = true)\n",
            " |-- Number of Alarms: string (nullable = true)\n",
            " |-- Primary Situation: string (nullable = true)\n",
            " |-- Mutual Aid: string (nullable = true)\n",
            " |-- Action Taken Primary: string (nullable = true)\n",
            " |-- Action Taken Secondary: string (nullable = true)\n",
            " |-- Action Taken Other: string (nullable = true)\n",
            " |-- Detector Alerted Occupants: string (nullable = true)\n",
            " |-- Property Use: string (nullable = true)\n",
            " |-- Area of Fire Origin: string (nullable = true)\n",
            " |-- Ignition Cause: string (nullable = true)\n",
            " |-- Ignition Factor Primary: string (nullable = true)\n",
            " |-- Ignition Factor Secondary: string (nullable = true)\n",
            " |-- Heat Source: string (nullable = true)\n",
            " |-- Item First Ignited: string (nullable = true)\n",
            " |-- Human Factors Associated with Ignition: string (nullable = true)\n",
            " |-- Structure Type: string (nullable = true)\n",
            " |-- Structure Status: string (nullable = true)\n",
            " |-- Floor of Fire Origin: integer (nullable = true)\n",
            " |-- Fire Spread: string (nullable = true)\n",
            " |-- No Flame Spead: string (nullable = true)\n",
            " |-- Number of floors with minimum damage: integer (nullable = true)\n",
            " |-- Number of floors with significant damage: integer (nullable = true)\n",
            " |-- Number of floors with heavy damage: integer (nullable = true)\n",
            " |-- Number of floors with extreme damage: integer (nullable = true)\n",
            " |-- Detectors Present: string (nullable = true)\n",
            " |-- Detector Type: string (nullable = true)\n",
            " |-- Detector Operation: string (nullable = true)\n",
            " |-- Detector Effectiveness: string (nullable = true)\n",
            " |-- Detector Failure Reason: string (nullable = true)\n",
            " |-- Automatic Extinguishing System Present: string (nullable = true)\n",
            " |-- Automatic Extinguishing Sytem Type: string (nullable = true)\n",
            " |-- Automatic Extinguishing Sytem Perfomance: string (nullable = true)\n",
            " |-- Automatic Extinguishing Sytem Failure Reason: string (nullable = true)\n",
            " |-- Number of Sprinkler Heads Operating: integer (nullable = true)\n",
            " |-- Supervisor District: integer (nullable = true)\n",
            " |-- Neighborhood  District: string (nullable = true)\n",
            " |-- Location: string (nullable = true)\n",
            "\n"
          ],
          "name": "stdout"
        }
      ]
    },
    {
      "cell_type": "markdown",
      "metadata": {
        "id": "SHPU5RAwYgQM",
        "colab_type": "text"
      },
      "source": [
        "### Get the structure"
      ]
    },
    {
      "cell_type": "markdown",
      "metadata": {
        "id": "tTCp0irRX-EK",
        "colab_type": "text"
      },
      "source": [
        "#### Get the number of columns and rows"
      ]
    },
    {
      "cell_type": "code",
      "metadata": {
        "id": "D-grd4GNY2hT",
        "colab_type": "code",
        "outputId": "64e86a07-a302-4fcb-a8e7-ce5ee25aae40",
        "colab": {
          "base_uri": "https://localhost:8080/",
          "height": 34
        }
      },
      "source": [
        "#Number of rows\n",
        "fire_df.count()"
      ],
      "execution_count": 16,
      "outputs": [
        {
          "output_type": "execute_result",
          "data": {
            "text/plain": [
              "513405"
            ]
          },
          "metadata": {
            "tags": []
          },
          "execution_count": 16
        }
      ]
    },
    {
      "cell_type": "code",
      "metadata": {
        "id": "8_8aSr5vY_o4",
        "colab_type": "code",
        "outputId": "6523cba1-5d68-4123-8250-00db49a32d2e",
        "colab": {
          "base_uri": "https://localhost:8080/",
          "height": 34
        }
      },
      "source": [
        "#Number of columns\n",
        "len(fire_df.columns)"
      ],
      "execution_count": 17,
      "outputs": [
        {
          "output_type": "execute_result",
          "data": {
            "text/plain": [
              "63"
            ]
          },
          "metadata": {
            "tags": []
          },
          "execution_count": 17
        }
      ]
    },
    {
      "cell_type": "markdown",
      "metadata": {
        "id": "BPCZ9BcTZIaF",
        "colab_type": "text"
      },
      "source": [
        "#Basic PySpark operations"
      ]
    },
    {
      "cell_type": "markdown",
      "metadata": {
        "id": "Jit37zhur35s",
        "colab_type": "text"
      },
      "source": [
        "![texto alternativo](https://drive.google.com/uc?id=1sNBQqZetnTHLqY9bKgTodOUGsRBS2XDY)"
      ]
    },
    {
      "cell_type": "markdown",
      "metadata": {
        "id": "qeQSlioPbZ7Q",
        "colab_type": "text"
      },
      "source": [
        "##Change the name of the columns"
      ]
    },
    {
      "cell_type": "code",
      "metadata": {
        "id": "yPI1M_TkbeIP",
        "colab_type": "code",
        "outputId": "2d44143c-bdf9-48f2-d53b-bde188cdf0ed",
        "colab": {
          "base_uri": "https://localhost:8080/",
          "height": 1000
        }
      },
      "source": [
        "for column in fire_df.columns:\n",
        "  new_column=column.lower().replace(\" \",\"_\")\n",
        "  fire_df=fire_df.withColumnRenamed(column,new_column)\n",
        "fire_df.columns"
      ],
      "execution_count": 18,
      "outputs": [
        {
          "output_type": "execute_result",
          "data": {
            "text/plain": [
              "['incident_number',\n",
              " 'exposure_number',\n",
              " 'address',\n",
              " 'incident_date',\n",
              " 'call_number',\n",
              " 'alarm_dttm',\n",
              " 'arrival_dttm',\n",
              " 'close_dttm',\n",
              " 'city',\n",
              " 'zipcode',\n",
              " 'battalion',\n",
              " 'station_area',\n",
              " 'box',\n",
              " 'suppression_units',\n",
              " 'suppression_personnel',\n",
              " 'ems_units',\n",
              " 'ems_personnel',\n",
              " 'other_units',\n",
              " 'other_personnel',\n",
              " 'first_unit_on_scene',\n",
              " 'estimated_property_loss',\n",
              " 'estimated_contents_loss',\n",
              " 'fire_fatalities',\n",
              " 'fire_injuries',\n",
              " 'civilian_fatalities',\n",
              " 'civilian_injuries',\n",
              " 'number_of_alarms',\n",
              " 'primary_situation',\n",
              " 'mutual_aid',\n",
              " 'action_taken_primary',\n",
              " 'action_taken_secondary',\n",
              " 'action_taken_other',\n",
              " 'detector_alerted_occupants',\n",
              " 'property_use',\n",
              " 'area_of_fire_origin',\n",
              " 'ignition_cause',\n",
              " 'ignition_factor_primary',\n",
              " 'ignition_factor_secondary',\n",
              " 'heat_source',\n",
              " 'item_first_ignited',\n",
              " 'human_factors_associated_with_ignition',\n",
              " 'structure_type',\n",
              " 'structure_status',\n",
              " 'floor_of_fire_origin',\n",
              " 'fire_spread',\n",
              " 'no_flame_spead',\n",
              " 'number_of_floors_with_minimum_damage',\n",
              " 'number_of_floors_with_significant_damage',\n",
              " 'number_of_floors_with_heavy_damage',\n",
              " 'number_of_floors_with_extreme_damage',\n",
              " 'detectors_present',\n",
              " 'detector_type',\n",
              " 'detector_operation',\n",
              " 'detector_effectiveness',\n",
              " 'detector_failure_reason',\n",
              " 'automatic_extinguishing_system_present',\n",
              " 'automatic_extinguishing_sytem_type',\n",
              " 'automatic_extinguishing_sytem_perfomance',\n",
              " 'automatic_extinguishing_sytem_failure_reason',\n",
              " 'number_of_sprinkler_heads_operating',\n",
              " 'supervisor_district',\n",
              " 'neighborhood__district',\n",
              " 'location']"
            ]
          },
          "metadata": {
            "tags": []
          },
          "execution_count": 18
        }
      ]
    },
    {
      "cell_type": "markdown",
      "metadata": {
        "id": "4kLUgd9HZfaK",
        "colab_type": "text"
      },
      "source": [
        "##Select the columns"
      ]
    },
    {
      "cell_type": "markdown",
      "metadata": {
        "id": "UYUIV0EUdyHi",
        "colab_type": "text"
      },
      "source": [
        "###One way"
      ]
    },
    {
      "cell_type": "code",
      "metadata": {
        "id": "okdJNIJpaG8T",
        "colab_type": "code",
        "outputId": "66309c0e-af96-4473-f193-ea05b7115020",
        "colab": {
          "base_uri": "https://localhost:8080/",
          "height": 102
        }
      },
      "source": [
        "#Only the names of the first 5 columns\n",
        "fire_df.columns[:5]"
      ],
      "execution_count": 19,
      "outputs": [
        {
          "output_type": "execute_result",
          "data": {
            "text/plain": [
              "['incident_number',\n",
              " 'exposure_number',\n",
              " 'address',\n",
              " 'incident_date',\n",
              " 'call_number']"
            ]
          },
          "metadata": {
            "tags": []
          },
          "execution_count": 19
        }
      ]
    },
    {
      "cell_type": "code",
      "metadata": {
        "id": "fosHdgIxamYQ",
        "colab_type": "code",
        "outputId": "e67a19d7-963e-4ef9-d6c2-2771852d8348",
        "colab": {
          "base_uri": "https://localhost:8080/",
          "height": 204
        }
      },
      "source": [
        "#Select the name of the first 3 columns with data\n",
        "fire_df.select(fire_df.columns[:3]).show(5)"
      ],
      "execution_count": 20,
      "outputs": [
        {
          "output_type": "stream",
          "text": [
            "+---------------+---------------+--------------------+\n",
            "|incident_number|exposure_number|             address|\n",
            "+---------------+---------------+--------------------+\n",
            "|       19146215|              0|925 Golden Gate A...|\n",
            "|       19146165|              0| 619 Holloway Avenue|\n",
            "|       19146202|              0|    1485 Pine Street|\n",
            "|       19146182|              0|       Church Street|\n",
            "|       19146193|              0|   1430 Scott Street|\n",
            "+---------------+---------------+--------------------+\n",
            "only showing top 5 rows\n",
            "\n"
          ],
          "name": "stdout"
        }
      ]
    },
    {
      "cell_type": "code",
      "metadata": {
        "id": "nzf4FuXSaF29",
        "colab_type": "code",
        "outputId": "2c9311bd-bdb5-474f-fde0-679e8d5b231f",
        "colab": {
          "base_uri": "https://localhost:8080/",
          "height": 204
        }
      },
      "source": [
        "#Other way\n",
        "fire_df.select('incident_number','address').show(5)"
      ],
      "execution_count": 21,
      "outputs": [
        {
          "output_type": "stream",
          "text": [
            "+---------------+--------------------+\n",
            "|incident_number|             address|\n",
            "+---------------+--------------------+\n",
            "|       19146215|925 Golden Gate A...|\n",
            "|       19146165| 619 Holloway Avenue|\n",
            "|       19146202|    1485 Pine Street|\n",
            "|       19146182|       Church Street|\n",
            "|       19146193|   1430 Scott Street|\n",
            "+---------------+--------------------+\n",
            "only showing top 5 rows\n",
            "\n"
          ],
          "name": "stdout"
        }
      ]
    },
    {
      "cell_type": "markdown",
      "metadata": {
        "id": "uvrHLnIhZc7D",
        "colab_type": "text"
      },
      "source": [
        "###Using SQL"
      ]
    },
    {
      "cell_type": "code",
      "metadata": {
        "id": "UtBGVJcheBZo",
        "colab_type": "code",
        "outputId": "d554d6b5-d866-4ed9-b238-2df429be31e6",
        "colab": {
          "base_uri": "https://localhost:8080/",
          "height": 34
        }
      },
      "source": [
        "F.col('incident_number')"
      ],
      "execution_count": 22,
      "outputs": [
        {
          "output_type": "execute_result",
          "data": {
            "text/plain": [
              "Column<b'incident_number'>"
            ]
          },
          "metadata": {
            "tags": []
          },
          "execution_count": 22
        }
      ]
    },
    {
      "cell_type": "markdown",
      "metadata": {
        "id": "kqbVT3vIe6jk",
        "colab_type": "text"
      },
      "source": [
        "##Filter and selecting columns"
      ]
    },
    {
      "cell_type": "code",
      "metadata": {
        "id": "f4HTAnwPeGAv",
        "colab_type": "code",
        "outputId": "36e802c7-98d5-418a-cb3b-5e6d7d3121c7",
        "colab": {
          "base_uri": "https://localhost:8080/",
          "height": 204
        }
      },
      "source": [
        "fire_df.filter(F.col(\"call_number\")>10030109).select(\"call_number\").show(5)"
      ],
      "execution_count": 23,
      "outputs": [
        {
          "output_type": "stream",
          "text": [
            "+-----------+\n",
            "|call_number|\n",
            "+-----------+\n",
            "|  193390376|\n",
            "|  193390050|\n",
            "|  193390291|\n",
            "|  193390165|\n",
            "|  193390205|\n",
            "+-----------+\n",
            "only showing top 5 rows\n",
            "\n"
          ],
          "name": "stdout"
        }
      ]
    },
    {
      "cell_type": "markdown",
      "metadata": {
        "id": "U1f5NWcmfTaY",
        "colab_type": "text"
      },
      "source": [
        "## Get a reduce data frame to operate"
      ]
    },
    {
      "cell_type": "markdown",
      "metadata": {
        "id": "MTNzIJ-9kDr7",
        "colab_type": "text"
      },
      "source": [
        "### Select the first five columns"
      ]
    },
    {
      "cell_type": "code",
      "metadata": {
        "id": "e3NZYM2ykRpQ",
        "colab_type": "code",
        "outputId": "85d40093-1ae5-4337-e21e-2b95f9952203",
        "colab": {
          "base_uri": "https://localhost:8080/",
          "height": 204
        }
      },
      "source": [
        "sub_df = fire_df.select(fire_df.columns[:5])\n",
        "sub_df.show(5)"
      ],
      "execution_count": 24,
      "outputs": [
        {
          "output_type": "stream",
          "text": [
            "+---------------+---------------+--------------------+-------------------+-----------+\n",
            "|incident_number|exposure_number|             address|      incident_date|call_number|\n",
            "+---------------+---------------+--------------------+-------------------+-----------+\n",
            "|       19146215|              0|925 Golden Gate A...|2019-12-05 00:00:00|  193390376|\n",
            "|       19146165|              0| 619 Holloway Avenue|2019-12-05 00:00:00|  193390050|\n",
            "|       19146202|              0|    1485 Pine Street|2019-12-05 00:00:00|  193390291|\n",
            "|       19146182|              0|       Church Street|2019-12-05 00:00:00|  193390165|\n",
            "|       19146193|              0|   1430 Scott Street|2019-12-05 00:00:00|  193390205|\n",
            "+---------------+---------------+--------------------+-------------------+-----------+\n",
            "only showing top 5 rows\n",
            "\n"
          ],
          "name": "stdout"
        }
      ]
    },
    {
      "cell_type": "markdown",
      "metadata": {
        "id": "jLxYwdItkd5H",
        "colab_type": "text"
      },
      "source": [
        "###Filter "
      ]
    },
    {
      "cell_type": "code",
      "metadata": {
        "id": "Vh3B5bd9Z97h",
        "colab_type": "code",
        "outputId": "73f4563a-031e-416e-a14f-a02fd382f4f9",
        "colab": {
          "base_uri": "https://localhost:8080/",
          "height": 119
        }
      },
      "source": [
        "sub_df.filter((F.col(\"incident_number\")<50000000) &\n",
        "              (F.col(\"call_number\")>80562) &\n",
        "              (F.col(\"address\")==\"310 Colon Av.\")).show()\n"
      ],
      "execution_count": 25,
      "outputs": [
        {
          "output_type": "stream",
          "text": [
            "+---------------+---------------+-------------+-------------------+-----------+\n",
            "|incident_number|exposure_number|      address|      incident_date|call_number|\n",
            "+---------------+---------------+-------------+-------------------+-----------+\n",
            "|        9030109|              0|310 Colon Av.|2009-04-12 00:00:00|   91020273|\n",
            "+---------------+---------------+-------------+-------------------+-----------+\n",
            "\n"
          ],
          "name": "stdout"
        }
      ]
    },
    {
      "cell_type": "markdown",
      "metadata": {
        "id": "Hrjz_nT2aW1f",
        "colab_type": "text"
      },
      "source": [
        "### Filter using particular expression"
      ]
    },
    {
      "cell_type": "code",
      "metadata": {
        "id": "GgA2POwkZ8Ws",
        "colab_type": "code",
        "outputId": "f1677212-9be8-42c9-c54d-d470e7aad5c0",
        "colab": {
          "base_uri": "https://localhost:8080/",
          "height": 459
        }
      },
      "source": [
        "#We get all the address that contains the expression \"Av\"\n",
        "sub_df.filter(F.col(\"address\").like(\"%Av%\")).show()"
      ],
      "execution_count": 26,
      "outputs": [
        {
          "output_type": "stream",
          "text": [
            "+---------------+---------------+--------------------+-------------------+-----------+\n",
            "|incident_number|exposure_number|             address|      incident_date|call_number|\n",
            "+---------------+---------------+--------------------+-------------------+-----------+\n",
            "|       19146215|              0|925 Golden Gate A...|2019-12-05 00:00:00|  193390376|\n",
            "|       19146165|              0| 619 Holloway Avenue|2019-12-05 00:00:00|  193390050|\n",
            "|       19146229|              0|    227 Grant Avenue|2019-12-05 00:00:00|  193390501|\n",
            "|       19146220|              0|915 Golden Gate A...|2019-12-05 00:00:00|  193390407|\n",
            "|       19146145|              0|  500 Corbett Avenue|2019-12-04 00:00:00|  193384507|\n",
            "|       19145869|              0|      Potrero Avenue|2019-12-04 00:00:00|  193381856|\n",
            "|       19145970|              0| 601 Van Ness Avenue|2019-12-04 00:00:00|  193382874|\n",
            "|       19145819|              0|  750 Pacific Avenue|2019-12-04 00:00:00|  193381358|\n",
            "|       19145779|              0|    601 Grant Avenue|2019-12-04 00:00:00|  193380892|\n",
            "|       19145967|              0|     1266 9th Avenue|2019-12-04 00:00:00|  193382850|\n",
            "|       19145721|              0|    1570 31st Avenue|2019-12-04 00:00:00|  193380310|\n",
            "|       19145353|              0|133 Golden Gate A...|2019-12-03 00:00:00|  193371404|\n",
            "|       19145634|              0|   1100 Ocean Avenue|2019-12-03 00:00:00|  193373953|\n",
            "|       19145646|              0|400 Parnassus Av 775|2019-12-03 00:00:00|  193374068|\n",
            "|       19145535|              0|520 South Van Nes...|2019-12-03 00:00:00|  193373005|\n",
            "|       19145270|              0|1 South Van Ness ...|2019-12-03 00:00:00|  193370475|\n",
            "|       19145366|              0|1414 Bancroft Avenue|2019-12-03 00:00:00|  193371480|\n",
            "|       19145635|              0|     618 10th Avenue|2019-12-03 00:00:00|  193373968|\n",
            "|       19145321|              0|   985 Geneva Avenue|2019-12-03 00:00:00|  193371112|\n",
            "|       19145407|              0|1250 Sunnydale Av...|2019-12-03 00:00:00|  193371764|\n",
            "+---------------+---------------+--------------------+-------------------+-----------+\n",
            "only showing top 20 rows\n",
            "\n"
          ],
          "name": "stdout"
        }
      ]
    },
    {
      "cell_type": "markdown",
      "metadata": {
        "id": "_4jW2zNTbwES",
        "colab_type": "text"
      },
      "source": [
        "### Filter using a list"
      ]
    },
    {
      "cell_type": "code",
      "metadata": {
        "id": "v7bCg0tLkZAQ",
        "colab_type": "code",
        "outputId": "897bf26b-1dc7-4e92-b05c-f644d65616f8",
        "colab": {
          "base_uri": "https://localhost:8080/",
          "height": 119
        }
      },
      "source": [
        "#Equal\n",
        "sub_df.filter(F.col('address').isin([\"310 Colon Av.\",\"Lansdale Av\",\"Pacific Av\"])).show()"
      ],
      "execution_count": 27,
      "outputs": [
        {
          "output_type": "stream",
          "text": [
            "+---------------+---------------+-------------+-------------------+-----------+\n",
            "|incident_number|exposure_number|      address|      incident_date|call_number|\n",
            "+---------------+---------------+-------------+-------------------+-----------+\n",
            "|        9030109|              0|310 Colon Av.|2009-04-12 00:00:00|   91020273|\n",
            "+---------------+---------------+-------------+-------------------+-----------+\n",
            "\n"
          ],
          "name": "stdout"
        }
      ]
    },
    {
      "cell_type": "code",
      "metadata": {
        "id": "ixB2HYPZdAI9",
        "colab_type": "code",
        "outputId": "7f69c977-669d-4798-df8d-791923d09d5f",
        "colab": {
          "base_uri": "https://localhost:8080/",
          "height": 34
        }
      },
      "source": [
        "#Distinct\n",
        "sub_df.filter(~F.col('address').isin([\"310 Colon Av.\",\"Lansdale Av\",\"Pacific Av\"])).count()"
      ],
      "execution_count": 28,
      "outputs": [
        {
          "output_type": "execute_result",
          "data": {
            "text/plain": [
              "513166"
            ]
          },
          "metadata": {
            "tags": []
          },
          "execution_count": 28
        }
      ]
    },
    {
      "cell_type": "markdown",
      "metadata": {
        "id": "8ogPikPpdvFY",
        "colab_type": "text"
      },
      "source": [
        "### Delete specific columns"
      ]
    },
    {
      "cell_type": "code",
      "metadata": {
        "id": "GbLrXnOIfNpd",
        "colab_type": "code",
        "outputId": "1bbab7fd-120d-41d6-c59a-8dd4586db97b",
        "colab": {
          "base_uri": "https://localhost:8080/",
          "height": 459
        }
      },
      "source": [
        "#If you want to use a list it´s neccesary to use a *\n",
        "sub_df.drop(*[\"address\",\"call_number\"]).show()"
      ],
      "execution_count": 29,
      "outputs": [
        {
          "output_type": "stream",
          "text": [
            "+---------------+---------------+-------------------+\n",
            "|incident_number|exposure_number|      incident_date|\n",
            "+---------------+---------------+-------------------+\n",
            "|       19146215|              0|2019-12-05 00:00:00|\n",
            "|       19146165|              0|2019-12-05 00:00:00|\n",
            "|       19146202|              0|2019-12-05 00:00:00|\n",
            "|       19146182|              0|2019-12-05 00:00:00|\n",
            "|       19146193|              0|2019-12-05 00:00:00|\n",
            "|       19146198|              0|2019-12-05 00:00:00|\n",
            "|       19146158|              0|2019-12-05 00:00:00|\n",
            "|       19146229|              0|2019-12-05 00:00:00|\n",
            "|       19146220|              0|2019-12-05 00:00:00|\n",
            "|       19146248|              0|2019-12-05 00:00:00|\n",
            "|       19146188|              0|2019-12-05 00:00:00|\n",
            "|       19146157|              0|2019-12-05 00:00:00|\n",
            "|       19146017|              0|2019-12-04 00:00:00|\n",
            "|       19145960|              0|2019-12-04 00:00:00|\n",
            "|       19146145|              0|2019-12-04 00:00:00|\n",
            "|       19145869|              0|2019-12-04 00:00:00|\n",
            "|       19146116|              0|2019-12-04 00:00:00|\n",
            "|       19145776|              0|2019-12-04 00:00:00|\n",
            "|       19145911|              0|2019-12-04 00:00:00|\n",
            "|       19145681|              0|2019-12-04 00:00:00|\n",
            "+---------------+---------------+-------------------+\n",
            "only showing top 20 rows\n",
            "\n"
          ],
          "name": "stdout"
        }
      ]
    },
    {
      "cell_type": "code",
      "metadata": {
        "id": "USvfOYU7g5GE",
        "colab_type": "code",
        "outputId": "b55c69d5-03b1-4e1b-92f7-d79e3fc8238a",
        "colab": {
          "base_uri": "https://localhost:8080/",
          "height": 459
        }
      },
      "source": [
        "#Also you can drop columns without use a list\n",
        "sub_df.drop(\"address\",\"call_number\").show()"
      ],
      "execution_count": 30,
      "outputs": [
        {
          "output_type": "stream",
          "text": [
            "+---------------+---------------+-------------------+\n",
            "|incident_number|exposure_number|      incident_date|\n",
            "+---------------+---------------+-------------------+\n",
            "|       19146215|              0|2019-12-05 00:00:00|\n",
            "|       19146165|              0|2019-12-05 00:00:00|\n",
            "|       19146202|              0|2019-12-05 00:00:00|\n",
            "|       19146182|              0|2019-12-05 00:00:00|\n",
            "|       19146193|              0|2019-12-05 00:00:00|\n",
            "|       19146198|              0|2019-12-05 00:00:00|\n",
            "|       19146158|              0|2019-12-05 00:00:00|\n",
            "|       19146229|              0|2019-12-05 00:00:00|\n",
            "|       19146220|              0|2019-12-05 00:00:00|\n",
            "|       19146248|              0|2019-12-05 00:00:00|\n",
            "|       19146188|              0|2019-12-05 00:00:00|\n",
            "|       19146157|              0|2019-12-05 00:00:00|\n",
            "|       19146017|              0|2019-12-04 00:00:00|\n",
            "|       19145960|              0|2019-12-04 00:00:00|\n",
            "|       19146145|              0|2019-12-04 00:00:00|\n",
            "|       19145869|              0|2019-12-04 00:00:00|\n",
            "|       19146116|              0|2019-12-04 00:00:00|\n",
            "|       19145776|              0|2019-12-04 00:00:00|\n",
            "|       19145911|              0|2019-12-04 00:00:00|\n",
            "|       19145681|              0|2019-12-04 00:00:00|\n",
            "+---------------+---------------+-------------------+\n",
            "only showing top 20 rows\n",
            "\n"
          ],
          "name": "stdout"
        }
      ]
    },
    {
      "cell_type": "code",
      "metadata": {
        "id": "OKh8PJZOfd5k",
        "colab_type": "code",
        "outputId": "44caca24-181e-45fb-ae7f-f309d0e86851",
        "colab": {
          "base_uri": "https://localhost:8080/",
          "height": 459
        }
      },
      "source": [
        "#If you want to drop more columns...\n",
        "fire_df.drop(*fire_df.columns[4:]).show()"
      ],
      "execution_count": 31,
      "outputs": [
        {
          "output_type": "stream",
          "text": [
            "+---------------+---------------+--------------------+-------------------+\n",
            "|incident_number|exposure_number|             address|      incident_date|\n",
            "+---------------+---------------+--------------------+-------------------+\n",
            "|       19146215|              0|925 Golden Gate A...|2019-12-05 00:00:00|\n",
            "|       19146165|              0| 619 Holloway Avenue|2019-12-05 00:00:00|\n",
            "|       19146202|              0|    1485 Pine Street|2019-12-05 00:00:00|\n",
            "|       19146182|              0|       Church Street|2019-12-05 00:00:00|\n",
            "|       19146193|              0|   1430 Scott Street|2019-12-05 00:00:00|\n",
            "|       19146198|              0|   1430 Scott Street|2019-12-05 00:00:00|\n",
            "|       19146158|              0|    3351 23rd Street|2019-12-05 00:00:00|\n",
            "|       19146229|              0|    227 Grant Avenue|2019-12-05 00:00:00|\n",
            "|       19146220|              0|915 Golden Gate A...|2019-12-05 00:00:00|\n",
            "|       19146248|              0|     21 Loyola Trail|2019-12-05 00:00:00|\n",
            "|       19146188|              0|      190 9th Street|2019-12-05 00:00:00|\n",
            "|       19146157|              0|    1640 Lyon Street|2019-12-05 00:00:00|\n",
            "|       19146017|              0|     171 Fell Street|2019-12-04 00:00:00|\n",
            "|       19145960|              0|    298 Red Rock Way|2019-12-04 00:00:00|\n",
            "|       19146145|              0|  500 Corbett Avenue|2019-12-04 00:00:00|\n",
            "|       19145869|              0|      Potrero Avenue|2019-12-04 00:00:00|\n",
            "|       19146116|              0|       Taylor Street|2019-12-04 00:00:00|\n",
            "|       19145776|              0| 658 Shotwell Street|2019-12-04 00:00:00|\n",
            "|       19145911|              0| 316 Schwerin Street|2019-12-04 00:00:00|\n",
            "|       19145681|              0|1940 Harrison Street|2019-12-04 00:00:00|\n",
            "+---------------+---------------+--------------------+-------------------+\n",
            "only showing top 20 rows\n",
            "\n"
          ],
          "name": "stdout"
        }
      ]
    },
    {
      "cell_type": "markdown",
      "metadata": {
        "id": "dUUaGdbxjaG2",
        "colab_type": "text"
      },
      "source": [
        "###Drop duplicates"
      ]
    },
    {
      "cell_type": "markdown",
      "metadata": {
        "id": "6Zzeo7XLkZDL",
        "colab_type": "text"
      },
      "source": [
        "#### Delete duplicates based on repetitions of two or more entire lines"
      ]
    },
    {
      "cell_type": "code",
      "metadata": {
        "id": "M_coJqA2kHz9",
        "colab_type": "code",
        "outputId": "9e780e15-e113-49d5-beed-51332bc542cd",
        "colab": {
          "base_uri": "https://localhost:8080/",
          "height": 34
        }
      },
      "source": [
        "sub_df.count()"
      ],
      "execution_count": 32,
      "outputs": [
        {
          "output_type": "execute_result",
          "data": {
            "text/plain": [
              "513405"
            ]
          },
          "metadata": {
            "tags": []
          },
          "execution_count": 32
        }
      ]
    },
    {
      "cell_type": "code",
      "metadata": {
        "id": "rKcOcotZk1xG",
        "colab_type": "code",
        "outputId": "4f491a62-b51d-4bef-a429-0bca38fe76f4",
        "colab": {
          "base_uri": "https://localhost:8080/",
          "height": 34
        }
      },
      "source": [
        "sub_df.dropDuplicates().count()"
      ],
      "execution_count": 33,
      "outputs": [
        {
          "output_type": "execute_result",
          "data": {
            "text/plain": [
              "513049"
            ]
          },
          "metadata": {
            "tags": []
          },
          "execution_count": 33
        }
      ]
    },
    {
      "cell_type": "markdown",
      "metadata": {
        "id": "hErBzvgGktJk",
        "colab_type": "text"
      },
      "source": [
        "#### Delete duplicates based on repetitions of two or more specific columns"
      ]
    },
    {
      "cell_type": "code",
      "metadata": {
        "id": "vr0E-VkblAQc",
        "colab_type": "code",
        "outputId": "2d483536-5145-44f1-d622-9f535e15ee76",
        "colab": {
          "base_uri": "https://localhost:8080/",
          "height": 34
        }
      },
      "source": [
        "sub_df.dropDuplicates(subset=['incident_number']).count()"
      ],
      "execution_count": 34,
      "outputs": [
        {
          "output_type": "execute_result",
          "data": {
            "text/plain": [
              "513049"
            ]
          },
          "metadata": {
            "tags": []
          },
          "execution_count": 34
        }
      ]
    },
    {
      "cell_type": "markdown",
      "metadata": {
        "id": "RwznymS4ld4Z",
        "colab_type": "text"
      },
      "source": [
        "### Order by column \"orderBy\""
      ]
    },
    {
      "cell_type": "markdown",
      "metadata": {
        "id": "2N1JRqunn1A2",
        "colab_type": "text"
      },
      "source": [
        "It's not neccesary define asc=True because that´s by default"
      ]
    },
    {
      "cell_type": "code",
      "metadata": {
        "id": "uYY7xqRPlnx_",
        "colab_type": "code",
        "outputId": "3c80d33b-17fd-41bd-d84a-88c4eedd9d55",
        "colab": {
          "base_uri": "https://localhost:8080/",
          "height": 459
        }
      },
      "source": [
        "#One way\n",
        "sub_df.orderBy(\"incident_number\",ascending=False).show()"
      ],
      "execution_count": 35,
      "outputs": [
        {
          "output_type": "stream",
          "text": [
            "+---------------+---------------+--------------------+-------------------+-----------+\n",
            "|incident_number|exposure_number|             address|      incident_date|call_number|\n",
            "+---------------+---------------+--------------------+-------------------+-----------+\n",
            "|       19146248|              0|     21 Loyola Trail|2019-12-05 00:00:00|  193390662|\n",
            "|       19146229|              0|    227 Grant Avenue|2019-12-05 00:00:00|  193390501|\n",
            "|       19146220|              0|915 Golden Gate A...|2019-12-05 00:00:00|  193390407|\n",
            "|       19146215|              0|925 Golden Gate A...|2019-12-05 00:00:00|  193390376|\n",
            "|       19146202|              0|    1485 Pine Street|2019-12-05 00:00:00|  193390291|\n",
            "|       19146198|              0|   1430 Scott Street|2019-12-05 00:00:00|  193390273|\n",
            "|       19146193|              0|   1430 Scott Street|2019-12-05 00:00:00|  193390205|\n",
            "|       19146188|              0|      190 9th Street|2019-12-05 00:00:00|  193390184|\n",
            "|       19146182|              0|       Church Street|2019-12-05 00:00:00|  193390165|\n",
            "|       19146165|              0| 619 Holloway Avenue|2019-12-05 00:00:00|  193390050|\n",
            "|       19146158|              0|    3351 23rd Street|2019-12-05 00:00:00|  193390013|\n",
            "|       19146157|              0|    1640 Lyon Street|2019-12-05 00:00:00|  193390007|\n",
            "|       19146152|              0|  230 Grattan Street|2019-12-04 00:00:00|  193384547|\n",
            "|       19146145|              0|  500 Corbett Avenue|2019-12-04 00:00:00|  193384507|\n",
            "|       19146143|              0|1635 Divisadero S...|2019-12-04 00:00:00|  193384493|\n",
            "|       19146131|              0|         Eddy Street|2019-12-04 00:00:00|  193384387|\n",
            "|       19146119|              0|   841 Larkin Street|2019-12-04 00:00:00|  193384253|\n",
            "|       19146116|              0|       Taylor Street|2019-12-04 00:00:00|  193384245|\n",
            "|       19146091|              0|  240 Dolores St 217|2019-12-04 00:00:00|  193384030|\n",
            "|       19146090|              0| 1650 Mission Street|2019-12-04 00:00:00|  193384016|\n",
            "+---------------+---------------+--------------------+-------------------+-----------+\n",
            "only showing top 20 rows\n",
            "\n"
          ],
          "name": "stdout"
        }
      ]
    },
    {
      "cell_type": "code",
      "metadata": {
        "id": "QGI9d-4BnIeh",
        "colab_type": "code",
        "outputId": "5008d3be-0c48-41ee-f427-e9d175fc8a7b",
        "colab": {
          "base_uri": "https://localhost:8080/",
          "height": 459
        }
      },
      "source": [
        "#Other way using SQL\n",
        "sub_df.orderBy(F.col(\"incident_number\").desc()).show()"
      ],
      "execution_count": 36,
      "outputs": [
        {
          "output_type": "stream",
          "text": [
            "+---------------+---------------+--------------------+-------------------+-----------+\n",
            "|incident_number|exposure_number|             address|      incident_date|call_number|\n",
            "+---------------+---------------+--------------------+-------------------+-----------+\n",
            "|       19146248|              0|     21 Loyola Trail|2019-12-05 00:00:00|  193390662|\n",
            "|       19146229|              0|    227 Grant Avenue|2019-12-05 00:00:00|  193390501|\n",
            "|       19146220|              0|915 Golden Gate A...|2019-12-05 00:00:00|  193390407|\n",
            "|       19146215|              0|925 Golden Gate A...|2019-12-05 00:00:00|  193390376|\n",
            "|       19146202|              0|    1485 Pine Street|2019-12-05 00:00:00|  193390291|\n",
            "|       19146198|              0|   1430 Scott Street|2019-12-05 00:00:00|  193390273|\n",
            "|       19146193|              0|   1430 Scott Street|2019-12-05 00:00:00|  193390205|\n",
            "|       19146188|              0|      190 9th Street|2019-12-05 00:00:00|  193390184|\n",
            "|       19146182|              0|       Church Street|2019-12-05 00:00:00|  193390165|\n",
            "|       19146165|              0| 619 Holloway Avenue|2019-12-05 00:00:00|  193390050|\n",
            "|       19146158|              0|    3351 23rd Street|2019-12-05 00:00:00|  193390013|\n",
            "|       19146157|              0|    1640 Lyon Street|2019-12-05 00:00:00|  193390007|\n",
            "|       19146152|              0|  230 Grattan Street|2019-12-04 00:00:00|  193384547|\n",
            "|       19146145|              0|  500 Corbett Avenue|2019-12-04 00:00:00|  193384507|\n",
            "|       19146143|              0|1635 Divisadero S...|2019-12-04 00:00:00|  193384493|\n",
            "|       19146131|              0|         Eddy Street|2019-12-04 00:00:00|  193384387|\n",
            "|       19146119|              0|   841 Larkin Street|2019-12-04 00:00:00|  193384253|\n",
            "|       19146116|              0|       Taylor Street|2019-12-04 00:00:00|  193384245|\n",
            "|       19146091|              0|  240 Dolores St 217|2019-12-04 00:00:00|  193384030|\n",
            "|       19146090|              0| 1650 Mission Street|2019-12-04 00:00:00|  193384016|\n",
            "+---------------+---------------+--------------------+-------------------+-----------+\n",
            "only showing top 20 rows\n",
            "\n"
          ],
          "name": "stdout"
        }
      ]
    },
    {
      "cell_type": "markdown",
      "metadata": {
        "id": "-XOIqKWAnrKK",
        "colab_type": "text"
      },
      "source": [
        "### Order by column \"sort\""
      ]
    },
    {
      "cell_type": "code",
      "metadata": {
        "id": "76ZOQ9nHqUUf",
        "colab_type": "code",
        "outputId": "1466f5f9-19f2-42b7-d0d6-1b7a2292ac00",
        "colab": {
          "base_uri": "https://localhost:8080/",
          "height": 459
        }
      },
      "source": [
        "sub_df.sort(F.col(\"incident_number\"),ascending=False).show()"
      ],
      "execution_count": 37,
      "outputs": [
        {
          "output_type": "stream",
          "text": [
            "+---------------+---------------+--------------------+-------------------+-----------+\n",
            "|incident_number|exposure_number|             address|      incident_date|call_number|\n",
            "+---------------+---------------+--------------------+-------------------+-----------+\n",
            "|       19146248|              0|     21 Loyola Trail|2019-12-05 00:00:00|  193390662|\n",
            "|       19146229|              0|    227 Grant Avenue|2019-12-05 00:00:00|  193390501|\n",
            "|       19146220|              0|915 Golden Gate A...|2019-12-05 00:00:00|  193390407|\n",
            "|       19146215|              0|925 Golden Gate A...|2019-12-05 00:00:00|  193390376|\n",
            "|       19146202|              0|    1485 Pine Street|2019-12-05 00:00:00|  193390291|\n",
            "|       19146198|              0|   1430 Scott Street|2019-12-05 00:00:00|  193390273|\n",
            "|       19146193|              0|   1430 Scott Street|2019-12-05 00:00:00|  193390205|\n",
            "|       19146188|              0|      190 9th Street|2019-12-05 00:00:00|  193390184|\n",
            "|       19146182|              0|       Church Street|2019-12-05 00:00:00|  193390165|\n",
            "|       19146165|              0| 619 Holloway Avenue|2019-12-05 00:00:00|  193390050|\n",
            "|       19146158|              0|    3351 23rd Street|2019-12-05 00:00:00|  193390013|\n",
            "|       19146157|              0|    1640 Lyon Street|2019-12-05 00:00:00|  193390007|\n",
            "|       19146152|              0|  230 Grattan Street|2019-12-04 00:00:00|  193384547|\n",
            "|       19146145|              0|  500 Corbett Avenue|2019-12-04 00:00:00|  193384507|\n",
            "|       19146143|              0|1635 Divisadero S...|2019-12-04 00:00:00|  193384493|\n",
            "|       19146131|              0|         Eddy Street|2019-12-04 00:00:00|  193384387|\n",
            "|       19146119|              0|   841 Larkin Street|2019-12-04 00:00:00|  193384253|\n",
            "|       19146116|              0|       Taylor Street|2019-12-04 00:00:00|  193384245|\n",
            "|       19146091|              0|  240 Dolores St 217|2019-12-04 00:00:00|  193384030|\n",
            "|       19146090|              0| 1650 Mission Street|2019-12-04 00:00:00|  193384016|\n",
            "+---------------+---------------+--------------------+-------------------+-----------+\n",
            "only showing top 20 rows\n",
            "\n"
          ],
          "name": "stdout"
        }
      ]
    },
    {
      "cell_type": "code",
      "metadata": {
        "id": "Hywhyl9EpvZd",
        "colab_type": "code",
        "outputId": "30eafc9c-6f04-48ff-c09c-3534f1c2da94",
        "colab": {
          "base_uri": "https://localhost:8080/",
          "height": 459
        }
      },
      "source": [
        "sub_df.sort(F.col(\"incident_number\").desc()).show()"
      ],
      "execution_count": 38,
      "outputs": [
        {
          "output_type": "stream",
          "text": [
            "+---------------+---------------+--------------------+-------------------+-----------+\n",
            "|incident_number|exposure_number|             address|      incident_date|call_number|\n",
            "+---------------+---------------+--------------------+-------------------+-----------+\n",
            "|       19146248|              0|     21 Loyola Trail|2019-12-05 00:00:00|  193390662|\n",
            "|       19146229|              0|    227 Grant Avenue|2019-12-05 00:00:00|  193390501|\n",
            "|       19146220|              0|915 Golden Gate A...|2019-12-05 00:00:00|  193390407|\n",
            "|       19146215|              0|925 Golden Gate A...|2019-12-05 00:00:00|  193390376|\n",
            "|       19146202|              0|    1485 Pine Street|2019-12-05 00:00:00|  193390291|\n",
            "|       19146198|              0|   1430 Scott Street|2019-12-05 00:00:00|  193390273|\n",
            "|       19146193|              0|   1430 Scott Street|2019-12-05 00:00:00|  193390205|\n",
            "|       19146188|              0|      190 9th Street|2019-12-05 00:00:00|  193390184|\n",
            "|       19146182|              0|       Church Street|2019-12-05 00:00:00|  193390165|\n",
            "|       19146165|              0| 619 Holloway Avenue|2019-12-05 00:00:00|  193390050|\n",
            "|       19146158|              0|    3351 23rd Street|2019-12-05 00:00:00|  193390013|\n",
            "|       19146157|              0|    1640 Lyon Street|2019-12-05 00:00:00|  193390007|\n",
            "|       19146152|              0|  230 Grattan Street|2019-12-04 00:00:00|  193384547|\n",
            "|       19146145|              0|  500 Corbett Avenue|2019-12-04 00:00:00|  193384507|\n",
            "|       19146143|              0|1635 Divisadero S...|2019-12-04 00:00:00|  193384493|\n",
            "|       19146131|              0|         Eddy Street|2019-12-04 00:00:00|  193384387|\n",
            "|       19146119|              0|   841 Larkin Street|2019-12-04 00:00:00|  193384253|\n",
            "|       19146116|              0|       Taylor Street|2019-12-04 00:00:00|  193384245|\n",
            "|       19146091|              0|  240 Dolores St 217|2019-12-04 00:00:00|  193384030|\n",
            "|       19146090|              0| 1650 Mission Street|2019-12-04 00:00:00|  193384016|\n",
            "+---------------+---------------+--------------------+-------------------+-----------+\n",
            "only showing top 20 rows\n",
            "\n"
          ],
          "name": "stdout"
        }
      ]
    },
    {
      "cell_type": "markdown",
      "metadata": {
        "id": "7aYb08UNrew1",
        "colab_type": "text"
      },
      "source": [
        "### Order by 2 or more columns"
      ]
    },
    {
      "cell_type": "code",
      "metadata": {
        "id": "yZaWJZ74pLpi",
        "colab_type": "code",
        "outputId": "9e25f071-b290-43be-824f-2a5fa243af40",
        "colab": {
          "base_uri": "https://localhost:8080/",
          "height": 459
        }
      },
      "source": [
        "sub_df.sort([\"incident_number\",\"address\"],ascending=[True,False]).show()"
      ],
      "execution_count": 39,
      "outputs": [
        {
          "output_type": "stream",
          "text": [
            "+---------------+---------------+--------------------+-------------------+-----------+\n",
            "|incident_number|exposure_number|             address|      incident_date|call_number|\n",
            "+---------------+---------------+--------------------+-------------------+-----------+\n",
            "|        3000001|              0|       1301 Turk St.|2003-07-08 00:00:00|   31890183|\n",
            "|        3000003|              0|Broadway St. / Ta...|2003-01-01 00:00:00|   30010002|\n",
            "|        3000006|              0|Market St. / Spea...|2003-01-01 00:00:00|   30010005|\n",
            "|        3000007|              0|3rd St. / Harriso...|2003-01-01 00:00:00|   30010007|\n",
            "|        3000014|              0|33rd Av. / Norieg...|2003-01-01 00:00:00|   30010016|\n",
            "|        3000016|              0|        291 10th St.|2003-01-01 00:00:00|   30010019|\n",
            "|        3000018|              0|11th St. / Howard...|2003-01-01 00:00:00|   30010023|\n",
            "|        3000020|              0|3rd St. / Howard St.|2003-01-01 00:00:00|   30010028|\n",
            "|        3000021|              0|300 The Embarcade...|2003-01-01 00:00:00|   30010025|\n",
            "|        3000022|              0|      1439 Treat Wy.|2003-01-01 00:00:00|   30010031|\n",
            "|        3000025|              0|   2 Henry Adams St.|2003-01-01 00:00:00|   30010036|\n",
            "|        3000026|              0|Folsom St. / The ...|2003-01-01 00:00:00|   30010039|\n",
            "|        3000027|              0|        2 Parker Av.|2003-01-01 00:00:00|   30010041|\n",
            "|        3000040|              0|Ellis St. / Hyde St.|2003-01-01 00:00:00|   30010056|\n",
            "|        3000042|              0|Stockton St. / Su...|2003-01-01 00:00:00|   30010059|\n",
            "|        3000058|              0|Coleridge St. / E...|2003-01-01 00:00:00|   30010076|\n",
            "|        3000059|              0|Front St. / Valle...|2003-01-01 00:00:00|   30010077|\n",
            "|        3000060|              0|26th St. / Folsom...|2003-01-01 00:00:00|   30010078|\n",
            "|        3000061|              0|   1250 Columbus Av.|2003-01-01 00:00:00|   30010080|\n",
            "|        3000062|              0|        300 Broadway|2003-01-01 00:00:00|   30010081|\n",
            "+---------------+---------------+--------------------+-------------------+-----------+\n",
            "only showing top 20 rows\n",
            "\n"
          ],
          "name": "stdout"
        }
      ]
    },
    {
      "cell_type": "markdown",
      "metadata": {
        "id": "1IvvP8sFpbkR",
        "colab_type": "text"
      },
      "source": [
        "###GroupBy"
      ]
    },
    {
      "cell_type": "markdown",
      "metadata": {
        "id": "xHewuuQArofi",
        "colab_type": "text"
      },
      "source": [
        "The groupBy allows us to obtain different results and statistics"
      ]
    },
    {
      "cell_type": "code",
      "metadata": {
        "id": "mIFmjkJSr4wA",
        "colab_type": "code",
        "outputId": "54d609a7-c1a8-4985-fecd-769feffa5786",
        "colab": {
          "base_uri": "https://localhost:8080/",
          "height": 459
        }
      },
      "source": [
        "sub_df.groupBy(\"address\").count().show()"
      ],
      "execution_count": 40,
      "outputs": [
        {
          "output_type": "stream",
          "text": [
            "+--------------------+-----+\n",
            "|             address|count|\n",
            "+--------------------+-----+\n",
            "| 180 Beaumont Avenue|    2|\n",
            "|  1329 Gilman Avenue|    1|\n",
            "|   1600 Filbert St 3|    1|\n",
            "|  895 Pacific Av 432|    1|\n",
            "|    231 Wilde Avenue|    1|\n",
            "|         5 Lenox Way|   14|\n",
            "|    859 Baker Street|    2|\n",
            "|    250 Clara Street|    5|\n",
            "|       Larkin Street|   71|\n",
            "|    125 Cambon Dr 12|    5|\n",
            "|550 Buena Vista A...|   27|\n",
            "|  800 Indiana St 375|    1|\n",
            "|    603 Mason Street|   21|\n",
            "|       375 10th Av 2|    1|\n",
            "|   300 Toland Street|    3|\n",
            "|    1541 12th Avenue|   33|\n",
            "|    678 Green Street|    5|\n",
            "|          Bay Bridge|    5|\n",
            "|      Avenue B  East|    1|\n",
            "|    605 Jones Street|    8|\n",
            "+--------------------+-----+\n",
            "only showing top 20 rows\n",
            "\n"
          ],
          "name": "stdout"
        }
      ]
    },
    {
      "cell_type": "code",
      "metadata": {
        "id": "crFchXFusc--",
        "colab_type": "code",
        "outputId": "ffb4b8ba-2082-4dea-e4ec-b5dda2d59e64",
        "colab": {
          "base_uri": "https://localhost:8080/",
          "height": 459
        }
      },
      "source": [
        "sub_df.groupBy(\"address\").agg({\"incident_number\":\"mean\"}).show()"
      ],
      "execution_count": 41,
      "outputs": [
        {
          "output_type": "stream",
          "text": [
            "+--------------------+--------------------+\n",
            "|             address|avg(incident_number)|\n",
            "+--------------------+--------------------+\n",
            "| 180 Beaumont Avenue|        1.80801035E7|\n",
            "|  1329 Gilman Avenue|         1.9144015E7|\n",
            "|   1600 Filbert St 3|          1.914133E7|\n",
            "|  895 Pacific Av 432|         1.9140387E7|\n",
            "|    231 Wilde Avenue|         1.9139957E7|\n",
            "|         5 Lenox Way| 1.664830657142857E7|\n",
            "|    859 Baker Street|          1.860605E7|\n",
            "|    250 Clara Street|        1.75013382E7|\n",
            "|       Larkin Street| 1.862224366197183E7|\n",
            "|    125 Cambon Dr 12|         1.8881239E7|\n",
            "|550 Buena Vista A...|1.8285991814814813E7|\n",
            "|  800 Indiana St 375|         1.9133007E7|\n",
            "|    603 Mason Street| 1.739179685714286E7|\n",
            "|       375 10th Av 2|         1.9125047E7|\n",
            "|   300 Toland Street|1.7767253333333332E7|\n",
            "|    1541 12th Avenue|1.6780718272727273E7|\n",
            "|    678 Green Street|        1.72614326E7|\n",
            "|          Bay Bridge|        1.70701634E7|\n",
            "|      Avenue B  East|         1.9110928E7|\n",
            "|    605 Jones Street|      1.7594864875E7|\n",
            "+--------------------+--------------------+\n",
            "only showing top 20 rows\n",
            "\n"
          ],
          "name": "stdout"
        }
      ]
    },
    {
      "cell_type": "markdown",
      "metadata": {
        "id": "GU4QT6LnuB0s",
        "colab_type": "text"
      },
      "source": [
        "####Group doing different operations"
      ]
    },
    {
      "cell_type": "code",
      "metadata": {
        "id": "P6qJECsZwNvl",
        "colab_type": "code",
        "outputId": "fcd7d124-3ee5-48ee-b03d-371ef2793dab",
        "colab": {
          "base_uri": "https://localhost:8080/",
          "height": 459
        }
      },
      "source": [
        "sub_df.groupBy(\"address\").agg(F.min(\"incident_number\"),\n",
        "                              F.mean(\"incident_number\").alias(\"mean_indicent\"),\n",
        "                              F.max(\"incident_number\")).show()"
      ],
      "execution_count": 42,
      "outputs": [
        {
          "output_type": "stream",
          "text": [
            "+--------------------+--------------------+--------------------+--------------------+\n",
            "|             address|min(incident_number)|       mean_indicent|max(incident_number)|\n",
            "+--------------------+--------------------+--------------------+--------------------+\n",
            "| 180 Beaumont Avenue|            17015833|        1.80801035E7|            19144374|\n",
            "|  1329 Gilman Avenue|            19144015|         1.9144015E7|            19144015|\n",
            "|   1600 Filbert St 3|            19141330|          1.914133E7|            19141330|\n",
            "|  895 Pacific Av 432|            19140387|         1.9140387E7|            19140387|\n",
            "|    231 Wilde Avenue|            19139957|         1.9139957E7|            19139957|\n",
            "|         5 Lenox Way|            14050587| 1.664830657142857E7|            19139933|\n",
            "|    859 Baker Street|            18073271|          1.860605E7|            19138829|\n",
            "|    250 Clara Street|            15115183|        1.75013382E7|            19138297|\n",
            "|       Larkin Street|            18014418| 1.862224366197183E7|            19135866|\n",
            "|    125 Cambon Dr 12|            18139306|         1.8881239E7|            19133296|\n",
            "|550 Buena Vista A...|            17115525|1.8285991814814813E7|            19133054|\n",
            "|  800 Indiana St 375|            19133007|         1.9133007E7|            19133007|\n",
            "|    603 Mason Street|            14020149| 1.739179685714286E7|            19127701|\n",
            "|       375 10th Av 2|            19125047|         1.9125047E7|            19125047|\n",
            "|   300 Toland Street|            15131539|1.7767253333333332E7|            19118405|\n",
            "|    1541 12th Avenue|            14071398|1.6780718272727273E7|            19118363|\n",
            "|    678 Green Street|            14073540|        1.72614326E7|            19116512|\n",
            "|          Bay Bridge|            14048364|        1.70701634E7|            19113726|\n",
            "|      Avenue B  East|            19110928|         1.9110928E7|            19110928|\n",
            "|    605 Jones Street|            17051392|      1.7594864875E7|            19110152|\n",
            "+--------------------+--------------------+--------------------+--------------------+\n",
            "only showing top 20 rows\n",
            "\n"
          ],
          "name": "stdout"
        }
      ]
    },
    {
      "cell_type": "markdown",
      "metadata": {
        "id": "MXsNPscUzeAo",
        "colab_type": "text"
      },
      "source": [
        "####Group and filter"
      ]
    },
    {
      "cell_type": "code",
      "metadata": {
        "id": "iGp5d6JMyDoB",
        "colab_type": "code",
        "outputId": "52e4857d-9574-487a-9bbc-f9fbddcb8707",
        "colab": {
          "base_uri": "https://localhost:8080/",
          "height": 459
        }
      },
      "source": [
        "sub_df.groupBy(\"address\",\n",
        "               \"incident_date\").agg(F.count(\"call_number\").alias(\"count\")).filter(F.col(\"count\")>1).show()"
      ],
      "execution_count": 43,
      "outputs": [
        {
          "output_type": "stream",
          "text": [
            "+--------------------+-------------------+-----+\n",
            "|             address|      incident_date|count|\n",
            "+--------------------+-------------------+-----+\n",
            "|         6 Cargo Way|2019-08-12 00:00:00|    2|\n",
            "|364 Divisadero St...|2019-08-10 00:00:00|    2|\n",
            "|     55 Union Street|2019-06-16 00:00:00|    2|\n",
            "|    125 Cambon Drive|2019-05-07 00:00:00|    2|\n",
            "|    480 Ellis St 245|2019-02-03 00:00:00|    2|\n",
            "|       28 2nd Street|2019-02-02 00:00:00|    2|\n",
            "|  44 Woodland Avenue|2019-01-06 00:00:00|    2|\n",
            "|          Mission St|2018-02-09 00:00:00|    2|\n",
            "|        0 3rd Street|2018-01-21 00:00:00|    2|\n",
            "| 445 Ofarrell Street|2017-12-19 00:00:00|    2|\n",
            "|    540 Jones Street|2017-11-14 00:00:00|    2|\n",
            "|   100 Larkin Street|2016-12-21 00:00:00|    2|\n",
            "|          2nd Street|2019-02-09 00:00:00|    2|\n",
            "|0 Cesar Chavez St...|2017-10-27 00:00:00|    2|\n",
            "|        0 3rd Street|2017-06-01 00:00:00|    3|\n",
            "|    2300 16th Street|2017-05-22 00:00:00|    2|\n",
            "| 240 Stockton Street|2017-05-03 00:00:00|    2|\n",
            "| 1446 Jackson Street|2017-05-01 00:00:00|    2|\n",
            "| 0 California Street|2017-02-11 00:00:00|    2|\n",
            "|    1538 Clay Street|2016-12-20 00:00:00|    2|\n",
            "+--------------------+-------------------+-----+\n",
            "only showing top 20 rows\n",
            "\n"
          ],
          "name": "stdout"
        }
      ]
    },
    {
      "cell_type": "code",
      "metadata": {
        "id": "VyoYL3-nIcBA",
        "colab_type": "code",
        "outputId": "5e5eb877-a0d3-4b28-b9d2-b64c84968eba",
        "colab": {
          "base_uri": "https://localhost:8080/",
          "height": 459
        }
      },
      "source": [
        "sub_df.groupBy(\"address\",\n",
        "               \"incident_date\").count().filter(F.col(\"count\")>1).show()"
      ],
      "execution_count": 44,
      "outputs": [
        {
          "output_type": "stream",
          "text": [
            "+--------------------+-------------------+-----+\n",
            "|             address|      incident_date|count|\n",
            "+--------------------+-------------------+-----+\n",
            "|         6 Cargo Way|2019-08-12 00:00:00|    2|\n",
            "|364 Divisadero St...|2019-08-10 00:00:00|    2|\n",
            "|     55 Union Street|2019-06-16 00:00:00|    2|\n",
            "|    125 Cambon Drive|2019-05-07 00:00:00|    2|\n",
            "|    480 Ellis St 245|2019-02-03 00:00:00|    2|\n",
            "|       28 2nd Street|2019-02-02 00:00:00|    2|\n",
            "|  44 Woodland Avenue|2019-01-06 00:00:00|    2|\n",
            "|          Mission St|2018-02-09 00:00:00|    2|\n",
            "|        0 3rd Street|2018-01-21 00:00:00|    2|\n",
            "| 445 Ofarrell Street|2017-12-19 00:00:00|    2|\n",
            "|    540 Jones Street|2017-11-14 00:00:00|    2|\n",
            "|   100 Larkin Street|2016-12-21 00:00:00|    2|\n",
            "|          2nd Street|2019-02-09 00:00:00|    2|\n",
            "|0 Cesar Chavez St...|2017-10-27 00:00:00|    2|\n",
            "|        0 3rd Street|2017-06-01 00:00:00|    3|\n",
            "|    2300 16th Street|2017-05-22 00:00:00|    2|\n",
            "| 240 Stockton Street|2017-05-03 00:00:00|    2|\n",
            "| 1446 Jackson Street|2017-05-01 00:00:00|    2|\n",
            "| 0 California Street|2017-02-11 00:00:00|    2|\n",
            "|    1538 Clay Street|2016-12-20 00:00:00|    2|\n",
            "+--------------------+-------------------+-----+\n",
            "only showing top 20 rows\n",
            "\n"
          ],
          "name": "stdout"
        }
      ]
    },
    {
      "cell_type": "markdown",
      "metadata": {
        "id": "U-d0Ll2CId2C",
        "colab_type": "text"
      },
      "source": [
        "### Extract the first 1000 rows\n"
      ]
    },
    {
      "cell_type": "code",
      "metadata": {
        "id": "lIGbydbvIcD-",
        "colab_type": "code",
        "colab": {}
      },
      "source": [
        "df_1000 = sub_df.limit(1000)"
      ],
      "execution_count": 0,
      "outputs": []
    },
    {
      "cell_type": "markdown",
      "metadata": {
        "id": "LN8V2ij7JzgI",
        "colab_type": "text"
      },
      "source": [
        "### Union one dataframe over another"
      ]
    },
    {
      "cell_type": "code",
      "metadata": {
        "id": "DX4zjjZKKDxk",
        "colab_type": "code",
        "outputId": "208ed9b6-678c-4848-f019-9ad5509d0c2e",
        "colab": {
          "base_uri": "https://localhost:8080/",
          "height": 34
        }
      },
      "source": [
        "sub_df.count()"
      ],
      "execution_count": 46,
      "outputs": [
        {
          "output_type": "execute_result",
          "data": {
            "text/plain": [
              "513405"
            ]
          },
          "metadata": {
            "tags": []
          },
          "execution_count": 46
        }
      ]
    },
    {
      "cell_type": "code",
      "metadata": {
        "id": "w6Ks9CsAIcHC",
        "colab_type": "code",
        "outputId": "e95f02cd-af18-414f-ae20-5515bc515578",
        "colab": {
          "base_uri": "https://localhost:8080/",
          "height": 34
        }
      },
      "source": [
        "doble_df = sub_df.union(sub_df)\n",
        "doble_df.count()"
      ],
      "execution_count": 47,
      "outputs": [
        {
          "output_type": "execute_result",
          "data": {
            "text/plain": [
              "1026810"
            ]
          },
          "metadata": {
            "tags": []
          },
          "execution_count": 47
        }
      ]
    },
    {
      "cell_type": "markdown",
      "metadata": {
        "id": "XSn0ccn2KI9n",
        "colab_type": "text"
      },
      "source": [
        "### Get the unique number of values in a column"
      ]
    },
    {
      "cell_type": "code",
      "metadata": {
        "id": "DfxLE4oLIbV5",
        "colab_type": "code",
        "outputId": "f52532c9-2ec1-4543-a3a8-615d772702e8",
        "colab": {
          "base_uri": "https://localhost:8080/",
          "height": 34
        }
      },
      "source": [
        "sub_df.select('incident_number').distinct().count()"
      ],
      "execution_count": 48,
      "outputs": [
        {
          "output_type": "execute_result",
          "data": {
            "text/plain": [
              "513049"
            ]
          },
          "metadata": {
            "tags": []
          },
          "execution_count": 48
        }
      ]
    },
    {
      "cell_type": "markdown",
      "metadata": {
        "id": "2U8Bi3yvMtv2",
        "colab_type": "text"
      },
      "source": [
        "### Help ?"
      ]
    },
    {
      "cell_type": "code",
      "metadata": {
        "id": "BJw5gNF9NGtD",
        "colab_type": "code",
        "colab": {}
      },
      "source": [
        "sub_df.where?"
      ],
      "execution_count": 0,
      "outputs": []
    },
    {
      "cell_type": "markdown",
      "metadata": {
        "id": "1SJdsAeLNMG9",
        "colab_type": "text"
      },
      "source": [
        "### Generate random DF"
      ]
    },
    {
      "cell_type": "code",
      "metadata": {
        "id": "QSlLC0WEUeT2",
        "colab_type": "code",
        "colab": {}
      },
      "source": [
        "# We generated two random dfs with half the records. The false is so that there are no duplicates and the seed is so that you always get the same df when you rerun the code\n",
        "df1 = sub_df.sample(False,0.5,seed=5)\n",
        "df2 = sub_df.sample(False,0.5, seed=45)"
      ],
      "execution_count": 0,
      "outputs": []
    },
    {
      "cell_type": "code",
      "metadata": {
        "id": "fPO_NhL4VHRZ",
        "colab_type": "code",
        "outputId": "05dfdbd5-0229-45d5-bb0e-2fe21ef6672b",
        "colab": {
          "base_uri": "https://localhost:8080/",
          "height": 34
        }
      },
      "source": [
        "df1.count()"
      ],
      "execution_count": 51,
      "outputs": [
        {
          "output_type": "execute_result",
          "data": {
            "text/plain": [
              "256545"
            ]
          },
          "metadata": {
            "tags": []
          },
          "execution_count": 51
        }
      ]
    },
    {
      "cell_type": "code",
      "metadata": {
        "id": "N83-949lVJdJ",
        "colab_type": "code",
        "outputId": "7b546acf-b58e-4d2e-c312-266a3a90c93e",
        "colab": {
          "base_uri": "https://localhost:8080/",
          "height": 34
        }
      },
      "source": [
        "df2.count()"
      ],
      "execution_count": 52,
      "outputs": [
        {
          "output_type": "execute_result",
          "data": {
            "text/plain": [
              "256816"
            ]
          },
          "metadata": {
            "tags": []
          },
          "execution_count": 52
        }
      ]
    },
    {
      "cell_type": "markdown",
      "metadata": {
        "id": "1e5fJzcfVKmJ",
        "colab_type": "text"
      },
      "source": [
        "###Join"
      ]
    },
    {
      "cell_type": "markdown",
      "metadata": {
        "id": "6xQn_e9tMdYP",
        "colab_type": "text"
      },
      "source": [
        "[Join types](https://ingenieriadesoftware.es/tipos-sql-join-guia-referencia/)\n",
        "\n",
        "[Explain Join](https://dzone.com/articles/pyspark-join-explained-with-examples)"
      ]
    },
    {
      "cell_type": "markdown",
      "metadata": {
        "id": "RAMOPCrsMKKn",
        "colab_type": "text"
      },
      "source": [
        "#### Inner Join\n",
        "The inner join selects matching records from both of the dataframes"
      ]
    },
    {
      "cell_type": "code",
      "metadata": {
        "id": "8FYgJ0XDOLuy",
        "colab_type": "code",
        "outputId": "873a935b-7565-4906-aaff-a19d38b12610",
        "colab": {
          "base_uri": "https://localhost:8080/",
          "height": 34
        }
      },
      "source": [
        "#Same name join column\n",
        "df1.join(df2,on='incident_number',how='inner').count()"
      ],
      "execution_count": 53,
      "outputs": [
        {
          "output_type": "execute_result",
          "data": {
            "text/plain": [
              "128579"
            ]
          },
          "metadata": {
            "tags": []
          },
          "execution_count": 53
        }
      ]
    },
    {
      "cell_type": "code",
      "metadata": {
        "id": "cFYXfc9pOXSd",
        "colab_type": "code",
        "outputId": "99964aed-e6da-43eb-d9c4-f600cd05ad1d",
        "colab": {
          "base_uri": "https://localhost:8080/",
          "height": 34
        }
      },
      "source": [
        "#In case the name of the column in the tables to be joined is different\n",
        "df1.join(df2,df1.incident_number==df2.incident_number,how='inner').count()"
      ],
      "execution_count": 54,
      "outputs": [
        {
          "output_type": "execute_result",
          "data": {
            "text/plain": [
              "128579"
            ]
          },
          "metadata": {
            "tags": []
          },
          "execution_count": 54
        }
      ]
    },
    {
      "cell_type": "markdown",
      "metadata": {
        "id": "Ln6H53cuQkDq",
        "colab_type": "text"
      },
      "source": [
        "#### Outer join\n",
        "Outer join combines data from both dataframes"
      ]
    },
    {
      "cell_type": "code",
      "metadata": {
        "id": "yEDZ_SrEQqRC",
        "colab_type": "code",
        "outputId": "84c5e5fc-55dc-4183-d9a7-a37a9a6c688d",
        "colab": {
          "base_uri": "https://localhost:8080/",
          "height": 34
        }
      },
      "source": [
        "df1.join(df2,on='incident_number',how='outer').count()"
      ],
      "execution_count": 55,
      "outputs": [
        {
          "output_type": "execute_result",
          "data": {
            "text/plain": [
              "384963"
            ]
          },
          "metadata": {
            "tags": []
          },
          "execution_count": 55
        }
      ]
    },
    {
      "cell_type": "markdown",
      "metadata": {
        "id": "0_fFogvzRECm",
        "colab_type": "text"
      },
      "source": [
        "#### Left join\n",
        "Left join will choose all the data from the left dataframe"
      ]
    },
    {
      "cell_type": "code",
      "metadata": {
        "id": "j1ARDo-3RgRy",
        "colab_type": "code",
        "outputId": "906f2e61-db6a-400b-90ca-c71054b06e67",
        "colab": {
          "base_uri": "https://localhost:8080/",
          "height": 34
        }
      },
      "source": [
        "df1.join(df2,on='incident_number',how='left').count()"
      ],
      "execution_count": 56,
      "outputs": [
        {
          "output_type": "execute_result",
          "data": {
            "text/plain": [
              "256643"
            ]
          },
          "metadata": {
            "tags": []
          },
          "execution_count": 56
        }
      ]
    },
    {
      "cell_type": "code",
      "metadata": {
        "id": "QaZzl_d6SSul",
        "colab_type": "code",
        "outputId": "20854f44-37a4-44eb-8ac5-d5bd28eff270",
        "colab": {
          "base_uri": "https://localhost:8080/",
          "height": 224
        }
      },
      "source": [
        "df1.join(df2,on='incident_number',how='left').show(5)"
      ],
      "execution_count": 57,
      "outputs": [
        {
          "output_type": "stream",
          "text": [
            "+---------------+---------------+--------------------+-------------------+-----------+---------------+--------------------+-------------------+-----------+\n",
            "|incident_number|exposure_number|             address|      incident_date|call_number|exposure_number|             address|      incident_date|call_number|\n",
            "+---------------+---------------+--------------------+-------------------+-----------+---------------+--------------------+-------------------+-----------+\n",
            "|       19146215|              0|925 Golden Gate A...|2019-12-05 00:00:00|  193390376|              0|925 Golden Gate A...|2019-12-05 00:00:00|  193390376|\n",
            "|       19146182|              0|       Church Street|2019-12-05 00:00:00|  193390165|           null|                null|               null|       null|\n",
            "|       19146193|              0|   1430 Scott Street|2019-12-05 00:00:00|  193390205|           null|                null|               null|       null|\n",
            "|       19146229|              0|    227 Grant Avenue|2019-12-05 00:00:00|  193390501|              0|    227 Grant Avenue|2019-12-05 00:00:00|  193390501|\n",
            "|       19146220|              0|915 Golden Gate A...|2019-12-05 00:00:00|  193390407|              0|915 Golden Gate A...|2019-12-05 00:00:00|  193390407|\n",
            "+---------------+---------------+--------------------+-------------------+-----------+---------------+--------------------+-------------------+-----------+\n",
            "only showing top 5 rows\n",
            "\n"
          ],
          "name": "stdout"
        }
      ]
    },
    {
      "cell_type": "markdown",
      "metadata": {
        "id": "XwDWv7pcSOM2",
        "colab_type": "text"
      },
      "source": [
        "###Get characteristics of a column"
      ]
    },
    {
      "cell_type": "markdown",
      "metadata": {
        "id": "GuUcI4NyT7xd",
        "colab_type": "text"
      },
      "source": [
        "#### Min Value"
      ]
    },
    {
      "cell_type": "code",
      "metadata": {
        "id": "Efe8BOBFT_XF",
        "colab_type": "code",
        "outputId": "332fe004-f43a-4833-bc6f-460bf0e00951",
        "colab": {
          "base_uri": "https://localhost:8080/",
          "height": 119
        }
      },
      "source": [
        "sub_df.select(F.min('incident_number')).show()"
      ],
      "execution_count": 58,
      "outputs": [
        {
          "output_type": "stream",
          "text": [
            "+--------------------+\n",
            "|min(incident_number)|\n",
            "+--------------------+\n",
            "|             3000001|\n",
            "+--------------------+\n",
            "\n"
          ],
          "name": "stdout"
        }
      ]
    },
    {
      "cell_type": "markdown",
      "metadata": {
        "id": "OcjU_as8UELl",
        "colab_type": "text"
      },
      "source": [
        "#### Min value with a condition"
      ]
    },
    {
      "cell_type": "code",
      "metadata": {
        "id": "lzn92nouUII7",
        "colab_type": "code",
        "outputId": "9319088e-e43f-4a51-da02-4f1f3d23dd9c",
        "colab": {
          "base_uri": "https://localhost:8080/",
          "height": 119
        }
      },
      "source": [
        "sub_df.select(F.min('incident_number')>10000).show()"
      ],
      "execution_count": 59,
      "outputs": [
        {
          "output_type": "stream",
          "text": [
            "+------------------------------+\n",
            "|(min(incident_number) > 10000)|\n",
            "+------------------------------+\n",
            "|                          true|\n",
            "+------------------------------+\n",
            "\n"
          ],
          "name": "stdout"
        }
      ]
    },
    {
      "cell_type": "markdown",
      "metadata": {
        "id": "Lek7-l27UQui",
        "colab_type": "text"
      },
      "source": [
        "## Speed up the process"
      ]
    },
    {
      "cell_type": "markdown",
      "metadata": {
        "id": "agR5xr1fUeU2",
        "colab_type": "text"
      },
      "source": [
        "### Normal situation"
      ]
    },
    {
      "cell_type": "code",
      "metadata": {
        "id": "YTSB3i6zUmMu",
        "colab_type": "code",
        "outputId": "58c28501-c845-4def-ae20-04961f01c60a",
        "colab": {
          "base_uri": "https://localhost:8080/",
          "height": 51
        }
      },
      "source": [
        "%%time\n",
        "aux=fire_df.filter(F.col('call_number')>10365749)\n",
        "aux.select(\"address\").distinct().count()"
      ],
      "execution_count": 60,
      "outputs": [
        {
          "output_type": "stream",
          "text": [
            "CPU times: user 2.87 ms, sys: 724 µs, total: 3.59 ms\n",
            "Wall time: 4.35 s\n"
          ],
          "name": "stdout"
        }
      ]
    },
    {
      "cell_type": "markdown",
      "metadata": {
        "id": "QDfwFxWHVBcT",
        "colab_type": "text"
      },
      "source": [
        "### Persist"
      ]
    },
    {
      "cell_type": "code",
      "metadata": {
        "id": "uzqxl7ikU-k0",
        "colab_type": "code",
        "outputId": "62fb9a62-baea-4f3d-f445-373694bc1e65",
        "colab": {
          "base_uri": "https://localhost:8080/",
          "height": 54
        }
      },
      "source": [
        "fire_df.persist()"
      ],
      "execution_count": 61,
      "outputs": [
        {
          "output_type": "execute_result",
          "data": {
            "text/plain": [
              "DataFrame[incident_number: int, exposure_number: int, address: string, incident_date: timestamp, call_number: int, alarm_dttm: timestamp, arrival_dttm: timestamp, close_dttm: timestamp, city: string, zipcode: int, battalion: string, station_area: string, box: string, suppression_units: int, suppression_personnel: int, ems_units: int, ems_personnel: int, other_units: int, other_personnel: int, first_unit_on_scene: string, estimated_property_loss: int, estimated_contents_loss: double, fire_fatalities: int, fire_injuries: int, civilian_fatalities: int, civilian_injuries: int, number_of_alarms: string, primary_situation: string, mutual_aid: string, action_taken_primary: string, action_taken_secondary: string, action_taken_other: string, detector_alerted_occupants: string, property_use: string, area_of_fire_origin: string, ignition_cause: string, ignition_factor_primary: string, ignition_factor_secondary: string, heat_source: string, item_first_ignited: string, human_factors_associated_with_ignition: string, structure_type: string, structure_status: string, floor_of_fire_origin: int, fire_spread: string, no_flame_spead: string, number_of_floors_with_minimum_damage: int, number_of_floors_with_significant_damage: int, number_of_floors_with_heavy_damage: int, number_of_floors_with_extreme_damage: int, detectors_present: string, detector_type: string, detector_operation: string, detector_effectiveness: string, detector_failure_reason: string, automatic_extinguishing_system_present: string, automatic_extinguishing_sytem_type: string, automatic_extinguishing_sytem_perfomance: string, automatic_extinguishing_sytem_failure_reason: string, number_of_sprinkler_heads_operating: int, supervisor_district: int, neighborhood__district: string, location: string]"
            ]
          },
          "metadata": {
            "tags": []
          },
          "execution_count": 61
        }
      ]
    },
    {
      "cell_type": "code",
      "metadata": {
        "id": "ru-r3wwyVMBC",
        "colab_type": "code",
        "outputId": "7f3e850d-ba43-4834-bb2c-e96dd6e08db0",
        "colab": {
          "base_uri": "https://localhost:8080/",
          "height": 51
        }
      },
      "source": [
        "%%time\n",
        "aux=fire_df.filter(F.col('call_number')>10365749)\n",
        "aux.select(\"address\").distinct().count()"
      ],
      "execution_count": 62,
      "outputs": [
        {
          "output_type": "stream",
          "text": [
            "CPU times: user 10 ms, sys: 983 µs, total: 11 ms\n",
            "Wall time: 44.7 s\n"
          ],
          "name": "stdout"
        }
      ]
    },
    {
      "cell_type": "code",
      "metadata": {
        "id": "MdTQrk4TVPNR",
        "colab_type": "code",
        "outputId": "8136e13f-e28c-46eb-92f8-a9f959648368",
        "colab": {
          "base_uri": "https://localhost:8080/",
          "height": 54
        }
      },
      "source": [
        "fire_df.unpersist()"
      ],
      "execution_count": 63,
      "outputs": [
        {
          "output_type": "execute_result",
          "data": {
            "text/plain": [
              "DataFrame[incident_number: int, exposure_number: int, address: string, incident_date: timestamp, call_number: int, alarm_dttm: timestamp, arrival_dttm: timestamp, close_dttm: timestamp, city: string, zipcode: int, battalion: string, station_area: string, box: string, suppression_units: int, suppression_personnel: int, ems_units: int, ems_personnel: int, other_units: int, other_personnel: int, first_unit_on_scene: string, estimated_property_loss: int, estimated_contents_loss: double, fire_fatalities: int, fire_injuries: int, civilian_fatalities: int, civilian_injuries: int, number_of_alarms: string, primary_situation: string, mutual_aid: string, action_taken_primary: string, action_taken_secondary: string, action_taken_other: string, detector_alerted_occupants: string, property_use: string, area_of_fire_origin: string, ignition_cause: string, ignition_factor_primary: string, ignition_factor_secondary: string, heat_source: string, item_first_ignited: string, human_factors_associated_with_ignition: string, structure_type: string, structure_status: string, floor_of_fire_origin: int, fire_spread: string, no_flame_spead: string, number_of_floors_with_minimum_damage: int, number_of_floors_with_significant_damage: int, number_of_floors_with_heavy_damage: int, number_of_floors_with_extreme_damage: int, detectors_present: string, detector_type: string, detector_operation: string, detector_effectiveness: string, detector_failure_reason: string, automatic_extinguishing_system_present: string, automatic_extinguishing_sytem_type: string, automatic_extinguishing_sytem_perfomance: string, automatic_extinguishing_sytem_failure_reason: string, number_of_sprinkler_heads_operating: int, supervisor_district: int, neighborhood__district: string, location: string]"
            ]
          },
          "metadata": {
            "tags": []
          },
          "execution_count": 63
        }
      ]
    },
    {
      "cell_type": "markdown",
      "metadata": {
        "id": "QCGsvSuxVwZ0",
        "colab_type": "text"
      },
      "source": [
        "The persist allows you to execute commands more quickly (That´s not the case!!!!!)"
      ]
    },
    {
      "cell_type": "markdown",
      "metadata": {
        "id": "teufggwhWEvx",
        "colab_type": "text"
      },
      "source": [
        "## New fields"
      ]
    },
    {
      "cell_type": "markdown",
      "metadata": {
        "id": "BtdLuOOlXm_x",
        "colab_type": "text"
      },
      "source": [
        "###New fields from other columns"
      ]
    },
    {
      "cell_type": "code",
      "metadata": {
        "id": "q7J95_aKXrPq",
        "colab_type": "code",
        "outputId": "539becff-9e10-4361-f2df-6151a9c4ac79",
        "colab": {
          "base_uri": "https://localhost:8080/",
          "height": 459
        }
      },
      "source": [
        "sub_df.withColumn('new_col',\n",
        "                  F.col('incident_number')+F.col(\"call_number\")).show()"
      ],
      "execution_count": 64,
      "outputs": [
        {
          "output_type": "stream",
          "text": [
            "+---------------+---------------+--------------------+-------------------+-----------+---------+\n",
            "|incident_number|exposure_number|             address|      incident_date|call_number|  new_col|\n",
            "+---------------+---------------+--------------------+-------------------+-----------+---------+\n",
            "|       19146215|              0|925 Golden Gate A...|2019-12-05 00:00:00|  193390376|212536591|\n",
            "|       19146165|              0| 619 Holloway Avenue|2019-12-05 00:00:00|  193390050|212536215|\n",
            "|       19146202|              0|    1485 Pine Street|2019-12-05 00:00:00|  193390291|212536493|\n",
            "|       19146182|              0|       Church Street|2019-12-05 00:00:00|  193390165|212536347|\n",
            "|       19146193|              0|   1430 Scott Street|2019-12-05 00:00:00|  193390205|212536398|\n",
            "|       19146198|              0|   1430 Scott Street|2019-12-05 00:00:00|  193390273|212536471|\n",
            "|       19146158|              0|    3351 23rd Street|2019-12-05 00:00:00|  193390013|212536171|\n",
            "|       19146229|              0|    227 Grant Avenue|2019-12-05 00:00:00|  193390501|212536730|\n",
            "|       19146220|              0|915 Golden Gate A...|2019-12-05 00:00:00|  193390407|212536627|\n",
            "|       19146248|              0|     21 Loyola Trail|2019-12-05 00:00:00|  193390662|212536910|\n",
            "|       19146188|              0|      190 9th Street|2019-12-05 00:00:00|  193390184|212536372|\n",
            "|       19146157|              0|    1640 Lyon Street|2019-12-05 00:00:00|  193390007|212536164|\n",
            "|       19146017|              0|     171 Fell Street|2019-12-04 00:00:00|  193383350|212529367|\n",
            "|       19145960|              0|    298 Red Rock Way|2019-12-04 00:00:00|  193382790|212528750|\n",
            "|       19146145|              0|  500 Corbett Avenue|2019-12-04 00:00:00|  193384507|212530652|\n",
            "|       19145869|              0|      Potrero Avenue|2019-12-04 00:00:00|  193381856|212527725|\n",
            "|       19146116|              0|       Taylor Street|2019-12-04 00:00:00|  193384245|212530361|\n",
            "|       19145776|              0| 658 Shotwell Street|2019-12-04 00:00:00|  193380864|212526640|\n",
            "|       19145911|              0| 316 Schwerin Street|2019-12-04 00:00:00|  193382251|212528162|\n",
            "|       19145681|              0|1940 Harrison Street|2019-12-04 00:00:00|  193380093|212525774|\n",
            "+---------------+---------------+--------------------+-------------------+-----------+---------+\n",
            "only showing top 20 rows\n",
            "\n"
          ],
          "name": "stdout"
        }
      ]
    },
    {
      "cell_type": "markdown",
      "metadata": {
        "id": "3WFxZ3TJX1y4",
        "colab_type": "text"
      },
      "source": [
        "### New field always with the same value"
      ]
    },
    {
      "cell_type": "code",
      "metadata": {
        "id": "e_ODPC_XYtP-",
        "colab_type": "code",
        "outputId": "b804868e-7482-4d87-efaa-8fc85bf4634f",
        "colab": {
          "base_uri": "https://localhost:8080/",
          "height": 459
        }
      },
      "source": [
        "sub_df.withColumn('ones',\n",
        "                  F.lit(1)).show()"
      ],
      "execution_count": 65,
      "outputs": [
        {
          "output_type": "stream",
          "text": [
            "+---------------+---------------+--------------------+-------------------+-----------+----+\n",
            "|incident_number|exposure_number|             address|      incident_date|call_number|ones|\n",
            "+---------------+---------------+--------------------+-------------------+-----------+----+\n",
            "|       19146215|              0|925 Golden Gate A...|2019-12-05 00:00:00|  193390376|   1|\n",
            "|       19146165|              0| 619 Holloway Avenue|2019-12-05 00:00:00|  193390050|   1|\n",
            "|       19146202|              0|    1485 Pine Street|2019-12-05 00:00:00|  193390291|   1|\n",
            "|       19146182|              0|       Church Street|2019-12-05 00:00:00|  193390165|   1|\n",
            "|       19146193|              0|   1430 Scott Street|2019-12-05 00:00:00|  193390205|   1|\n",
            "|       19146198|              0|   1430 Scott Street|2019-12-05 00:00:00|  193390273|   1|\n",
            "|       19146158|              0|    3351 23rd Street|2019-12-05 00:00:00|  193390013|   1|\n",
            "|       19146229|              0|    227 Grant Avenue|2019-12-05 00:00:00|  193390501|   1|\n",
            "|       19146220|              0|915 Golden Gate A...|2019-12-05 00:00:00|  193390407|   1|\n",
            "|       19146248|              0|     21 Loyola Trail|2019-12-05 00:00:00|  193390662|   1|\n",
            "|       19146188|              0|      190 9th Street|2019-12-05 00:00:00|  193390184|   1|\n",
            "|       19146157|              0|    1640 Lyon Street|2019-12-05 00:00:00|  193390007|   1|\n",
            "|       19146017|              0|     171 Fell Street|2019-12-04 00:00:00|  193383350|   1|\n",
            "|       19145960|              0|    298 Red Rock Way|2019-12-04 00:00:00|  193382790|   1|\n",
            "|       19146145|              0|  500 Corbett Avenue|2019-12-04 00:00:00|  193384507|   1|\n",
            "|       19145869|              0|      Potrero Avenue|2019-12-04 00:00:00|  193381856|   1|\n",
            "|       19146116|              0|       Taylor Street|2019-12-04 00:00:00|  193384245|   1|\n",
            "|       19145776|              0| 658 Shotwell Street|2019-12-04 00:00:00|  193380864|   1|\n",
            "|       19145911|              0| 316 Schwerin Street|2019-12-04 00:00:00|  193382251|   1|\n",
            "|       19145681|              0|1940 Harrison Street|2019-12-04 00:00:00|  193380093|   1|\n",
            "+---------------+---------------+--------------------+-------------------+-----------+----+\n",
            "only showing top 20 rows\n",
            "\n"
          ],
          "name": "stdout"
        }
      ]
    },
    {
      "cell_type": "markdown",
      "metadata": {
        "id": "wvP-IAkkZZfw",
        "colab_type": "text"
      },
      "source": [
        "### Complex fields"
      ]
    },
    {
      "cell_type": "code",
      "metadata": {
        "id": "SMNzU8q8Ze4P",
        "colab_type": "code",
        "colab": {}
      },
      "source": [
        "#First define the function\n",
        "def square(value):\n",
        "  return value**2"
      ],
      "execution_count": 0,
      "outputs": []
    },
    {
      "cell_type": "code",
      "metadata": {
        "id": "JW7ybqzoZy3Q",
        "colab_type": "code",
        "colab": {}
      },
      "source": [
        "#Second udf and define the type\n",
        "square_udf=F.udf(square,T.IntegerType())"
      ],
      "execution_count": 0,
      "outputs": []
    },
    {
      "cell_type": "code",
      "metadata": {
        "id": "jzDXY5TiaAqa",
        "colab_type": "code",
        "outputId": "a582e86e-2205-490f-dbe3-db54e7d4be09",
        "colab": {
          "base_uri": "https://localhost:8080/",
          "height": 459
        }
      },
      "source": [
        "#Third, create the field\n",
        "sub_df=sub_df.withColumn('square_col',\n",
        "                         square_udf('call_number'))\n",
        "sub_df.show()"
      ],
      "execution_count": 68,
      "outputs": [
        {
          "output_type": "stream",
          "text": [
            "+---------------+---------------+--------------------+-------------------+-----------+-----------+\n",
            "|incident_number|exposure_number|             address|      incident_date|call_number| square_col|\n",
            "+---------------+---------------+--------------------+-------------------+-----------+-----------+\n",
            "|       19146215|              0|925 Golden Gate A...|2019-12-05 00:00:00|  193390376| 1050228288|\n",
            "|       19146165|              0| 619 Holloway Avenue|2019-12-05 00:00:00|  193390050| -486139004|\n",
            "|       19146202|              0|    1485 Pine Street|2019-12-05 00:00:00|  193390291|-1761357335|\n",
            "|       19146182|              0|       Church Street|2019-12-05 00:00:00|  193390165| 1043912761|\n",
            "|       19146193|              0|   1430 Scott Street|2019-12-05 00:00:00|  193390205| -664741623|\n",
            "|       19146198|              0|   1430 Scott Street|2019-12-05 00:00:00|  193390273| -133472895|\n",
            "|       19146158|              0|    3351 23rd Street|2019-12-05 00:00:00|  193390013|-1912099447|\n",
            "|       19146229|              0|    227 Grant Avenue|2019-12-05 00:00:00|  193390501|-2141769639|\n",
            "|       19146220|              0|915 Golden Gate A...|2019-12-05 00:00:00|  193390407|  155530673|\n",
            "|       19146248|              0|     21 Loyola Trail|2019-12-05 00:00:00|  193390662|     455460|\n",
            "|       19146188|              0|      190 9th Street|2019-12-05 00:00:00|  193390184| -197195200|\n",
            "|       19146157|              0|    1640 Lyon Street|2019-12-05 00:00:00|  193390007|   62187729|\n",
            "|       19146017|              0|     171 Fell Street|2019-12-04 00:00:00|  193383350|-2002639516|\n",
            "|       19145960|              0|    298 Red Rock Way|2019-12-04 00:00:00|  193382790|  451654180|\n",
            "|       19146145|              0|  500 Corbett Avenue|2019-12-04 00:00:00|  193384507|-1188827751|\n",
            "|       19145869|              0|      Potrero Avenue|2019-12-04 00:00:00|  193381856|   -9272320|\n",
            "|       19146116|              0|       Taylor Street|2019-12-04 00:00:00|  193384245|  556974329|\n",
            "|       19145776|              0| 658 Shotwell Street|2019-12-04 00:00:00|  193380864|-1425801216|\n",
            "|       19145911|              0| 316 Schwerin Street|2019-12-04 00:00:00|  193382251|-1856272711|\n",
            "|       19145681|              0|1940 Harrison Street|2019-12-04 00:00:00|  193380093| 1029211657|\n",
            "+---------------+---------------+--------------------+-------------------+-----------+-----------+\n",
            "only showing top 20 rows\n",
            "\n"
          ],
          "name": "stdout"
        }
      ]
    },
    {
      "cell_type": "code",
      "metadata": {
        "id": "5TkG-ZOaaZ6e",
        "colab_type": "code",
        "outputId": "6fe4e526-8ffb-4008-e81a-cc65ed5498c9",
        "colab": {
          "base_uri": "https://localhost:8080/",
          "height": 153
        }
      },
      "source": [
        "sub_df.printSchema()"
      ],
      "execution_count": 69,
      "outputs": [
        {
          "output_type": "stream",
          "text": [
            "root\n",
            " |-- incident_number: integer (nullable = true)\n",
            " |-- exposure_number: integer (nullable = true)\n",
            " |-- address: string (nullable = true)\n",
            " |-- incident_date: timestamp (nullable = true)\n",
            " |-- call_number: integer (nullable = true)\n",
            " |-- square_col: integer (nullable = true)\n",
            "\n"
          ],
          "name": "stdout"
        }
      ]
    },
    {
      "cell_type": "code",
      "metadata": {
        "id": "P7R3b-yzahAW",
        "colab_type": "code",
        "outputId": "1cf7f632-c286-4c21-857d-2e171a09e0ef",
        "colab": {
          "base_uri": "https://localhost:8080/",
          "height": 153
        }
      },
      "source": [
        "#Change the type\n",
        "sub_df.withColumn('square_col',\n",
        "                  F.col('square_col').cast(T.DoubleType())).printSchema()"
      ],
      "execution_count": 70,
      "outputs": [
        {
          "output_type": "stream",
          "text": [
            "root\n",
            " |-- incident_number: integer (nullable = true)\n",
            " |-- exposure_number: integer (nullable = true)\n",
            " |-- address: string (nullable = true)\n",
            " |-- incident_date: timestamp (nullable = true)\n",
            " |-- call_number: integer (nullable = true)\n",
            " |-- square_col: double (nullable = true)\n",
            "\n"
          ],
          "name": "stdout"
        }
      ]
    }
  ]
}