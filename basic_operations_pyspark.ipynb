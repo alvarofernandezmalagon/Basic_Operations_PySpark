{
  "nbformat": 4,
  "nbformat_minor": 0,
  "metadata": {
    "colab": {
      "name": "basic_operations_pyspark.ipynb",
      "provenance": [],
      "collapsed_sections": [],
      "toc_visible": true,
      "mount_file_id": "1YaIgLWD8gY5itcInkOx3BLRqBWenZwmS",
      "authorship_tag": "ABX9TyP8B8obMDHnYFknGnhUIJqW",
      "include_colab_link": true
    },
    "kernelspec": {
      "name": "python3",
      "display_name": "Python 3"
    }
  },
  "cells": [
    {
      "cell_type": "markdown",
      "metadata": {
        "id": "view-in-github",
        "colab_type": "text"
      },
      "source": [
        "<a href=\"https://colab.research.google.com/github/alvarofernandezmalagon/Basic_Operations_PySpark/blob/master/basic_operations_pyspark.ipynb\" target=\"_parent\"><img src=\"https://colab.research.google.com/assets/colab-badge.svg\" alt=\"Open In Colab\"/></a>"
      ]
    },
    {
      "cell_type": "markdown",
      "metadata": {
        "id": "J3i_6reR9uv9",
        "colab_type": "text"
      },
      "source": [
        "# Objective\n",
        "\n",
        "\n"
      ]
    },
    {
      "cell_type": "markdown",
      "metadata": {
        "id": "Uwxxv_N_DgYs",
        "colab_type": "text"
      },
      "source": [
        "The objective of this notebook is to review the basic functions of pyspark "
      ]
    },
    {
      "cell_type": "markdown",
      "metadata": {
        "id": "9b2ezgU0ABW0",
        "colab_type": "text"
      },
      "source": [
        "# Create the environment of PySpark"
      ]
    },
    {
      "cell_type": "code",
      "metadata": {
        "id": "W6m19Cke9ZYV",
        "colab_type": "code",
        "colab": {}
      },
      "source": [
        "#We have to install Spark and Java in Colab\n",
        "!apt-get install openjdk-8-jdk-headless -qq > /dev/null\n",
        "!wget -q https://www-us.apache.org/dist/spark/spark-2.4.5/spark-2.4.5-bin-hadoop2.7.tgz\n",
        "!tar xf spark-2.4.5-bin-hadoop2.7.tgz\n",
        "!pip install -q findspark"
      ],
      "execution_count": 0,
      "outputs": []
    },
    {
      "cell_type": "code",
      "metadata": {
        "id": "WxjDm-3uARv7",
        "colab_type": "code",
        "colab": {}
      },
      "source": [
        "#It is time to set the environment path that enables us to run PySpark in our Colab environment\n",
        "import os\n",
        "os.environ[\"JAVA_HOME\"] = \"/usr/lib/jvm/java-8-openjdk-amd64\"\n",
        "os.environ[\"SPARK_HOME\"] = \"/content/spark-2.4.5-bin-hadoop2.7\""
      ],
      "execution_count": 0,
      "outputs": []
    },
    {
      "cell_type": "code",
      "metadata": {
        "id": "j3ov86qMBAlb",
        "colab_type": "code",
        "colab": {}
      },
      "source": [
        "#We can run a local spark session to test our installation:\n",
        "import findspark\n",
        "findspark.init()\n",
        "from pyspark.sql import SparkSession\n",
        "spark = SparkSession.builder.master(\"local[*]\").getOrCreate()"
      ],
      "execution_count": 0,
      "outputs": []
    },
    {
      "cell_type": "code",
      "metadata": {
        "id": "41f9FxjcBJbS",
        "colab_type": "code",
        "outputId": "17e6fd9c-2708-479e-e8ff-b227ac47108f",
        "colab": {
          "base_uri": "https://localhost:8080/",
          "height": 216
        }
      },
      "source": [
        "spark"
      ],
      "execution_count": 4,
      "outputs": [
        {
          "output_type": "execute_result",
          "data": {
            "text/html": [
              "\n",
              "            <div>\n",
              "                <p><b>SparkSession - in-memory</b></p>\n",
              "                \n",
              "        <div>\n",
              "            <p><b>SparkContext</b></p>\n",
              "\n",
              "            <p><a href=\"http://adadaa6868e4:4040\">Spark UI</a></p>\n",
              "\n",
              "            <dl>\n",
              "              <dt>Version</dt>\n",
              "                <dd><code>v2.4.5</code></dd>\n",
              "              <dt>Master</dt>\n",
              "                <dd><code>local[*]</code></dd>\n",
              "              <dt>AppName</dt>\n",
              "                <dd><code>pyspark-shell</code></dd>\n",
              "            </dl>\n",
              "        </div>\n",
              "        \n",
              "            </div>\n",
              "        "
            ],
            "text/plain": [
              "<pyspark.sql.session.SparkSession at 0x7f8bd4c0d470>"
            ]
          },
          "metadata": {
            "tags": []
          },
          "execution_count": 4
        }
      ]
    },
    {
      "cell_type": "markdown",
      "metadata": {
        "id": "YCQJ0HQ1OMOO",
        "colab_type": "text"
      },
      "source": [
        "# Get data"
      ]
    },
    {
      "cell_type": "markdown",
      "metadata": {
        "id": "W3_SSaV1Okoa",
        "colab_type": "text"
      },
      "source": [
        "### Get access to Google Drive\n"
      ]
    },
    {
      "cell_type": "code",
      "metadata": {
        "id": "wKKT_waRKNjz",
        "colab_type": "code",
        "colab": {}
      },
      "source": [
        "from google.colab import drive"
      ],
      "execution_count": 0,
      "outputs": []
    },
    {
      "cell_type": "code",
      "metadata": {
        "id": "qpHXCbaBKP7z",
        "colab_type": "code",
        "outputId": "f1119d96-f6dc-425e-cdf0-f58a6e39f662",
        "colab": {
          "base_uri": "https://localhost:8080/",
          "height": 34
        }
      },
      "source": [
        "drive.mount('/content/drive', force_remount=True)"
      ],
      "execution_count": 6,
      "outputs": [
        {
          "output_type": "stream",
          "text": [
            "Mounted at /content/drive\n"
          ],
          "name": "stdout"
        }
      ]
    },
    {
      "cell_type": "markdown",
      "metadata": {
        "id": "ixWSDuk6PFZJ",
        "colab_type": "text"
      },
      "source": [
        "### Change the directory"
      ]
    },
    {
      "cell_type": "code",
      "metadata": {
        "id": "NZKkg7K7PBuB",
        "colab_type": "code",
        "outputId": "d669e584-0adb-40c1-850e-431c1b0e99e6",
        "colab": {
          "base_uri": "https://localhost:8080/",
          "height": 34
        }
      },
      "source": [
        "%cd /content/drive/My Drive/02-Colab/01-PySpark/00-Repaso_Pyspark/01-Script"
      ],
      "execution_count": 7,
      "outputs": [
        {
          "output_type": "stream",
          "text": [
            "/content/drive/My Drive/02-Colab/01-PySpark/00-Repaso_Pyspark/01-Script\n"
          ],
          "name": "stdout"
        }
      ]
    },
    {
      "cell_type": "markdown",
      "metadata": {
        "id": "Lhb691WSPdgB",
        "colab_type": "text"
      },
      "source": [
        "###Unzip the data"
      ]
    },
    {
      "cell_type": "code",
      "metadata": {
        "id": "EOQI_KGfPg6q",
        "colab_type": "code",
        "outputId": "b9d5b3b3-2ba1-4d8c-b31a-4984c0f2b337",
        "colab": {
          "base_uri": "https://localhost:8080/",
          "height": 34
        }
      },
      "source": [
        "!ls ../00-Data"
      ],
      "execution_count": 8,
      "outputs": [
        {
          "output_type": "stream",
          "text": [
            "fire-incidents.csv  fire-incidents.csv.zip\n"
          ],
          "name": "stdout"
        }
      ]
    },
    {
      "cell_type": "code",
      "metadata": {
        "id": "tBKbSN4-P9bs",
        "colab_type": "code",
        "outputId": "ed938950-5b80-4dfe-f521-d2d629d0c85e",
        "colab": {
          "base_uri": "https://localhost:8080/",
          "height": 51
        }
      },
      "source": [
        "!unzip ../00-Data/fire-incidents.csv.zip -d ../00-Data/"
      ],
      "execution_count": 9,
      "outputs": [
        {
          "output_type": "stream",
          "text": [
            "Archive:  ../00-Data/fire-incidents.csv.zip\n",
            "  inflating: ../00-Data/fire-incidents.csv  \n"
          ],
          "name": "stdout"
        }
      ]
    },
    {
      "cell_type": "code",
      "metadata": {
        "id": "EiE25JRhQE2K",
        "colab_type": "code",
        "outputId": "585fe4b2-0355-4f33-ad13-c49d81e529f9",
        "colab": {
          "base_uri": "https://localhost:8080/",
          "height": 68
        }
      },
      "source": [
        "!ls -l ../00-Data"
      ],
      "execution_count": 10,
      "outputs": [
        {
          "output_type": "stream",
          "text": [
            "total 236153\n",
            "-rw------- 1 root root 207085551 Dec  6 12:15 fire-incidents.csv\n",
            "-rw------- 1 root root  34734540 May  5 15:36 fire-incidents.csv.zip\n"
          ],
          "name": "stdout"
        }
      ]
    },
    {
      "cell_type": "markdown",
      "metadata": {
        "id": "kAAA8D-GZxYe",
        "colab_type": "text"
      },
      "source": [
        "#Import libraries"
      ]
    },
    {
      "cell_type": "code",
      "metadata": {
        "id": "6XIorcEHZ1YX",
        "colab_type": "code",
        "colab": {}
      },
      "source": [
        "from pyspark.sql import functions as F\n",
        "from pyspark.sql import types as T"
      ],
      "execution_count": 0,
      "outputs": []
    },
    {
      "cell_type": "markdown",
      "metadata": {
        "id": "SeragLtORUlg",
        "colab_type": "text"
      },
      "source": [
        "#Create the path"
      ]
    },
    {
      "cell_type": "code",
      "metadata": {
        "id": "fqt5OPVjRjW-",
        "colab_type": "code",
        "outputId": "5664b9a8-8b8a-4448-fef2-5ccab74cf42e",
        "colab": {
          "base_uri": "https://localhost:8080/",
          "height": 34
        }
      },
      "source": [
        "filename = 'fire-incidents.csv'\n",
        "data_path = '/content/drive/My Drive/02-Colab/01-PySpark/00-Repaso_Pyspark/00-Data/'+filename\n",
        "print(data_path)"
      ],
      "execution_count": 12,
      "outputs": [
        {
          "output_type": "stream",
          "text": [
            "/content/drive/My Drive/02-Colab/01-PySpark/00-Repaso_Pyspark/00-Data/fire-incidents.csv\n"
          ],
          "name": "stdout"
        }
      ]
    },
    {
      "cell_type": "markdown",
      "metadata": {
        "id": "yGLf0o3rR0Ek",
        "colab_type": "text"
      },
      "source": [
        "#Load data in memory"
      ]
    },
    {
      "cell_type": "code",
      "metadata": {
        "id": "s5-lUyBtSGhw",
        "colab_type": "code",
        "colab": {}
      },
      "source": [
        "fire_df = spark.read.csv(data_path,\n",
        "                         header=True,\n",
        "                         inferSchema=True,\n",
        "                         sep=\",\")"
      ],
      "execution_count": 0,
      "outputs": []
    },
    {
      "cell_type": "code",
      "metadata": {
        "id": "hy48X0O-SPZ2",
        "colab_type": "code",
        "outputId": "b5a81f0e-c5f5-429e-c43e-0561092e22fa",
        "colab": {
          "base_uri": "https://localhost:8080/",
          "height": 224
        }
      },
      "source": [
        "fire_df.show(5,truncate=False)"
      ],
      "execution_count": 14,
      "outputs": [
        {
          "output_type": "stream",
          "text": [
            "+---------------+---------------+----------------------+-------------------+-----------+-------------------+-------------------+-------------------+-------------+-------+---------+------------+----+-----------------+---------------------+---------+-------------+-----------+---------------+-------------------+-----------------------+-----------------------+---------------+-------------+-------------------+-----------------+----------------+----------------------------------------------------+----------+--------------------+----------------------+------------------+--------------------------+---------------------------------------------+-------------------+--------------+-----------------------+-------------------------+-----------+------------------+--------------------------------------+--------------+----------------+--------------------+-----------+--------------+------------------------------------+----------------------------------------+----------------------------------+------------------------------------+-----------------+-------------+------------------+----------------------+-----------------------+--------------------------------------+----------------------------------+----------------------------------------+--------------------------------------------+-----------------------------------+-------------------+--------------------------+--------------------------------------------------------------------------+\n",
            "|Incident Number|Exposure Number|Address               |Incident Date      |Call Number|Alarm DtTm         |Arrival DtTm       |Close DtTm         |City         |Zipcode|Battalion|Station Area|Box |Suppression Units|Suppression Personnel|EMS Units|EMS Personnel|Other Units|Other Personnel|First Unit On Scene|Estimated Property Loss|Estimated Contents Loss|Fire Fatalities|Fire Injuries|Civilian Fatalities|Civilian Injuries|Number of Alarms|Primary Situation                                   |Mutual Aid|Action Taken Primary|Action Taken Secondary|Action Taken Other|Detector Alerted Occupants|Property Use                                 |Area of Fire Origin|Ignition Cause|Ignition Factor Primary|Ignition Factor Secondary|Heat Source|Item First Ignited|Human Factors Associated with Ignition|Structure Type|Structure Status|Floor of Fire Origin|Fire Spread|No Flame Spead|Number of floors with minimum damage|Number of floors with significant damage|Number of floors with heavy damage|Number of floors with extreme damage|Detectors Present|Detector Type|Detector Operation|Detector Effectiveness|Detector Failure Reason|Automatic Extinguishing System Present|Automatic Extinguishing Sytem Type|Automatic Extinguishing Sytem Perfomance|Automatic Extinguishing Sytem Failure Reason|Number of Sprinkler Heads Operating|Supervisor District|Neighborhood  District    |Location                                                                  |\n",
            "+---------------+---------------+----------------------+-------------------+-----------+-------------------+-------------------+-------------------+-------------+-------+---------+------------+----+-----------------+---------------------+---------+-------------+-----------+---------------+-------------------+-----------------------+-----------------------+---------------+-------------+-------------------+-----------------+----------------+----------------------------------------------------+----------+--------------------+----------------------+------------------+--------------------------+---------------------------------------------+-------------------+--------------+-----------------------+-------------------------+-----------+------------------+--------------------------------------+--------------+----------------+--------------------+-----------+--------------+------------------------------------+----------------------------------------+----------------------------------+------------------------------------+-----------------+-------------+------------------+----------------------+-----------------------+--------------------------------------+----------------------------------+----------------------------------------+--------------------------------------------+-----------------------------------+-------------------+--------------------------+--------------------------------------------------------------------------+\n",
            "|19146215       |0              |925 Golden Gate Avenue|2019-12-05 00:00:00|193390376  |2019-12-05 05:12:14|2019-12-05 05:15:22|2019-12-05 05:25:47|San Francisco|94102  |B02      |05          |3411|3                |11                   |0        |0            |0          |0              |null               |null                   |null                   |0              |0            |0                  |0                |null            |730 system malfunction, other                       |n none    |86 investigate      |null                  |null              |null                      |429 multifamily dwelling                     |null               |null          |null                   |null                     |null       |null              |null                                  |null          |null            |null                |null       |na            |null                                |null                                    |null                              |null                                |null             |null         |null              |null                  |null                   |null                                  |null                              |null                                    |null                                        |null                               |5                  |Western Addition          |{'type': 'Point', 'coordinates': [-122.425802, 37.78027800002966]}        |\n",
            "|19146165       |0              |619 Holloway Avenue   |2019-12-05 00:00:00|193390050  |2019-12-05 00:30:33|2019-12-05 00:34:38|2019-12-05 00:48:17|San Francisco|94112  |B09      |15          |8463|3                |11                   |0        |0            |0          |0              |null               |null                   |null                   |0              |0            |0                  |0                |null            |733 smoke detector activation due to malfunction    |n none    |86 investigate      |null                  |null              |null                      |429 multifamily dwelling                     |null               |null          |null                   |null                     |null       |null              |null                                  |null          |null            |null                |null       |na            |null                                |null                                    |null                              |null                                |null             |null         |null              |null                  |null                   |null                                  |null                              |null                                    |null                                        |null                               |11                 |Oceanview/Merced/Ingleside|{'type': 'Point', 'coordinates': [-122.45944600000001, 37.72176900002962]}|\n",
            "|19146202       |0              |1485 Pine Street      |2019-12-05 00:00:00|193390291  |2019-12-05 03:52:19|2019-12-05 03:55:38|2019-12-05 04:05:24|San Francisco|94109  |B04      |41          |3122|3                |10                   |0        |0            |0          |0              |null               |null                   |null                   |0              |0            |0                  |0                |null            |745 alarm system activation, no fire - unintentional|n none    |86 investigate      |null                  |null              |null                      |429 multifamily dwelling                     |null               |null          |null                   |null                     |null       |null              |null                                  |null          |null            |null                |null       |na            |null                                |null                                    |null                              |null                                |null             |null         |null              |null                  |null                   |null                                  |null                              |null                                    |null                                        |null                               |3                  |Nob Hill                  |{'type': 'Point', 'coordinates': [-122.42018599999999, 37.78958900002967]}|\n",
            "|19146182       |0              |Church Street         |2019-12-05 00:00:00|193390165  |2019-12-05 01:55:48|2019-12-05 01:59:37|2019-12-05 02:19:06|San Francisco|94114  |B02      |06          |5127|3                |11                   |0        |0            |0          |0              |null               |null                   |null                   |0              |0            |0                  |0                |null            |700 false alarm or false call, other                |n none    |86 investigate      |null                  |null              |null                      |174 rapid transit station                    |null               |null          |null                   |null                     |null       |null              |null                                  |null          |null            |null                |null       |na            |null                                |null                                    |null                              |null                                |null             |null         |null              |null                  |null                   |null                                  |null                              |null                                    |null                                        |null                               |8                  |Castro/Upper Market       |{'type': 'Point', 'coordinates': [-122.42895000000001, 37.76750200002965]}|\n",
            "|19146193       |0              |1430 Scott Street     |2019-12-05 00:00:00|193390205  |2019-12-05 02:36:59|2019-12-05 02:41:27|2019-12-05 03:03:27|San Francisco|94115  |B04      |05          |0413|3                |10                   |0        |0            |0          |0              |null               |null                   |null                   |0              |0            |0                  |0                |null            |735 alarm system sounded due to malfunction         |n none    |86 investigate      |null                  |null              |null                      |213 elementary school, including kindergarten|null               |null          |null                   |null                     |null       |null              |null                                  |null          |null            |null                |null       |na            |null                                |null                                    |null                              |null                                |null             |null         |null              |null                  |null                   |null                                  |null                              |null                                    |null                                        |null                               |5                  |Western Addition          |{'type': 'Point', 'coordinates': [-122.437025, 37.78322000002966]}        |\n",
            "+---------------+---------------+----------------------+-------------------+-----------+-------------------+-------------------+-------------------+-------------+-------+---------+------------+----+-----------------+---------------------+---------+-------------+-----------+---------------+-------------------+-----------------------+-----------------------+---------------+-------------+-------------------+-----------------+----------------+----------------------------------------------------+----------+--------------------+----------------------+------------------+--------------------------+---------------------------------------------+-------------------+--------------+-----------------------+-------------------------+-----------+------------------+--------------------------------------+--------------+----------------+--------------------+-----------+--------------+------------------------------------+----------------------------------------+----------------------------------+------------------------------------+-----------------+-------------+------------------+----------------------+-----------------------+--------------------------------------+----------------------------------+----------------------------------------+--------------------------------------------+-----------------------------------+-------------------+--------------------------+--------------------------------------------------------------------------+\n",
            "only showing top 5 rows\n",
            "\n"
          ],
          "name": "stdout"
        }
      ]
    },
    {
      "cell_type": "markdown",
      "metadata": {
        "id": "uRTalTPtXRcZ",
        "colab_type": "text"
      },
      "source": [
        "###Get the columns and types"
      ]
    },
    {
      "cell_type": "code",
      "metadata": {
        "id": "yjRyO0MkXvw7",
        "colab_type": "code",
        "outputId": "ba8a7238-c9ae-439b-f644-a32b6b7b5c50",
        "colab": {
          "base_uri": "https://localhost:8080/",
          "height": 1000
        }
      },
      "source": [
        "fire_df.printSchema()"
      ],
      "execution_count": 15,
      "outputs": [
        {
          "output_type": "stream",
          "text": [
            "root\n",
            " |-- Incident Number: integer (nullable = true)\n",
            " |-- Exposure Number: integer (nullable = true)\n",
            " |-- Address: string (nullable = true)\n",
            " |-- Incident Date: timestamp (nullable = true)\n",
            " |-- Call Number: integer (nullable = true)\n",
            " |-- Alarm DtTm: timestamp (nullable = true)\n",
            " |-- Arrival DtTm: timestamp (nullable = true)\n",
            " |-- Close DtTm: timestamp (nullable = true)\n",
            " |-- City: string (nullable = true)\n",
            " |-- Zipcode: integer (nullable = true)\n",
            " |-- Battalion: string (nullable = true)\n",
            " |-- Station Area: string (nullable = true)\n",
            " |-- Box: string (nullable = true)\n",
            " |-- Suppression Units: integer (nullable = true)\n",
            " |-- Suppression Personnel: integer (nullable = true)\n",
            " |-- EMS Units: integer (nullable = true)\n",
            " |-- EMS Personnel: integer (nullable = true)\n",
            " |-- Other Units: integer (nullable = true)\n",
            " |-- Other Personnel: integer (nullable = true)\n",
            " |-- First Unit On Scene: string (nullable = true)\n",
            " |-- Estimated Property Loss: integer (nullable = true)\n",
            " |-- Estimated Contents Loss: double (nullable = true)\n",
            " |-- Fire Fatalities: integer (nullable = true)\n",
            " |-- Fire Injuries: integer (nullable = true)\n",
            " |-- Civilian Fatalities: integer (nullable = true)\n",
            " |-- Civilian Injuries: integer (nullable = true)\n",
            " |-- Number of Alarms: string (nullable = true)\n",
            " |-- Primary Situation: string (nullable = true)\n",
            " |-- Mutual Aid: string (nullable = true)\n",
            " |-- Action Taken Primary: string (nullable = true)\n",
            " |-- Action Taken Secondary: string (nullable = true)\n",
            " |-- Action Taken Other: string (nullable = true)\n",
            " |-- Detector Alerted Occupants: string (nullable = true)\n",
            " |-- Property Use: string (nullable = true)\n",
            " |-- Area of Fire Origin: string (nullable = true)\n",
            " |-- Ignition Cause: string (nullable = true)\n",
            " |-- Ignition Factor Primary: string (nullable = true)\n",
            " |-- Ignition Factor Secondary: string (nullable = true)\n",
            " |-- Heat Source: string (nullable = true)\n",
            " |-- Item First Ignited: string (nullable = true)\n",
            " |-- Human Factors Associated with Ignition: string (nullable = true)\n",
            " |-- Structure Type: string (nullable = true)\n",
            " |-- Structure Status: string (nullable = true)\n",
            " |-- Floor of Fire Origin: integer (nullable = true)\n",
            " |-- Fire Spread: string (nullable = true)\n",
            " |-- No Flame Spead: string (nullable = true)\n",
            " |-- Number of floors with minimum damage: integer (nullable = true)\n",
            " |-- Number of floors with significant damage: integer (nullable = true)\n",
            " |-- Number of floors with heavy damage: integer (nullable = true)\n",
            " |-- Number of floors with extreme damage: integer (nullable = true)\n",
            " |-- Detectors Present: string (nullable = true)\n",
            " |-- Detector Type: string (nullable = true)\n",
            " |-- Detector Operation: string (nullable = true)\n",
            " |-- Detector Effectiveness: string (nullable = true)\n",
            " |-- Detector Failure Reason: string (nullable = true)\n",
            " |-- Automatic Extinguishing System Present: string (nullable = true)\n",
            " |-- Automatic Extinguishing Sytem Type: string (nullable = true)\n",
            " |-- Automatic Extinguishing Sytem Perfomance: string (nullable = true)\n",
            " |-- Automatic Extinguishing Sytem Failure Reason: string (nullable = true)\n",
            " |-- Number of Sprinkler Heads Operating: integer (nullable = true)\n",
            " |-- Supervisor District: integer (nullable = true)\n",
            " |-- Neighborhood  District: string (nullable = true)\n",
            " |-- Location: string (nullable = true)\n",
            "\n"
          ],
          "name": "stdout"
        }
      ]
    },
    {
      "cell_type": "markdown",
      "metadata": {
        "id": "SHPU5RAwYgQM",
        "colab_type": "text"
      },
      "source": [
        "### Get the structure"
      ]
    },
    {
      "cell_type": "markdown",
      "metadata": {
        "id": "tTCp0irRX-EK",
        "colab_type": "text"
      },
      "source": [
        "#### Get the number of columns and rows"
      ]
    },
    {
      "cell_type": "code",
      "metadata": {
        "id": "D-grd4GNY2hT",
        "colab_type": "code",
        "outputId": "cbda07ed-af69-4aea-ad41-8b1128331c15",
        "colab": {
          "base_uri": "https://localhost:8080/",
          "height": 34
        }
      },
      "source": [
        "#Number of rows\n",
        "fire_df.count()"
      ],
      "execution_count": 16,
      "outputs": [
        {
          "output_type": "execute_result",
          "data": {
            "text/plain": [
              "513405"
            ]
          },
          "metadata": {
            "tags": []
          },
          "execution_count": 16
        }
      ]
    },
    {
      "cell_type": "code",
      "metadata": {
        "id": "8_8aSr5vY_o4",
        "colab_type": "code",
        "outputId": "f854df07-fd71-4596-e92a-05a141359dba",
        "colab": {
          "base_uri": "https://localhost:8080/",
          "height": 34
        }
      },
      "source": [
        "#Number of columns\n",
        "len(fire_df.columns)"
      ],
      "execution_count": 17,
      "outputs": [
        {
          "output_type": "execute_result",
          "data": {
            "text/plain": [
              "63"
            ]
          },
          "metadata": {
            "tags": []
          },
          "execution_count": 17
        }
      ]
    },
    {
      "cell_type": "markdown",
      "metadata": {
        "id": "BPCZ9BcTZIaF",
        "colab_type": "text"
      },
      "source": [
        "#Basic PySpark operations"
      ]
    },
    {
      "cell_type": "markdown",
      "metadata": {
        "id": "qeQSlioPbZ7Q",
        "colab_type": "text"
      },
      "source": [
        "##Change the name of the columns"
      ]
    },
    {
      "cell_type": "code",
      "metadata": {
        "id": "yPI1M_TkbeIP",
        "colab_type": "code",
        "outputId": "a742d9a3-cd48-4e51-d8d2-65f8e831b442",
        "colab": {
          "base_uri": "https://localhost:8080/",
          "height": 1000
        }
      },
      "source": [
        "for column in fire_df.columns:\n",
        "  new_column=column.lower().replace(\" \",\"_\")\n",
        "  fire_df=fire_df.withColumnRenamed(column,new_column)\n",
        "fire_df.columns"
      ],
      "execution_count": 18,
      "outputs": [
        {
          "output_type": "execute_result",
          "data": {
            "text/plain": [
              "['incident_number',\n",
              " 'exposure_number',\n",
              " 'address',\n",
              " 'incident_date',\n",
              " 'call_number',\n",
              " 'alarm_dttm',\n",
              " 'arrival_dttm',\n",
              " 'close_dttm',\n",
              " 'city',\n",
              " 'zipcode',\n",
              " 'battalion',\n",
              " 'station_area',\n",
              " 'box',\n",
              " 'suppression_units',\n",
              " 'suppression_personnel',\n",
              " 'ems_units',\n",
              " 'ems_personnel',\n",
              " 'other_units',\n",
              " 'other_personnel',\n",
              " 'first_unit_on_scene',\n",
              " 'estimated_property_loss',\n",
              " 'estimated_contents_loss',\n",
              " 'fire_fatalities',\n",
              " 'fire_injuries',\n",
              " 'civilian_fatalities',\n",
              " 'civilian_injuries',\n",
              " 'number_of_alarms',\n",
              " 'primary_situation',\n",
              " 'mutual_aid',\n",
              " 'action_taken_primary',\n",
              " 'action_taken_secondary',\n",
              " 'action_taken_other',\n",
              " 'detector_alerted_occupants',\n",
              " 'property_use',\n",
              " 'area_of_fire_origin',\n",
              " 'ignition_cause',\n",
              " 'ignition_factor_primary',\n",
              " 'ignition_factor_secondary',\n",
              " 'heat_source',\n",
              " 'item_first_ignited',\n",
              " 'human_factors_associated_with_ignition',\n",
              " 'structure_type',\n",
              " 'structure_status',\n",
              " 'floor_of_fire_origin',\n",
              " 'fire_spread',\n",
              " 'no_flame_spead',\n",
              " 'number_of_floors_with_minimum_damage',\n",
              " 'number_of_floors_with_significant_damage',\n",
              " 'number_of_floors_with_heavy_damage',\n",
              " 'number_of_floors_with_extreme_damage',\n",
              " 'detectors_present',\n",
              " 'detector_type',\n",
              " 'detector_operation',\n",
              " 'detector_effectiveness',\n",
              " 'detector_failure_reason',\n",
              " 'automatic_extinguishing_system_present',\n",
              " 'automatic_extinguishing_sytem_type',\n",
              " 'automatic_extinguishing_sytem_perfomance',\n",
              " 'automatic_extinguishing_sytem_failure_reason',\n",
              " 'number_of_sprinkler_heads_operating',\n",
              " 'supervisor_district',\n",
              " 'neighborhood__district',\n",
              " 'location']"
            ]
          },
          "metadata": {
            "tags": []
          },
          "execution_count": 18
        }
      ]
    },
    {
      "cell_type": "markdown",
      "metadata": {
        "id": "4kLUgd9HZfaK",
        "colab_type": "text"
      },
      "source": [
        "##Select the columns"
      ]
    },
    {
      "cell_type": "markdown",
      "metadata": {
        "id": "UYUIV0EUdyHi",
        "colab_type": "text"
      },
      "source": [
        "###One way"
      ]
    },
    {
      "cell_type": "code",
      "metadata": {
        "id": "okdJNIJpaG8T",
        "colab_type": "code",
        "outputId": "593e0380-b271-4988-8740-716e1219af19",
        "colab": {
          "base_uri": "https://localhost:8080/",
          "height": 102
        }
      },
      "source": [
        "#Only the names of the first 5 columns\n",
        "fire_df.columns[:5]"
      ],
      "execution_count": 19,
      "outputs": [
        {
          "output_type": "execute_result",
          "data": {
            "text/plain": [
              "['incident_number',\n",
              " 'exposure_number',\n",
              " 'address',\n",
              " 'incident_date',\n",
              " 'call_number']"
            ]
          },
          "metadata": {
            "tags": []
          },
          "execution_count": 19
        }
      ]
    },
    {
      "cell_type": "code",
      "metadata": {
        "id": "fosHdgIxamYQ",
        "colab_type": "code",
        "outputId": "16eec022-77b3-4552-8cf1-157a5894b525",
        "colab": {
          "base_uri": "https://localhost:8080/",
          "height": 204
        }
      },
      "source": [
        "#Select the name of the first 3 columns with data\n",
        "fire_df.select(fire_df.columns[:3]).show(5)"
      ],
      "execution_count": 20,
      "outputs": [
        {
          "output_type": "stream",
          "text": [
            "+---------------+---------------+--------------------+\n",
            "|incident_number|exposure_number|             address|\n",
            "+---------------+---------------+--------------------+\n",
            "|       19146215|              0|925 Golden Gate A...|\n",
            "|       19146165|              0| 619 Holloway Avenue|\n",
            "|       19146202|              0|    1485 Pine Street|\n",
            "|       19146182|              0|       Church Street|\n",
            "|       19146193|              0|   1430 Scott Street|\n",
            "+---------------+---------------+--------------------+\n",
            "only showing top 5 rows\n",
            "\n"
          ],
          "name": "stdout"
        }
      ]
    },
    {
      "cell_type": "code",
      "metadata": {
        "id": "nzf4FuXSaF29",
        "colab_type": "code",
        "outputId": "4f0418b8-1c11-4603-cab0-03d0f45c9f55",
        "colab": {
          "base_uri": "https://localhost:8080/",
          "height": 204
        }
      },
      "source": [
        "#Other way\n",
        "fire_df.select('incident_number','exposure_number').show(5)"
      ],
      "execution_count": 21,
      "outputs": [
        {
          "output_type": "stream",
          "text": [
            "+---------------+---------------+\n",
            "|incident_number|exposure_number|\n",
            "+---------------+---------------+\n",
            "|       19146215|              0|\n",
            "|       19146165|              0|\n",
            "|       19146202|              0|\n",
            "|       19146182|              0|\n",
            "|       19146193|              0|\n",
            "+---------------+---------------+\n",
            "only showing top 5 rows\n",
            "\n"
          ],
          "name": "stdout"
        }
      ]
    },
    {
      "cell_type": "markdown",
      "metadata": {
        "id": "uvrHLnIhZc7D",
        "colab_type": "text"
      },
      "source": [
        "###Using SQL"
      ]
    },
    {
      "cell_type": "code",
      "metadata": {
        "id": "UtBGVJcheBZo",
        "colab_type": "code",
        "outputId": "1e670eca-3087-4ff2-a1ca-ec4150ae97cd",
        "colab": {
          "base_uri": "https://localhost:8080/",
          "height": 34
        }
      },
      "source": [
        "F.col('incident_number')"
      ],
      "execution_count": 22,
      "outputs": [
        {
          "output_type": "execute_result",
          "data": {
            "text/plain": [
              "Column<b'incident_number'>"
            ]
          },
          "metadata": {
            "tags": []
          },
          "execution_count": 22
        }
      ]
    },
    {
      "cell_type": "markdown",
      "metadata": {
        "id": "kqbVT3vIe6jk",
        "colab_type": "text"
      },
      "source": [
        "##Filter and selecting columns"
      ]
    },
    {
      "cell_type": "code",
      "metadata": {
        "id": "f4HTAnwPeGAv",
        "colab_type": "code",
        "outputId": "78f5df3e-f57d-4c35-9cc1-200422a1b501",
        "colab": {
          "base_uri": "https://localhost:8080/",
          "height": 204
        }
      },
      "source": [
        "fire_df.filter(F.col(\"call_number\")>10030109).select(\"call_number\").show(5)"
      ],
      "execution_count": 23,
      "outputs": [
        {
          "output_type": "stream",
          "text": [
            "+-----------+\n",
            "|call_number|\n",
            "+-----------+\n",
            "|  193390376|\n",
            "|  193390050|\n",
            "|  193390291|\n",
            "|  193390165|\n",
            "|  193390205|\n",
            "+-----------+\n",
            "only showing top 5 rows\n",
            "\n"
          ],
          "name": "stdout"
        }
      ]
    },
    {
      "cell_type": "code",
      "metadata": {
        "id": "U1f5NWcmfTaY",
        "colab_type": "code",
        "colab": {}
      },
      "source": [
        ""
      ],
      "execution_count": 0,
      "outputs": []
    }
  ]
}