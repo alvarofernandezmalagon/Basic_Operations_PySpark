{
  "nbformat": 4,
  "nbformat_minor": 0,
  "metadata": {
    "colab": {
      "name": "basic_operations_pyspark.ipynb",
      "provenance": [],
      "collapsed_sections": [],
      "toc_visible": true,
      "mount_file_id": "1YaIgLWD8gY5itcInkOx3BLRqBWenZwmS",
      "authorship_tag": "ABX9TyMugjGRHBf85oS2RJ3j600j",
      "include_colab_link": true
    },
    "kernelspec": {
      "name": "python3",
      "display_name": "Python 3"
    }
  },
  "cells": [
    {
      "cell_type": "markdown",
      "metadata": {
        "id": "view-in-github",
        "colab_type": "text"
      },
      "source": [
        "<a href=\"https://colab.research.google.com/github/alvarofernandezmalagon/Basic_Operations_PySpark/blob/master/basic_operations_pyspark.ipynb\" target=\"_parent\"><img src=\"https://colab.research.google.com/assets/colab-badge.svg\" alt=\"Open In Colab\"/></a>"
      ]
    },
    {
      "cell_type": "markdown",
      "metadata": {
        "id": "J3i_6reR9uv9",
        "colab_type": "text"
      },
      "source": [
        "# Objective\n",
        "\n",
        "\n"
      ]
    },
    {
      "cell_type": "markdown",
      "metadata": {
        "id": "Uwxxv_N_DgYs",
        "colab_type": "text"
      },
      "source": [
        "The objective of this notebook is to review the basic operations of PySpark "
      ]
    },
    {
      "cell_type": "markdown",
      "metadata": {
        "id": "9b2ezgU0ABW0",
        "colab_type": "text"
      },
      "source": [
        "# Create the environment of PySpark"
      ]
    },
    {
      "cell_type": "code",
      "metadata": {
        "id": "W6m19Cke9ZYV",
        "colab_type": "code",
        "colab": {}
      },
      "source": [
        "#We have to install Spark and Java in Colab\n",
        "!apt-get install openjdk-8-jdk-headless -qq > /dev/null\n",
        "!wget -q https://www-us.apache.org/dist/spark/spark-2.4.5/spark-2.4.5-bin-hadoop2.7.tgz\n",
        "!tar xf spark-2.4.5-bin-hadoop2.7.tgz\n",
        "!pip install -q findspark"
      ],
      "execution_count": 0,
      "outputs": []
    },
    {
      "cell_type": "code",
      "metadata": {
        "id": "WxjDm-3uARv7",
        "colab_type": "code",
        "colab": {}
      },
      "source": [
        "#It is time to set the environment path that enables us to run PySpark in our Colab environment\n",
        "import os\n",
        "os.environ[\"JAVA_HOME\"] = \"/usr/lib/jvm/java-8-openjdk-amd64\"\n",
        "os.environ[\"SPARK_HOME\"] = \"/content/spark-2.4.5-bin-hadoop2.7\""
      ],
      "execution_count": 0,
      "outputs": []
    },
    {
      "cell_type": "code",
      "metadata": {
        "id": "j3ov86qMBAlb",
        "colab_type": "code",
        "colab": {}
      },
      "source": [
        "#We can run a local spark session to test our installation:\n",
        "import findspark\n",
        "findspark.init()\n",
        "from pyspark.sql import SparkSession\n",
        "spark = SparkSession.builder.master(\"local[*]\").getOrCreate()"
      ],
      "execution_count": 0,
      "outputs": []
    },
    {
      "cell_type": "code",
      "metadata": {
        "id": "41f9FxjcBJbS",
        "colab_type": "code",
        "outputId": "ba0bfc1d-8dcb-4563-fda1-17ea8ca595be",
        "colab": {
          "base_uri": "https://localhost:8080/",
          "height": 216
        }
      },
      "source": [
        "spark"
      ],
      "execution_count": 4,
      "outputs": [
        {
          "output_type": "execute_result",
          "data": {
            "text/html": [
              "\n",
              "            <div>\n",
              "                <p><b>SparkSession - in-memory</b></p>\n",
              "                \n",
              "        <div>\n",
              "            <p><b>SparkContext</b></p>\n",
              "\n",
              "            <p><a href=\"http://e5bbded5c106:4040\">Spark UI</a></p>\n",
              "\n",
              "            <dl>\n",
              "              <dt>Version</dt>\n",
              "                <dd><code>v2.4.5</code></dd>\n",
              "              <dt>Master</dt>\n",
              "                <dd><code>local[*]</code></dd>\n",
              "              <dt>AppName</dt>\n",
              "                <dd><code>pyspark-shell</code></dd>\n",
              "            </dl>\n",
              "        </div>\n",
              "        \n",
              "            </div>\n",
              "        "
            ],
            "text/plain": [
              "<pyspark.sql.session.SparkSession at 0x7fe4a354f400>"
            ]
          },
          "metadata": {
            "tags": []
          },
          "execution_count": 4
        }
      ]
    },
    {
      "cell_type": "markdown",
      "metadata": {
        "id": "YCQJ0HQ1OMOO",
        "colab_type": "text"
      },
      "source": [
        "# Get data"
      ]
    },
    {
      "cell_type": "markdown",
      "metadata": {
        "id": "W3_SSaV1Okoa",
        "colab_type": "text"
      },
      "source": [
        "### Get access to Google Drive\n"
      ]
    },
    {
      "cell_type": "code",
      "metadata": {
        "id": "wKKT_waRKNjz",
        "colab_type": "code",
        "colab": {}
      },
      "source": [
        "from google.colab import drive"
      ],
      "execution_count": 0,
      "outputs": []
    },
    {
      "cell_type": "code",
      "metadata": {
        "id": "qpHXCbaBKP7z",
        "colab_type": "code",
        "outputId": "4004d227-172e-4626-cd8e-a92ff1cc1612",
        "colab": {
          "base_uri": "https://localhost:8080/",
          "height": 34
        }
      },
      "source": [
        "drive.mount('/content/drive', force_remount=True)"
      ],
      "execution_count": 6,
      "outputs": [
        {
          "output_type": "stream",
          "text": [
            "Mounted at /content/drive\n"
          ],
          "name": "stdout"
        }
      ]
    },
    {
      "cell_type": "markdown",
      "metadata": {
        "id": "ixWSDuk6PFZJ",
        "colab_type": "text"
      },
      "source": [
        "### Change the directory"
      ]
    },
    {
      "cell_type": "code",
      "metadata": {
        "id": "NZKkg7K7PBuB",
        "colab_type": "code",
        "outputId": "0de220e5-f861-467f-bcbd-47716a55260a",
        "colab": {
          "base_uri": "https://localhost:8080/",
          "height": 34
        }
      },
      "source": [
        "%cd /content/drive/My Drive/02-Colab/01-PySpark/00-Repaso_Pyspark/01-Script"
      ],
      "execution_count": 7,
      "outputs": [
        {
          "output_type": "stream",
          "text": [
            "/content/drive/My Drive/02-Colab/01-PySpark/00-Repaso_Pyspark/01-Script\n"
          ],
          "name": "stdout"
        }
      ]
    },
    {
      "cell_type": "markdown",
      "metadata": {
        "id": "Lhb691WSPdgB",
        "colab_type": "text"
      },
      "source": [
        "###Unzip the data"
      ]
    },
    {
      "cell_type": "code",
      "metadata": {
        "id": "EOQI_KGfPg6q",
        "colab_type": "code",
        "outputId": "9b0482bb-47e4-464b-89dc-dfec65d21afd",
        "colab": {
          "base_uri": "https://localhost:8080/",
          "height": 34
        }
      },
      "source": [
        "!ls ../00-Data"
      ],
      "execution_count": 8,
      "outputs": [
        {
          "output_type": "stream",
          "text": [
            "fire-incidents.csv.zip\n"
          ],
          "name": "stdout"
        }
      ]
    },
    {
      "cell_type": "code",
      "metadata": {
        "id": "tBKbSN4-P9bs",
        "colab_type": "code",
        "outputId": "0264d3cd-1a47-434c-dec1-879b638e7ad7",
        "colab": {
          "base_uri": "https://localhost:8080/",
          "height": 51
        }
      },
      "source": [
        "!unzip ../00-Data/fire-incidents.csv.zip -d ../00-Data/"
      ],
      "execution_count": 9,
      "outputs": [
        {
          "output_type": "stream",
          "text": [
            "Archive:  ../00-Data/fire-incidents.csv.zip\n",
            "  inflating: ../00-Data/fire-incidents.csv  \n"
          ],
          "name": "stdout"
        }
      ]
    },
    {
      "cell_type": "code",
      "metadata": {
        "id": "EiE25JRhQE2K",
        "colab_type": "code",
        "outputId": "687f960f-8d75-434b-bf9f-f68ccd885c66",
        "colab": {
          "base_uri": "https://localhost:8080/",
          "height": 68
        }
      },
      "source": [
        "!ls -l ../00-Data"
      ],
      "execution_count": 10,
      "outputs": [
        {
          "output_type": "stream",
          "text": [
            "total 236153\n",
            "-rw------- 1 root root 207085551 Dec  6 12:15 fire-incidents.csv\n",
            "-rw------- 1 root root  34734540 May  5 15:36 fire-incidents.csv.zip\n"
          ],
          "name": "stdout"
        }
      ]
    },
    {
      "cell_type": "markdown",
      "metadata": {
        "id": "kAAA8D-GZxYe",
        "colab_type": "text"
      },
      "source": [
        "#Import libraries"
      ]
    },
    {
      "cell_type": "code",
      "metadata": {
        "id": "6XIorcEHZ1YX",
        "colab_type": "code",
        "colab": {}
      },
      "source": [
        "from pyspark.sql import functions as F\n",
        "from pyspark.sql import types as T"
      ],
      "execution_count": 0,
      "outputs": []
    },
    {
      "cell_type": "markdown",
      "metadata": {
        "id": "SeragLtORUlg",
        "colab_type": "text"
      },
      "source": [
        "#Create the path"
      ]
    },
    {
      "cell_type": "code",
      "metadata": {
        "id": "fqt5OPVjRjW-",
        "colab_type": "code",
        "outputId": "69feb328-8f56-4bd0-b4f5-96403e55fe39",
        "colab": {
          "base_uri": "https://localhost:8080/",
          "height": 34
        }
      },
      "source": [
        "filename = 'fire-incidents.csv'\n",
        "data_path = '/content/drive/My Drive/02-Colab/01-PySpark/00-Repaso_Pyspark/00-Data/'+filename\n",
        "print(data_path)"
      ],
      "execution_count": 12,
      "outputs": [
        {
          "output_type": "stream",
          "text": [
            "/content/drive/My Drive/02-Colab/01-PySpark/00-Repaso_Pyspark/00-Data/fire-incidents.csv\n"
          ],
          "name": "stdout"
        }
      ]
    },
    {
      "cell_type": "markdown",
      "metadata": {
        "id": "yGLf0o3rR0Ek",
        "colab_type": "text"
      },
      "source": [
        "#Load data in memory"
      ]
    },
    {
      "cell_type": "code",
      "metadata": {
        "id": "s5-lUyBtSGhw",
        "colab_type": "code",
        "colab": {}
      },
      "source": [
        "fire_df = spark.read.csv(data_path,\n",
        "                         header=True,\n",
        "                         inferSchema=True,\n",
        "                         sep=\",\")"
      ],
      "execution_count": 0,
      "outputs": []
    },
    {
      "cell_type": "code",
      "metadata": {
        "id": "hy48X0O-SPZ2",
        "colab_type": "code",
        "outputId": "eea41f75-cf7a-4043-9e9a-2de7b20d5d19",
        "colab": {
          "base_uri": "https://localhost:8080/",
          "height": 224
        }
      },
      "source": [
        "fire_df.show(5,truncate=False)"
      ],
      "execution_count": 14,
      "outputs": [
        {
          "output_type": "stream",
          "text": [
            "+---------------+---------------+----------------------+-------------------+-----------+-------------------+-------------------+-------------------+-------------+-------+---------+------------+----+-----------------+---------------------+---------+-------------+-----------+---------------+-------------------+-----------------------+-----------------------+---------------+-------------+-------------------+-----------------+----------------+----------------------------------------------------+----------+--------------------+----------------------+------------------+--------------------------+---------------------------------------------+-------------------+--------------+-----------------------+-------------------------+-----------+------------------+--------------------------------------+--------------+----------------+--------------------+-----------+--------------+------------------------------------+----------------------------------------+----------------------------------+------------------------------------+-----------------+-------------+------------------+----------------------+-----------------------+--------------------------------------+----------------------------------+----------------------------------------+--------------------------------------------+-----------------------------------+-------------------+--------------------------+--------------------------------------------------------------------------+\n",
            "|Incident Number|Exposure Number|Address               |Incident Date      |Call Number|Alarm DtTm         |Arrival DtTm       |Close DtTm         |City         |Zipcode|Battalion|Station Area|Box |Suppression Units|Suppression Personnel|EMS Units|EMS Personnel|Other Units|Other Personnel|First Unit On Scene|Estimated Property Loss|Estimated Contents Loss|Fire Fatalities|Fire Injuries|Civilian Fatalities|Civilian Injuries|Number of Alarms|Primary Situation                                   |Mutual Aid|Action Taken Primary|Action Taken Secondary|Action Taken Other|Detector Alerted Occupants|Property Use                                 |Area of Fire Origin|Ignition Cause|Ignition Factor Primary|Ignition Factor Secondary|Heat Source|Item First Ignited|Human Factors Associated with Ignition|Structure Type|Structure Status|Floor of Fire Origin|Fire Spread|No Flame Spead|Number of floors with minimum damage|Number of floors with significant damage|Number of floors with heavy damage|Number of floors with extreme damage|Detectors Present|Detector Type|Detector Operation|Detector Effectiveness|Detector Failure Reason|Automatic Extinguishing System Present|Automatic Extinguishing Sytem Type|Automatic Extinguishing Sytem Perfomance|Automatic Extinguishing Sytem Failure Reason|Number of Sprinkler Heads Operating|Supervisor District|Neighborhood  District    |Location                                                                  |\n",
            "+---------------+---------------+----------------------+-------------------+-----------+-------------------+-------------------+-------------------+-------------+-------+---------+------------+----+-----------------+---------------------+---------+-------------+-----------+---------------+-------------------+-----------------------+-----------------------+---------------+-------------+-------------------+-----------------+----------------+----------------------------------------------------+----------+--------------------+----------------------+------------------+--------------------------+---------------------------------------------+-------------------+--------------+-----------------------+-------------------------+-----------+------------------+--------------------------------------+--------------+----------------+--------------------+-----------+--------------+------------------------------------+----------------------------------------+----------------------------------+------------------------------------+-----------------+-------------+------------------+----------------------+-----------------------+--------------------------------------+----------------------------------+----------------------------------------+--------------------------------------------+-----------------------------------+-------------------+--------------------------+--------------------------------------------------------------------------+\n",
            "|19146215       |0              |925 Golden Gate Avenue|2019-12-05 00:00:00|193390376  |2019-12-05 05:12:14|2019-12-05 05:15:22|2019-12-05 05:25:47|San Francisco|94102  |B02      |05          |3411|3                |11                   |0        |0            |0          |0              |null               |null                   |null                   |0              |0            |0                  |0                |null            |730 system malfunction, other                       |n none    |86 investigate      |null                  |null              |null                      |429 multifamily dwelling                     |null               |null          |null                   |null                     |null       |null              |null                                  |null          |null            |null                |null       |na            |null                                |null                                    |null                              |null                                |null             |null         |null              |null                  |null                   |null                                  |null                              |null                                    |null                                        |null                               |5                  |Western Addition          |{'type': 'Point', 'coordinates': [-122.425802, 37.78027800002966]}        |\n",
            "|19146165       |0              |619 Holloway Avenue   |2019-12-05 00:00:00|193390050  |2019-12-05 00:30:33|2019-12-05 00:34:38|2019-12-05 00:48:17|San Francisco|94112  |B09      |15          |8463|3                |11                   |0        |0            |0          |0              |null               |null                   |null                   |0              |0            |0                  |0                |null            |733 smoke detector activation due to malfunction    |n none    |86 investigate      |null                  |null              |null                      |429 multifamily dwelling                     |null               |null          |null                   |null                     |null       |null              |null                                  |null          |null            |null                |null       |na            |null                                |null                                    |null                              |null                                |null             |null         |null              |null                  |null                   |null                                  |null                              |null                                    |null                                        |null                               |11                 |Oceanview/Merced/Ingleside|{'type': 'Point', 'coordinates': [-122.45944600000001, 37.72176900002962]}|\n",
            "|19146202       |0              |1485 Pine Street      |2019-12-05 00:00:00|193390291  |2019-12-05 03:52:19|2019-12-05 03:55:38|2019-12-05 04:05:24|San Francisco|94109  |B04      |41          |3122|3                |10                   |0        |0            |0          |0              |null               |null                   |null                   |0              |0            |0                  |0                |null            |745 alarm system activation, no fire - unintentional|n none    |86 investigate      |null                  |null              |null                      |429 multifamily dwelling                     |null               |null          |null                   |null                     |null       |null              |null                                  |null          |null            |null                |null       |na            |null                                |null                                    |null                              |null                                |null             |null         |null              |null                  |null                   |null                                  |null                              |null                                    |null                                        |null                               |3                  |Nob Hill                  |{'type': 'Point', 'coordinates': [-122.42018599999999, 37.78958900002967]}|\n",
            "|19146182       |0              |Church Street         |2019-12-05 00:00:00|193390165  |2019-12-05 01:55:48|2019-12-05 01:59:37|2019-12-05 02:19:06|San Francisco|94114  |B02      |06          |5127|3                |11                   |0        |0            |0          |0              |null               |null                   |null                   |0              |0            |0                  |0                |null            |700 false alarm or false call, other                |n none    |86 investigate      |null                  |null              |null                      |174 rapid transit station                    |null               |null          |null                   |null                     |null       |null              |null                                  |null          |null            |null                |null       |na            |null                                |null                                    |null                              |null                                |null             |null         |null              |null                  |null                   |null                                  |null                              |null                                    |null                                        |null                               |8                  |Castro/Upper Market       |{'type': 'Point', 'coordinates': [-122.42895000000001, 37.76750200002965]}|\n",
            "|19146193       |0              |1430 Scott Street     |2019-12-05 00:00:00|193390205  |2019-12-05 02:36:59|2019-12-05 02:41:27|2019-12-05 03:03:27|San Francisco|94115  |B04      |05          |0413|3                |10                   |0        |0            |0          |0              |null               |null                   |null                   |0              |0            |0                  |0                |null            |735 alarm system sounded due to malfunction         |n none    |86 investigate      |null                  |null              |null                      |213 elementary school, including kindergarten|null               |null          |null                   |null                     |null       |null              |null                                  |null          |null            |null                |null       |na            |null                                |null                                    |null                              |null                                |null             |null         |null              |null                  |null                   |null                                  |null                              |null                                    |null                                        |null                               |5                  |Western Addition          |{'type': 'Point', 'coordinates': [-122.437025, 37.78322000002966]}        |\n",
            "+---------------+---------------+----------------------+-------------------+-----------+-------------------+-------------------+-------------------+-------------+-------+---------+------------+----+-----------------+---------------------+---------+-------------+-----------+---------------+-------------------+-----------------------+-----------------------+---------------+-------------+-------------------+-----------------+----------------+----------------------------------------------------+----------+--------------------+----------------------+------------------+--------------------------+---------------------------------------------+-------------------+--------------+-----------------------+-------------------------+-----------+------------------+--------------------------------------+--------------+----------------+--------------------+-----------+--------------+------------------------------------+----------------------------------------+----------------------------------+------------------------------------+-----------------+-------------+------------------+----------------------+-----------------------+--------------------------------------+----------------------------------+----------------------------------------+--------------------------------------------+-----------------------------------+-------------------+--------------------------+--------------------------------------------------------------------------+\n",
            "only showing top 5 rows\n",
            "\n"
          ],
          "name": "stdout"
        }
      ]
    },
    {
      "cell_type": "markdown",
      "metadata": {
        "id": "uRTalTPtXRcZ",
        "colab_type": "text"
      },
      "source": [
        "###Get the columns and types"
      ]
    },
    {
      "cell_type": "code",
      "metadata": {
        "id": "yjRyO0MkXvw7",
        "colab_type": "code",
        "outputId": "75114088-c6ba-4971-e9f9-8ad95c74deb4",
        "colab": {
          "base_uri": "https://localhost:8080/",
          "height": 1000
        }
      },
      "source": [
        "fire_df.printSchema()"
      ],
      "execution_count": 15,
      "outputs": [
        {
          "output_type": "stream",
          "text": [
            "root\n",
            " |-- Incident Number: integer (nullable = true)\n",
            " |-- Exposure Number: integer (nullable = true)\n",
            " |-- Address: string (nullable = true)\n",
            " |-- Incident Date: timestamp (nullable = true)\n",
            " |-- Call Number: integer (nullable = true)\n",
            " |-- Alarm DtTm: timestamp (nullable = true)\n",
            " |-- Arrival DtTm: timestamp (nullable = true)\n",
            " |-- Close DtTm: timestamp (nullable = true)\n",
            " |-- City: string (nullable = true)\n",
            " |-- Zipcode: integer (nullable = true)\n",
            " |-- Battalion: string (nullable = true)\n",
            " |-- Station Area: string (nullable = true)\n",
            " |-- Box: string (nullable = true)\n",
            " |-- Suppression Units: integer (nullable = true)\n",
            " |-- Suppression Personnel: integer (nullable = true)\n",
            " |-- EMS Units: integer (nullable = true)\n",
            " |-- EMS Personnel: integer (nullable = true)\n",
            " |-- Other Units: integer (nullable = true)\n",
            " |-- Other Personnel: integer (nullable = true)\n",
            " |-- First Unit On Scene: string (nullable = true)\n",
            " |-- Estimated Property Loss: integer (nullable = true)\n",
            " |-- Estimated Contents Loss: double (nullable = true)\n",
            " |-- Fire Fatalities: integer (nullable = true)\n",
            " |-- Fire Injuries: integer (nullable = true)\n",
            " |-- Civilian Fatalities: integer (nullable = true)\n",
            " |-- Civilian Injuries: integer (nullable = true)\n",
            " |-- Number of Alarms: string (nullable = true)\n",
            " |-- Primary Situation: string (nullable = true)\n",
            " |-- Mutual Aid: string (nullable = true)\n",
            " |-- Action Taken Primary: string (nullable = true)\n",
            " |-- Action Taken Secondary: string (nullable = true)\n",
            " |-- Action Taken Other: string (nullable = true)\n",
            " |-- Detector Alerted Occupants: string (nullable = true)\n",
            " |-- Property Use: string (nullable = true)\n",
            " |-- Area of Fire Origin: string (nullable = true)\n",
            " |-- Ignition Cause: string (nullable = true)\n",
            " |-- Ignition Factor Primary: string (nullable = true)\n",
            " |-- Ignition Factor Secondary: string (nullable = true)\n",
            " |-- Heat Source: string (nullable = true)\n",
            " |-- Item First Ignited: string (nullable = true)\n",
            " |-- Human Factors Associated with Ignition: string (nullable = true)\n",
            " |-- Structure Type: string (nullable = true)\n",
            " |-- Structure Status: string (nullable = true)\n",
            " |-- Floor of Fire Origin: integer (nullable = true)\n",
            " |-- Fire Spread: string (nullable = true)\n",
            " |-- No Flame Spead: string (nullable = true)\n",
            " |-- Number of floors with minimum damage: integer (nullable = true)\n",
            " |-- Number of floors with significant damage: integer (nullable = true)\n",
            " |-- Number of floors with heavy damage: integer (nullable = true)\n",
            " |-- Number of floors with extreme damage: integer (nullable = true)\n",
            " |-- Detectors Present: string (nullable = true)\n",
            " |-- Detector Type: string (nullable = true)\n",
            " |-- Detector Operation: string (nullable = true)\n",
            " |-- Detector Effectiveness: string (nullable = true)\n",
            " |-- Detector Failure Reason: string (nullable = true)\n",
            " |-- Automatic Extinguishing System Present: string (nullable = true)\n",
            " |-- Automatic Extinguishing Sytem Type: string (nullable = true)\n",
            " |-- Automatic Extinguishing Sytem Perfomance: string (nullable = true)\n",
            " |-- Automatic Extinguishing Sytem Failure Reason: string (nullable = true)\n",
            " |-- Number of Sprinkler Heads Operating: integer (nullable = true)\n",
            " |-- Supervisor District: integer (nullable = true)\n",
            " |-- Neighborhood  District: string (nullable = true)\n",
            " |-- Location: string (nullable = true)\n",
            "\n"
          ],
          "name": "stdout"
        }
      ]
    },
    {
      "cell_type": "markdown",
      "metadata": {
        "id": "SHPU5RAwYgQM",
        "colab_type": "text"
      },
      "source": [
        "### Get the structure"
      ]
    },
    {
      "cell_type": "markdown",
      "metadata": {
        "id": "tTCp0irRX-EK",
        "colab_type": "text"
      },
      "source": [
        "#### Get the number of columns and rows"
      ]
    },
    {
      "cell_type": "code",
      "metadata": {
        "id": "D-grd4GNY2hT",
        "colab_type": "code",
        "outputId": "ac77738d-f4f4-4338-e919-d95374584762",
        "colab": {
          "base_uri": "https://localhost:8080/",
          "height": 34
        }
      },
      "source": [
        "#Number of rows\n",
        "fire_df.count()"
      ],
      "execution_count": 16,
      "outputs": [
        {
          "output_type": "execute_result",
          "data": {
            "text/plain": [
              "513405"
            ]
          },
          "metadata": {
            "tags": []
          },
          "execution_count": 16
        }
      ]
    },
    {
      "cell_type": "code",
      "metadata": {
        "id": "8_8aSr5vY_o4",
        "colab_type": "code",
        "outputId": "92243d86-b5d3-4f73-bb1b-a4df02f89e31",
        "colab": {
          "base_uri": "https://localhost:8080/",
          "height": 34
        }
      },
      "source": [
        "#Number of columns\n",
        "len(fire_df.columns)"
      ],
      "execution_count": 17,
      "outputs": [
        {
          "output_type": "execute_result",
          "data": {
            "text/plain": [
              "63"
            ]
          },
          "metadata": {
            "tags": []
          },
          "execution_count": 17
        }
      ]
    },
    {
      "cell_type": "markdown",
      "metadata": {
        "id": "BPCZ9BcTZIaF",
        "colab_type": "text"
      },
      "source": [
        "#Basic PySpark operations"
      ]
    },
    {
      "cell_type": "markdown",
      "metadata": {
        "id": "qeQSlioPbZ7Q",
        "colab_type": "text"
      },
      "source": [
        "##Change the name of the columns"
      ]
    },
    {
      "cell_type": "code",
      "metadata": {
        "id": "yPI1M_TkbeIP",
        "colab_type": "code",
        "outputId": "72b9c415-f8d3-4abe-e4cf-d957d8c3deab",
        "colab": {
          "base_uri": "https://localhost:8080/",
          "height": 1000
        }
      },
      "source": [
        "for column in fire_df.columns:\n",
        "  new_column=column.lower().replace(\" \",\"_\")\n",
        "  fire_df=fire_df.withColumnRenamed(column,new_column)\n",
        "fire_df.columns"
      ],
      "execution_count": 18,
      "outputs": [
        {
          "output_type": "execute_result",
          "data": {
            "text/plain": [
              "['incident_number',\n",
              " 'exposure_number',\n",
              " 'address',\n",
              " 'incident_date',\n",
              " 'call_number',\n",
              " 'alarm_dttm',\n",
              " 'arrival_dttm',\n",
              " 'close_dttm',\n",
              " 'city',\n",
              " 'zipcode',\n",
              " 'battalion',\n",
              " 'station_area',\n",
              " 'box',\n",
              " 'suppression_units',\n",
              " 'suppression_personnel',\n",
              " 'ems_units',\n",
              " 'ems_personnel',\n",
              " 'other_units',\n",
              " 'other_personnel',\n",
              " 'first_unit_on_scene',\n",
              " 'estimated_property_loss',\n",
              " 'estimated_contents_loss',\n",
              " 'fire_fatalities',\n",
              " 'fire_injuries',\n",
              " 'civilian_fatalities',\n",
              " 'civilian_injuries',\n",
              " 'number_of_alarms',\n",
              " 'primary_situation',\n",
              " 'mutual_aid',\n",
              " 'action_taken_primary',\n",
              " 'action_taken_secondary',\n",
              " 'action_taken_other',\n",
              " 'detector_alerted_occupants',\n",
              " 'property_use',\n",
              " 'area_of_fire_origin',\n",
              " 'ignition_cause',\n",
              " 'ignition_factor_primary',\n",
              " 'ignition_factor_secondary',\n",
              " 'heat_source',\n",
              " 'item_first_ignited',\n",
              " 'human_factors_associated_with_ignition',\n",
              " 'structure_type',\n",
              " 'structure_status',\n",
              " 'floor_of_fire_origin',\n",
              " 'fire_spread',\n",
              " 'no_flame_spead',\n",
              " 'number_of_floors_with_minimum_damage',\n",
              " 'number_of_floors_with_significant_damage',\n",
              " 'number_of_floors_with_heavy_damage',\n",
              " 'number_of_floors_with_extreme_damage',\n",
              " 'detectors_present',\n",
              " 'detector_type',\n",
              " 'detector_operation',\n",
              " 'detector_effectiveness',\n",
              " 'detector_failure_reason',\n",
              " 'automatic_extinguishing_system_present',\n",
              " 'automatic_extinguishing_sytem_type',\n",
              " 'automatic_extinguishing_sytem_perfomance',\n",
              " 'automatic_extinguishing_sytem_failure_reason',\n",
              " 'number_of_sprinkler_heads_operating',\n",
              " 'supervisor_district',\n",
              " 'neighborhood__district',\n",
              " 'location']"
            ]
          },
          "metadata": {
            "tags": []
          },
          "execution_count": 18
        }
      ]
    },
    {
      "cell_type": "markdown",
      "metadata": {
        "id": "4kLUgd9HZfaK",
        "colab_type": "text"
      },
      "source": [
        "##Select the columns"
      ]
    },
    {
      "cell_type": "markdown",
      "metadata": {
        "id": "UYUIV0EUdyHi",
        "colab_type": "text"
      },
      "source": [
        "###One way"
      ]
    },
    {
      "cell_type": "code",
      "metadata": {
        "id": "okdJNIJpaG8T",
        "colab_type": "code",
        "outputId": "7d3e28ba-348c-47fb-92ab-f122ff47e54b",
        "colab": {
          "base_uri": "https://localhost:8080/",
          "height": 102
        }
      },
      "source": [
        "#Only the names of the first 5 columns\n",
        "fire_df.columns[:5]"
      ],
      "execution_count": 19,
      "outputs": [
        {
          "output_type": "execute_result",
          "data": {
            "text/plain": [
              "['incident_number',\n",
              " 'exposure_number',\n",
              " 'address',\n",
              " 'incident_date',\n",
              " 'call_number']"
            ]
          },
          "metadata": {
            "tags": []
          },
          "execution_count": 19
        }
      ]
    },
    {
      "cell_type": "code",
      "metadata": {
        "id": "fosHdgIxamYQ",
        "colab_type": "code",
        "outputId": "1fa7c887-b6a3-43ae-d9a6-070da5a11cec",
        "colab": {
          "base_uri": "https://localhost:8080/",
          "height": 204
        }
      },
      "source": [
        "#Select the name of the first 3 columns with data\n",
        "fire_df.select(fire_df.columns[:3]).show(5)"
      ],
      "execution_count": 20,
      "outputs": [
        {
          "output_type": "stream",
          "text": [
            "+---------------+---------------+--------------------+\n",
            "|incident_number|exposure_number|             address|\n",
            "+---------------+---------------+--------------------+\n",
            "|       19146215|              0|925 Golden Gate A...|\n",
            "|       19146165|              0| 619 Holloway Avenue|\n",
            "|       19146202|              0|    1485 Pine Street|\n",
            "|       19146182|              0|       Church Street|\n",
            "|       19146193|              0|   1430 Scott Street|\n",
            "+---------------+---------------+--------------------+\n",
            "only showing top 5 rows\n",
            "\n"
          ],
          "name": "stdout"
        }
      ]
    },
    {
      "cell_type": "code",
      "metadata": {
        "id": "nzf4FuXSaF29",
        "colab_type": "code",
        "outputId": "81ffe0c4-a731-4232-deb2-0d55d417379f",
        "colab": {
          "base_uri": "https://localhost:8080/",
          "height": 204
        }
      },
      "source": [
        "#Other way\n",
        "fire_df.select('incident_number','address').show(5)"
      ],
      "execution_count": 21,
      "outputs": [
        {
          "output_type": "stream",
          "text": [
            "+---------------+--------------------+\n",
            "|incident_number|             address|\n",
            "+---------------+--------------------+\n",
            "|       19146215|925 Golden Gate A...|\n",
            "|       19146165| 619 Holloway Avenue|\n",
            "|       19146202|    1485 Pine Street|\n",
            "|       19146182|       Church Street|\n",
            "|       19146193|   1430 Scott Street|\n",
            "+---------------+--------------------+\n",
            "only showing top 5 rows\n",
            "\n"
          ],
          "name": "stdout"
        }
      ]
    },
    {
      "cell_type": "markdown",
      "metadata": {
        "id": "uvrHLnIhZc7D",
        "colab_type": "text"
      },
      "source": [
        "###Using SQL"
      ]
    },
    {
      "cell_type": "code",
      "metadata": {
        "id": "UtBGVJcheBZo",
        "colab_type": "code",
        "outputId": "3ec1166c-0126-430a-c0ba-da8167e9a6af",
        "colab": {
          "base_uri": "https://localhost:8080/",
          "height": 34
        }
      },
      "source": [
        "F.col('incident_number')"
      ],
      "execution_count": 22,
      "outputs": [
        {
          "output_type": "execute_result",
          "data": {
            "text/plain": [
              "Column<b'incident_number'>"
            ]
          },
          "metadata": {
            "tags": []
          },
          "execution_count": 22
        }
      ]
    },
    {
      "cell_type": "markdown",
      "metadata": {
        "id": "kqbVT3vIe6jk",
        "colab_type": "text"
      },
      "source": [
        "##Filter and selecting columns"
      ]
    },
    {
      "cell_type": "code",
      "metadata": {
        "id": "f4HTAnwPeGAv",
        "colab_type": "code",
        "outputId": "1a7e4afd-8d13-4d80-bcda-e99d1ce4a3e7",
        "colab": {
          "base_uri": "https://localhost:8080/",
          "height": 204
        }
      },
      "source": [
        "fire_df.filter(F.col(\"call_number\")>10030109).select(\"call_number\").show(5)"
      ],
      "execution_count": 23,
      "outputs": [
        {
          "output_type": "stream",
          "text": [
            "+-----------+\n",
            "|call_number|\n",
            "+-----------+\n",
            "|  193390376|\n",
            "|  193390050|\n",
            "|  193390291|\n",
            "|  193390165|\n",
            "|  193390205|\n",
            "+-----------+\n",
            "only showing top 5 rows\n",
            "\n"
          ],
          "name": "stdout"
        }
      ]
    },
    {
      "cell_type": "markdown",
      "metadata": {
        "id": "U1f5NWcmfTaY",
        "colab_type": "text"
      },
      "source": [
        "## Get a reduce data frame to operate"
      ]
    },
    {
      "cell_type": "markdown",
      "metadata": {
        "id": "MTNzIJ-9kDr7",
        "colab_type": "text"
      },
      "source": [
        "### Select the first five columns"
      ]
    },
    {
      "cell_type": "code",
      "metadata": {
        "id": "e3NZYM2ykRpQ",
        "colab_type": "code",
        "outputId": "44f7e3b4-2c35-486e-efeb-f8c38971cc51",
        "colab": {
          "base_uri": "https://localhost:8080/",
          "height": 204
        }
      },
      "source": [
        "sub_df = fire_df.select(fire_df.columns[:5])\n",
        "sub_df.show(5)"
      ],
      "execution_count": 24,
      "outputs": [
        {
          "output_type": "stream",
          "text": [
            "+---------------+---------------+--------------------+-------------------+-----------+\n",
            "|incident_number|exposure_number|             address|      incident_date|call_number|\n",
            "+---------------+---------------+--------------------+-------------------+-----------+\n",
            "|       19146215|              0|925 Golden Gate A...|2019-12-05 00:00:00|  193390376|\n",
            "|       19146165|              0| 619 Holloway Avenue|2019-12-05 00:00:00|  193390050|\n",
            "|       19146202|              0|    1485 Pine Street|2019-12-05 00:00:00|  193390291|\n",
            "|       19146182|              0|       Church Street|2019-12-05 00:00:00|  193390165|\n",
            "|       19146193|              0|   1430 Scott Street|2019-12-05 00:00:00|  193390205|\n",
            "+---------------+---------------+--------------------+-------------------+-----------+\n",
            "only showing top 5 rows\n",
            "\n"
          ],
          "name": "stdout"
        }
      ]
    },
    {
      "cell_type": "markdown",
      "metadata": {
        "id": "jLxYwdItkd5H",
        "colab_type": "text"
      },
      "source": [
        "###Filter "
      ]
    },
    {
      "cell_type": "code",
      "metadata": {
        "id": "Vh3B5bd9Z97h",
        "colab_type": "code",
        "colab": {
          "base_uri": "https://localhost:8080/",
          "height": 119
        },
        "outputId": "9f97ea94-0dfb-47bb-cce6-fe06f459d7c6"
      },
      "source": [
        "sub_df.filter((F.col(\"incident_number\")<50000000) &\n",
        "              (F.col(\"call_number\")>80562) &\n",
        "              (F.col(\"address\")==\"310 Colon Av.\")).show()\n"
      ],
      "execution_count": 25,
      "outputs": [
        {
          "output_type": "stream",
          "text": [
            "+---------------+---------------+-------------+-------------------+-----------+\n",
            "|incident_number|exposure_number|      address|      incident_date|call_number|\n",
            "+---------------+---------------+-------------+-------------------+-----------+\n",
            "|        9030109|              0|310 Colon Av.|2009-04-12 00:00:00|   91020273|\n",
            "+---------------+---------------+-------------+-------------------+-----------+\n",
            "\n"
          ],
          "name": "stdout"
        }
      ]
    },
    {
      "cell_type": "markdown",
      "metadata": {
        "id": "Hrjz_nT2aW1f",
        "colab_type": "text"
      },
      "source": [
        "### Filter using particular expression"
      ]
    },
    {
      "cell_type": "code",
      "metadata": {
        "id": "GgA2POwkZ8Ws",
        "colab_type": "code",
        "colab": {
          "base_uri": "https://localhost:8080/",
          "height": 459
        },
        "outputId": "29217770-243e-40ac-fd9f-da4071417bec"
      },
      "source": [
        "#We get all the address that contains the expression \"Av\"\n",
        "sub_df.filter(F.col(\"address\").like(\"%Av%\")).show()"
      ],
      "execution_count": 26,
      "outputs": [
        {
          "output_type": "stream",
          "text": [
            "+---------------+---------------+--------------------+-------------------+-----------+\n",
            "|incident_number|exposure_number|             address|      incident_date|call_number|\n",
            "+---------------+---------------+--------------------+-------------------+-----------+\n",
            "|       19146215|              0|925 Golden Gate A...|2019-12-05 00:00:00|  193390376|\n",
            "|       19146165|              0| 619 Holloway Avenue|2019-12-05 00:00:00|  193390050|\n",
            "|       19146229|              0|    227 Grant Avenue|2019-12-05 00:00:00|  193390501|\n",
            "|       19146220|              0|915 Golden Gate A...|2019-12-05 00:00:00|  193390407|\n",
            "|       19146145|              0|  500 Corbett Avenue|2019-12-04 00:00:00|  193384507|\n",
            "|       19145869|              0|      Potrero Avenue|2019-12-04 00:00:00|  193381856|\n",
            "|       19145970|              0| 601 Van Ness Avenue|2019-12-04 00:00:00|  193382874|\n",
            "|       19145819|              0|  750 Pacific Avenue|2019-12-04 00:00:00|  193381358|\n",
            "|       19145779|              0|    601 Grant Avenue|2019-12-04 00:00:00|  193380892|\n",
            "|       19145967|              0|     1266 9th Avenue|2019-12-04 00:00:00|  193382850|\n",
            "|       19145721|              0|    1570 31st Avenue|2019-12-04 00:00:00|  193380310|\n",
            "|       19145353|              0|133 Golden Gate A...|2019-12-03 00:00:00|  193371404|\n",
            "|       19145634|              0|   1100 Ocean Avenue|2019-12-03 00:00:00|  193373953|\n",
            "|       19145646|              0|400 Parnassus Av 775|2019-12-03 00:00:00|  193374068|\n",
            "|       19145535|              0|520 South Van Nes...|2019-12-03 00:00:00|  193373005|\n",
            "|       19145270|              0|1 South Van Ness ...|2019-12-03 00:00:00|  193370475|\n",
            "|       19145366|              0|1414 Bancroft Avenue|2019-12-03 00:00:00|  193371480|\n",
            "|       19145635|              0|     618 10th Avenue|2019-12-03 00:00:00|  193373968|\n",
            "|       19145321|              0|   985 Geneva Avenue|2019-12-03 00:00:00|  193371112|\n",
            "|       19145407|              0|1250 Sunnydale Av...|2019-12-03 00:00:00|  193371764|\n",
            "+---------------+---------------+--------------------+-------------------+-----------+\n",
            "only showing top 20 rows\n",
            "\n"
          ],
          "name": "stdout"
        }
      ]
    },
    {
      "cell_type": "markdown",
      "metadata": {
        "id": "_4jW2zNTbwES",
        "colab_type": "text"
      },
      "source": [
        "### Filter using a list"
      ]
    },
    {
      "cell_type": "code",
      "metadata": {
        "id": "v7bCg0tLkZAQ",
        "colab_type": "code",
        "colab": {
          "base_uri": "https://localhost:8080/",
          "height": 119
        },
        "outputId": "0f08fc7a-f2d4-4793-889b-2f889e60b790"
      },
      "source": [
        "#Equal\n",
        "sub_df.filter(F.col('address').isin([\"310 Colon Av.\",\"Lansdale Av\",\"Pacific Av\"])).show()"
      ],
      "execution_count": 27,
      "outputs": [
        {
          "output_type": "stream",
          "text": [
            "+---------------+---------------+-------------+-------------------+-----------+\n",
            "|incident_number|exposure_number|      address|      incident_date|call_number|\n",
            "+---------------+---------------+-------------+-------------------+-----------+\n",
            "|        9030109|              0|310 Colon Av.|2009-04-12 00:00:00|   91020273|\n",
            "+---------------+---------------+-------------+-------------------+-----------+\n",
            "\n"
          ],
          "name": "stdout"
        }
      ]
    },
    {
      "cell_type": "code",
      "metadata": {
        "id": "ixB2HYPZdAI9",
        "colab_type": "code",
        "colab": {
          "base_uri": "https://localhost:8080/",
          "height": 34
        },
        "outputId": "c881d135-1486-4f78-f024-2b103425932a"
      },
      "source": [
        "#Distinct\n",
        "sub_df.filter(~F.col('address').isin([\"310 Colon Av.\",\"Lansdale Av\",\"Pacific Av\"])).count()"
      ],
      "execution_count": 28,
      "outputs": [
        {
          "output_type": "execute_result",
          "data": {
            "text/plain": [
              "513166"
            ]
          },
          "metadata": {
            "tags": []
          },
          "execution_count": 28
        }
      ]
    },
    {
      "cell_type": "markdown",
      "metadata": {
        "id": "8ogPikPpdvFY",
        "colab_type": "text"
      },
      "source": [
        "### Delete specific columns"
      ]
    },
    {
      "cell_type": "code",
      "metadata": {
        "id": "GbLrXnOIfNpd",
        "colab_type": "code",
        "colab": {
          "base_uri": "https://localhost:8080/",
          "height": 459
        },
        "outputId": "f27c0e38-ad57-4083-b6f4-cd800dac0d83"
      },
      "source": [
        "#If you want to use a list it´s neccesary to use a *\n",
        "sub_df.drop(*[\"address\",\"call_number\"]).show()"
      ],
      "execution_count": 29,
      "outputs": [
        {
          "output_type": "stream",
          "text": [
            "+---------------+---------------+-------------------+\n",
            "|incident_number|exposure_number|      incident_date|\n",
            "+---------------+---------------+-------------------+\n",
            "|       19146215|              0|2019-12-05 00:00:00|\n",
            "|       19146165|              0|2019-12-05 00:00:00|\n",
            "|       19146202|              0|2019-12-05 00:00:00|\n",
            "|       19146182|              0|2019-12-05 00:00:00|\n",
            "|       19146193|              0|2019-12-05 00:00:00|\n",
            "|       19146198|              0|2019-12-05 00:00:00|\n",
            "|       19146158|              0|2019-12-05 00:00:00|\n",
            "|       19146229|              0|2019-12-05 00:00:00|\n",
            "|       19146220|              0|2019-12-05 00:00:00|\n",
            "|       19146248|              0|2019-12-05 00:00:00|\n",
            "|       19146188|              0|2019-12-05 00:00:00|\n",
            "|       19146157|              0|2019-12-05 00:00:00|\n",
            "|       19146017|              0|2019-12-04 00:00:00|\n",
            "|       19145960|              0|2019-12-04 00:00:00|\n",
            "|       19146145|              0|2019-12-04 00:00:00|\n",
            "|       19145869|              0|2019-12-04 00:00:00|\n",
            "|       19146116|              0|2019-12-04 00:00:00|\n",
            "|       19145776|              0|2019-12-04 00:00:00|\n",
            "|       19145911|              0|2019-12-04 00:00:00|\n",
            "|       19145681|              0|2019-12-04 00:00:00|\n",
            "+---------------+---------------+-------------------+\n",
            "only showing top 20 rows\n",
            "\n"
          ],
          "name": "stdout"
        }
      ]
    },
    {
      "cell_type": "code",
      "metadata": {
        "id": "USvfOYU7g5GE",
        "colab_type": "code",
        "colab": {
          "base_uri": "https://localhost:8080/",
          "height": 459
        },
        "outputId": "73be1496-77bc-48c9-e88a-88b1a44784f1"
      },
      "source": [
        "#Also you can drop columns without use a list\n",
        "sub_df.drop(\"address\",\"call_number\").show()"
      ],
      "execution_count": 30,
      "outputs": [
        {
          "output_type": "stream",
          "text": [
            "+---------------+---------------+-------------------+\n",
            "|incident_number|exposure_number|      incident_date|\n",
            "+---------------+---------------+-------------------+\n",
            "|       19146215|              0|2019-12-05 00:00:00|\n",
            "|       19146165|              0|2019-12-05 00:00:00|\n",
            "|       19146202|              0|2019-12-05 00:00:00|\n",
            "|       19146182|              0|2019-12-05 00:00:00|\n",
            "|       19146193|              0|2019-12-05 00:00:00|\n",
            "|       19146198|              0|2019-12-05 00:00:00|\n",
            "|       19146158|              0|2019-12-05 00:00:00|\n",
            "|       19146229|              0|2019-12-05 00:00:00|\n",
            "|       19146220|              0|2019-12-05 00:00:00|\n",
            "|       19146248|              0|2019-12-05 00:00:00|\n",
            "|       19146188|              0|2019-12-05 00:00:00|\n",
            "|       19146157|              0|2019-12-05 00:00:00|\n",
            "|       19146017|              0|2019-12-04 00:00:00|\n",
            "|       19145960|              0|2019-12-04 00:00:00|\n",
            "|       19146145|              0|2019-12-04 00:00:00|\n",
            "|       19145869|              0|2019-12-04 00:00:00|\n",
            "|       19146116|              0|2019-12-04 00:00:00|\n",
            "|       19145776|              0|2019-12-04 00:00:00|\n",
            "|       19145911|              0|2019-12-04 00:00:00|\n",
            "|       19145681|              0|2019-12-04 00:00:00|\n",
            "+---------------+---------------+-------------------+\n",
            "only showing top 20 rows\n",
            "\n"
          ],
          "name": "stdout"
        }
      ]
    },
    {
      "cell_type": "code",
      "metadata": {
        "id": "OKh8PJZOfd5k",
        "colab_type": "code",
        "colab": {
          "base_uri": "https://localhost:8080/",
          "height": 459
        },
        "outputId": "fad34d31-b83f-478f-9dcf-b0a4796dbd32"
      },
      "source": [
        "#If you want to drop more columns...\n",
        "fire_df.drop(*fire_df.columns[4:]).show()"
      ],
      "execution_count": 31,
      "outputs": [
        {
          "output_type": "stream",
          "text": [
            "+---------------+---------------+--------------------+-------------------+\n",
            "|incident_number|exposure_number|             address|      incident_date|\n",
            "+---------------+---------------+--------------------+-------------------+\n",
            "|       19146215|              0|925 Golden Gate A...|2019-12-05 00:00:00|\n",
            "|       19146165|              0| 619 Holloway Avenue|2019-12-05 00:00:00|\n",
            "|       19146202|              0|    1485 Pine Street|2019-12-05 00:00:00|\n",
            "|       19146182|              0|       Church Street|2019-12-05 00:00:00|\n",
            "|       19146193|              0|   1430 Scott Street|2019-12-05 00:00:00|\n",
            "|       19146198|              0|   1430 Scott Street|2019-12-05 00:00:00|\n",
            "|       19146158|              0|    3351 23rd Street|2019-12-05 00:00:00|\n",
            "|       19146229|              0|    227 Grant Avenue|2019-12-05 00:00:00|\n",
            "|       19146220|              0|915 Golden Gate A...|2019-12-05 00:00:00|\n",
            "|       19146248|              0|     21 Loyola Trail|2019-12-05 00:00:00|\n",
            "|       19146188|              0|      190 9th Street|2019-12-05 00:00:00|\n",
            "|       19146157|              0|    1640 Lyon Street|2019-12-05 00:00:00|\n",
            "|       19146017|              0|     171 Fell Street|2019-12-04 00:00:00|\n",
            "|       19145960|              0|    298 Red Rock Way|2019-12-04 00:00:00|\n",
            "|       19146145|              0|  500 Corbett Avenue|2019-12-04 00:00:00|\n",
            "|       19145869|              0|      Potrero Avenue|2019-12-04 00:00:00|\n",
            "|       19146116|              0|       Taylor Street|2019-12-04 00:00:00|\n",
            "|       19145776|              0| 658 Shotwell Street|2019-12-04 00:00:00|\n",
            "|       19145911|              0| 316 Schwerin Street|2019-12-04 00:00:00|\n",
            "|       19145681|              0|1940 Harrison Street|2019-12-04 00:00:00|\n",
            "+---------------+---------------+--------------------+-------------------+\n",
            "only showing top 20 rows\n",
            "\n"
          ],
          "name": "stdout"
        }
      ]
    },
    {
      "cell_type": "markdown",
      "metadata": {
        "id": "dUUaGdbxjaG2",
        "colab_type": "text"
      },
      "source": [
        "###Drop duplicates"
      ]
    },
    {
      "cell_type": "markdown",
      "metadata": {
        "id": "6Zzeo7XLkZDL",
        "colab_type": "text"
      },
      "source": [
        "#### Delete duplicates based on repetitions of two or more entire lines"
      ]
    },
    {
      "cell_type": "code",
      "metadata": {
        "id": "M_coJqA2kHz9",
        "colab_type": "code",
        "colab": {
          "base_uri": "https://localhost:8080/",
          "height": 34
        },
        "outputId": "5d22d0cc-a283-4c0d-a483-4c83d050dc93"
      },
      "source": [
        "sub_df.count()"
      ],
      "execution_count": 32,
      "outputs": [
        {
          "output_type": "execute_result",
          "data": {
            "text/plain": [
              "513405"
            ]
          },
          "metadata": {
            "tags": []
          },
          "execution_count": 32
        }
      ]
    },
    {
      "cell_type": "code",
      "metadata": {
        "id": "rKcOcotZk1xG",
        "colab_type": "code",
        "colab": {
          "base_uri": "https://localhost:8080/",
          "height": 34
        },
        "outputId": "776a4341-d7bf-4be6-9d92-15c09fbeff87"
      },
      "source": [
        "sub_df.dropDuplicates().count()"
      ],
      "execution_count": 33,
      "outputs": [
        {
          "output_type": "execute_result",
          "data": {
            "text/plain": [
              "513049"
            ]
          },
          "metadata": {
            "tags": []
          },
          "execution_count": 33
        }
      ]
    },
    {
      "cell_type": "markdown",
      "metadata": {
        "id": "hErBzvgGktJk",
        "colab_type": "text"
      },
      "source": [
        "#### Delete duplicates based on repetitions of two or more specific columns"
      ]
    },
    {
      "cell_type": "code",
      "metadata": {
        "id": "vr0E-VkblAQc",
        "colab_type": "code",
        "colab": {
          "base_uri": "https://localhost:8080/",
          "height": 34
        },
        "outputId": "686fff9b-bf5c-4044-ca91-ef1ef8a8aa1e"
      },
      "source": [
        "sub_df.dropDuplicates(subset=['incident_number']).count()"
      ],
      "execution_count": 34,
      "outputs": [
        {
          "output_type": "execute_result",
          "data": {
            "text/plain": [
              "513049"
            ]
          },
          "metadata": {
            "tags": []
          },
          "execution_count": 34
        }
      ]
    },
    {
      "cell_type": "markdown",
      "metadata": {
        "id": "RwznymS4ld4Z",
        "colab_type": "text"
      },
      "source": [
        "### Order by column \"orderBy\""
      ]
    },
    {
      "cell_type": "markdown",
      "metadata": {
        "id": "2N1JRqunn1A2",
        "colab_type": "text"
      },
      "source": [
        "It's not neccesary define asc=True because that´s by default"
      ]
    },
    {
      "cell_type": "code",
      "metadata": {
        "id": "uYY7xqRPlnx_",
        "colab_type": "code",
        "colab": {
          "base_uri": "https://localhost:8080/",
          "height": 459
        },
        "outputId": "26603394-025d-4966-b907-5419d68c2c0b"
      },
      "source": [
        "#One way\n",
        "sub_df.orderBy(\"incident_number\",ascending=False).show()"
      ],
      "execution_count": 35,
      "outputs": [
        {
          "output_type": "stream",
          "text": [
            "+---------------+---------------+--------------------+-------------------+-----------+\n",
            "|incident_number|exposure_number|             address|      incident_date|call_number|\n",
            "+---------------+---------------+--------------------+-------------------+-----------+\n",
            "|       19146248|              0|     21 Loyola Trail|2019-12-05 00:00:00|  193390662|\n",
            "|       19146229|              0|    227 Grant Avenue|2019-12-05 00:00:00|  193390501|\n",
            "|       19146220|              0|915 Golden Gate A...|2019-12-05 00:00:00|  193390407|\n",
            "|       19146215|              0|925 Golden Gate A...|2019-12-05 00:00:00|  193390376|\n",
            "|       19146202|              0|    1485 Pine Street|2019-12-05 00:00:00|  193390291|\n",
            "|       19146198|              0|   1430 Scott Street|2019-12-05 00:00:00|  193390273|\n",
            "|       19146193|              0|   1430 Scott Street|2019-12-05 00:00:00|  193390205|\n",
            "|       19146188|              0|      190 9th Street|2019-12-05 00:00:00|  193390184|\n",
            "|       19146182|              0|       Church Street|2019-12-05 00:00:00|  193390165|\n",
            "|       19146165|              0| 619 Holloway Avenue|2019-12-05 00:00:00|  193390050|\n",
            "|       19146158|              0|    3351 23rd Street|2019-12-05 00:00:00|  193390013|\n",
            "|       19146157|              0|    1640 Lyon Street|2019-12-05 00:00:00|  193390007|\n",
            "|       19146152|              0|  230 Grattan Street|2019-12-04 00:00:00|  193384547|\n",
            "|       19146145|              0|  500 Corbett Avenue|2019-12-04 00:00:00|  193384507|\n",
            "|       19146143|              0|1635 Divisadero S...|2019-12-04 00:00:00|  193384493|\n",
            "|       19146131|              0|         Eddy Street|2019-12-04 00:00:00|  193384387|\n",
            "|       19146119|              0|   841 Larkin Street|2019-12-04 00:00:00|  193384253|\n",
            "|       19146116|              0|       Taylor Street|2019-12-04 00:00:00|  193384245|\n",
            "|       19146091|              0|  240 Dolores St 217|2019-12-04 00:00:00|  193384030|\n",
            "|       19146090|              0| 1650 Mission Street|2019-12-04 00:00:00|  193384016|\n",
            "+---------------+---------------+--------------------+-------------------+-----------+\n",
            "only showing top 20 rows\n",
            "\n"
          ],
          "name": "stdout"
        }
      ]
    },
    {
      "cell_type": "code",
      "metadata": {
        "id": "QGI9d-4BnIeh",
        "colab_type": "code",
        "colab": {
          "base_uri": "https://localhost:8080/",
          "height": 459
        },
        "outputId": "800a3b8f-0281-4250-d79b-38bf9a9451d4"
      },
      "source": [
        "#Other way using SQL\n",
        "sub_df.orderBy(F.col(\"incident_number\").desc()).show()"
      ],
      "execution_count": 36,
      "outputs": [
        {
          "output_type": "stream",
          "text": [
            "+---------------+---------------+--------------------+-------------------+-----------+\n",
            "|incident_number|exposure_number|             address|      incident_date|call_number|\n",
            "+---------------+---------------+--------------------+-------------------+-----------+\n",
            "|       19146248|              0|     21 Loyola Trail|2019-12-05 00:00:00|  193390662|\n",
            "|       19146229|              0|    227 Grant Avenue|2019-12-05 00:00:00|  193390501|\n",
            "|       19146220|              0|915 Golden Gate A...|2019-12-05 00:00:00|  193390407|\n",
            "|       19146215|              0|925 Golden Gate A...|2019-12-05 00:00:00|  193390376|\n",
            "|       19146202|              0|    1485 Pine Street|2019-12-05 00:00:00|  193390291|\n",
            "|       19146198|              0|   1430 Scott Street|2019-12-05 00:00:00|  193390273|\n",
            "|       19146193|              0|   1430 Scott Street|2019-12-05 00:00:00|  193390205|\n",
            "|       19146188|              0|      190 9th Street|2019-12-05 00:00:00|  193390184|\n",
            "|       19146182|              0|       Church Street|2019-12-05 00:00:00|  193390165|\n",
            "|       19146165|              0| 619 Holloway Avenue|2019-12-05 00:00:00|  193390050|\n",
            "|       19146158|              0|    3351 23rd Street|2019-12-05 00:00:00|  193390013|\n",
            "|       19146157|              0|    1640 Lyon Street|2019-12-05 00:00:00|  193390007|\n",
            "|       19146152|              0|  230 Grattan Street|2019-12-04 00:00:00|  193384547|\n",
            "|       19146145|              0|  500 Corbett Avenue|2019-12-04 00:00:00|  193384507|\n",
            "|       19146143|              0|1635 Divisadero S...|2019-12-04 00:00:00|  193384493|\n",
            "|       19146131|              0|         Eddy Street|2019-12-04 00:00:00|  193384387|\n",
            "|       19146119|              0|   841 Larkin Street|2019-12-04 00:00:00|  193384253|\n",
            "|       19146116|              0|       Taylor Street|2019-12-04 00:00:00|  193384245|\n",
            "|       19146091|              0|  240 Dolores St 217|2019-12-04 00:00:00|  193384030|\n",
            "|       19146090|              0| 1650 Mission Street|2019-12-04 00:00:00|  193384016|\n",
            "+---------------+---------------+--------------------+-------------------+-----------+\n",
            "only showing top 20 rows\n",
            "\n"
          ],
          "name": "stdout"
        }
      ]
    },
    {
      "cell_type": "markdown",
      "metadata": {
        "id": "-XOIqKWAnrKK",
        "colab_type": "text"
      },
      "source": [
        "### Order by column \"sort\""
      ]
    },
    {
      "cell_type": "code",
      "metadata": {
        "id": "76ZOQ9nHqUUf",
        "colab_type": "code",
        "colab": {
          "base_uri": "https://localhost:8080/",
          "height": 459
        },
        "outputId": "77503a32-6a5c-418e-bb6a-7a8ea191c0d1"
      },
      "source": [
        "sub_df.sort(F.col(\"incident_number\"),ascending=False).show()"
      ],
      "execution_count": 37,
      "outputs": [
        {
          "output_type": "stream",
          "text": [
            "+---------------+---------------+--------------------+-------------------+-----------+\n",
            "|incident_number|exposure_number|             address|      incident_date|call_number|\n",
            "+---------------+---------------+--------------------+-------------------+-----------+\n",
            "|       19146248|              0|     21 Loyola Trail|2019-12-05 00:00:00|  193390662|\n",
            "|       19146229|              0|    227 Grant Avenue|2019-12-05 00:00:00|  193390501|\n",
            "|       19146220|              0|915 Golden Gate A...|2019-12-05 00:00:00|  193390407|\n",
            "|       19146215|              0|925 Golden Gate A...|2019-12-05 00:00:00|  193390376|\n",
            "|       19146202|              0|    1485 Pine Street|2019-12-05 00:00:00|  193390291|\n",
            "|       19146198|              0|   1430 Scott Street|2019-12-05 00:00:00|  193390273|\n",
            "|       19146193|              0|   1430 Scott Street|2019-12-05 00:00:00|  193390205|\n",
            "|       19146188|              0|      190 9th Street|2019-12-05 00:00:00|  193390184|\n",
            "|       19146182|              0|       Church Street|2019-12-05 00:00:00|  193390165|\n",
            "|       19146165|              0| 619 Holloway Avenue|2019-12-05 00:00:00|  193390050|\n",
            "|       19146158|              0|    3351 23rd Street|2019-12-05 00:00:00|  193390013|\n",
            "|       19146157|              0|    1640 Lyon Street|2019-12-05 00:00:00|  193390007|\n",
            "|       19146152|              0|  230 Grattan Street|2019-12-04 00:00:00|  193384547|\n",
            "|       19146145|              0|  500 Corbett Avenue|2019-12-04 00:00:00|  193384507|\n",
            "|       19146143|              0|1635 Divisadero S...|2019-12-04 00:00:00|  193384493|\n",
            "|       19146131|              0|         Eddy Street|2019-12-04 00:00:00|  193384387|\n",
            "|       19146119|              0|   841 Larkin Street|2019-12-04 00:00:00|  193384253|\n",
            "|       19146116|              0|       Taylor Street|2019-12-04 00:00:00|  193384245|\n",
            "|       19146091|              0|  240 Dolores St 217|2019-12-04 00:00:00|  193384030|\n",
            "|       19146090|              0| 1650 Mission Street|2019-12-04 00:00:00|  193384016|\n",
            "+---------------+---------------+--------------------+-------------------+-----------+\n",
            "only showing top 20 rows\n",
            "\n"
          ],
          "name": "stdout"
        }
      ]
    },
    {
      "cell_type": "code",
      "metadata": {
        "id": "Hywhyl9EpvZd",
        "colab_type": "code",
        "colab": {
          "base_uri": "https://localhost:8080/",
          "height": 459
        },
        "outputId": "a9939bb7-10eb-470c-eb26-e92e6b9833a7"
      },
      "source": [
        "sub_df.sort(F.col(\"incident_number\").desc()).show()"
      ],
      "execution_count": 38,
      "outputs": [
        {
          "output_type": "stream",
          "text": [
            "+---------------+---------------+--------------------+-------------------+-----------+\n",
            "|incident_number|exposure_number|             address|      incident_date|call_number|\n",
            "+---------------+---------------+--------------------+-------------------+-----------+\n",
            "|       19146248|              0|     21 Loyola Trail|2019-12-05 00:00:00|  193390662|\n",
            "|       19146229|              0|    227 Grant Avenue|2019-12-05 00:00:00|  193390501|\n",
            "|       19146220|              0|915 Golden Gate A...|2019-12-05 00:00:00|  193390407|\n",
            "|       19146215|              0|925 Golden Gate A...|2019-12-05 00:00:00|  193390376|\n",
            "|       19146202|              0|    1485 Pine Street|2019-12-05 00:00:00|  193390291|\n",
            "|       19146198|              0|   1430 Scott Street|2019-12-05 00:00:00|  193390273|\n",
            "|       19146193|              0|   1430 Scott Street|2019-12-05 00:00:00|  193390205|\n",
            "|       19146188|              0|      190 9th Street|2019-12-05 00:00:00|  193390184|\n",
            "|       19146182|              0|       Church Street|2019-12-05 00:00:00|  193390165|\n",
            "|       19146165|              0| 619 Holloway Avenue|2019-12-05 00:00:00|  193390050|\n",
            "|       19146158|              0|    3351 23rd Street|2019-12-05 00:00:00|  193390013|\n",
            "|       19146157|              0|    1640 Lyon Street|2019-12-05 00:00:00|  193390007|\n",
            "|       19146152|              0|  230 Grattan Street|2019-12-04 00:00:00|  193384547|\n",
            "|       19146145|              0|  500 Corbett Avenue|2019-12-04 00:00:00|  193384507|\n",
            "|       19146143|              0|1635 Divisadero S...|2019-12-04 00:00:00|  193384493|\n",
            "|       19146131|              0|         Eddy Street|2019-12-04 00:00:00|  193384387|\n",
            "|       19146119|              0|   841 Larkin Street|2019-12-04 00:00:00|  193384253|\n",
            "|       19146116|              0|       Taylor Street|2019-12-04 00:00:00|  193384245|\n",
            "|       19146091|              0|  240 Dolores St 217|2019-12-04 00:00:00|  193384030|\n",
            "|       19146090|              0| 1650 Mission Street|2019-12-04 00:00:00|  193384016|\n",
            "+---------------+---------------+--------------------+-------------------+-----------+\n",
            "only showing top 20 rows\n",
            "\n"
          ],
          "name": "stdout"
        }
      ]
    },
    {
      "cell_type": "markdown",
      "metadata": {
        "id": "7aYb08UNrew1",
        "colab_type": "text"
      },
      "source": [
        "### Order by 2 or more columns"
      ]
    },
    {
      "cell_type": "code",
      "metadata": {
        "id": "yZaWJZ74pLpi",
        "colab_type": "code",
        "colab": {
          "base_uri": "https://localhost:8080/",
          "height": 459
        },
        "outputId": "c62fed89-3fd2-4e47-a0c0-3ad2bb7a3d42"
      },
      "source": [
        "sub_df.sort([\"incident_number\",\"address\"],ascending=[True,False]).show()"
      ],
      "execution_count": 39,
      "outputs": [
        {
          "output_type": "stream",
          "text": [
            "+---------------+---------------+--------------------+-------------------+-----------+\n",
            "|incident_number|exposure_number|             address|      incident_date|call_number|\n",
            "+---------------+---------------+--------------------+-------------------+-----------+\n",
            "|        3000001|              0|       1301 Turk St.|2003-07-08 00:00:00|   31890183|\n",
            "|        3000003|              0|Broadway St. / Ta...|2003-01-01 00:00:00|   30010002|\n",
            "|        3000006|              0|Market St. / Spea...|2003-01-01 00:00:00|   30010005|\n",
            "|        3000007|              0|3rd St. / Harriso...|2003-01-01 00:00:00|   30010007|\n",
            "|        3000014|              0|33rd Av. / Norieg...|2003-01-01 00:00:00|   30010016|\n",
            "|        3000016|              0|        291 10th St.|2003-01-01 00:00:00|   30010019|\n",
            "|        3000018|              0|11th St. / Howard...|2003-01-01 00:00:00|   30010023|\n",
            "|        3000020|              0|3rd St. / Howard St.|2003-01-01 00:00:00|   30010028|\n",
            "|        3000021|              0|300 The Embarcade...|2003-01-01 00:00:00|   30010025|\n",
            "|        3000022|              0|      1439 Treat Wy.|2003-01-01 00:00:00|   30010031|\n",
            "|        3000025|              0|   2 Henry Adams St.|2003-01-01 00:00:00|   30010036|\n",
            "|        3000026|              0|Folsom St. / The ...|2003-01-01 00:00:00|   30010039|\n",
            "|        3000027|              0|        2 Parker Av.|2003-01-01 00:00:00|   30010041|\n",
            "|        3000040|              0|Ellis St. / Hyde St.|2003-01-01 00:00:00|   30010056|\n",
            "|        3000042|              0|Stockton St. / Su...|2003-01-01 00:00:00|   30010059|\n",
            "|        3000058|              0|Coleridge St. / E...|2003-01-01 00:00:00|   30010076|\n",
            "|        3000059|              0|Front St. / Valle...|2003-01-01 00:00:00|   30010077|\n",
            "|        3000060|              0|26th St. / Folsom...|2003-01-01 00:00:00|   30010078|\n",
            "|        3000061|              0|   1250 Columbus Av.|2003-01-01 00:00:00|   30010080|\n",
            "|        3000062|              0|        300 Broadway|2003-01-01 00:00:00|   30010081|\n",
            "+---------------+---------------+--------------------+-------------------+-----------+\n",
            "only showing top 20 rows\n",
            "\n"
          ],
          "name": "stdout"
        }
      ]
    },
    {
      "cell_type": "markdown",
      "metadata": {
        "id": "1IvvP8sFpbkR",
        "colab_type": "text"
      },
      "source": [
        "###GroupBy"
      ]
    },
    {
      "cell_type": "markdown",
      "metadata": {
        "id": "xHewuuQArofi",
        "colab_type": "text"
      },
      "source": [
        "The groupBy allows us to obtain different results and statistics"
      ]
    },
    {
      "cell_type": "code",
      "metadata": {
        "id": "mIFmjkJSr4wA",
        "colab_type": "code",
        "colab": {
          "base_uri": "https://localhost:8080/",
          "height": 459
        },
        "outputId": "5f572115-5cd2-4104-9a6a-a053fd1025eb"
      },
      "source": [
        "sub_df.groupBy(\"address\").count().show()"
      ],
      "execution_count": 40,
      "outputs": [
        {
          "output_type": "stream",
          "text": [
            "+--------------------+-----+\n",
            "|             address|count|\n",
            "+--------------------+-----+\n",
            "| 180 Beaumont Avenue|    2|\n",
            "|  1329 Gilman Avenue|    1|\n",
            "|   1600 Filbert St 3|    1|\n",
            "|  895 Pacific Av 432|    1|\n",
            "|    231 Wilde Avenue|    1|\n",
            "|         5 Lenox Way|   14|\n",
            "|    859 Baker Street|    2|\n",
            "|    250 Clara Street|    5|\n",
            "|       Larkin Street|   71|\n",
            "|    125 Cambon Dr 12|    5|\n",
            "|550 Buena Vista A...|   27|\n",
            "|  800 Indiana St 375|    1|\n",
            "|    603 Mason Street|   21|\n",
            "|       375 10th Av 2|    1|\n",
            "|   300 Toland Street|    3|\n",
            "|    1541 12th Avenue|   33|\n",
            "|    678 Green Street|    5|\n",
            "|          Bay Bridge|    5|\n",
            "|      Avenue B  East|    1|\n",
            "|    605 Jones Street|    8|\n",
            "+--------------------+-----+\n",
            "only showing top 20 rows\n",
            "\n"
          ],
          "name": "stdout"
        }
      ]
    },
    {
      "cell_type": "code",
      "metadata": {
        "id": "crFchXFusc--",
        "colab_type": "code",
        "colab": {
          "base_uri": "https://localhost:8080/",
          "height": 459
        },
        "outputId": "2bd558e3-c02a-47ba-f6fe-4bcfda911ece"
      },
      "source": [
        "sub_df.groupBy(\"address\").agg({\"incident_number\":\"mean\"}).show()"
      ],
      "execution_count": 41,
      "outputs": [
        {
          "output_type": "stream",
          "text": [
            "+--------------------+--------------------+\n",
            "|             address|avg(incident_number)|\n",
            "+--------------------+--------------------+\n",
            "| 180 Beaumont Avenue|        1.80801035E7|\n",
            "|  1329 Gilman Avenue|         1.9144015E7|\n",
            "|   1600 Filbert St 3|          1.914133E7|\n",
            "|  895 Pacific Av 432|         1.9140387E7|\n",
            "|    231 Wilde Avenue|         1.9139957E7|\n",
            "|         5 Lenox Way| 1.664830657142857E7|\n",
            "|    859 Baker Street|          1.860605E7|\n",
            "|    250 Clara Street|        1.75013382E7|\n",
            "|       Larkin Street| 1.862224366197183E7|\n",
            "|    125 Cambon Dr 12|         1.8881239E7|\n",
            "|550 Buena Vista A...|1.8285991814814813E7|\n",
            "|  800 Indiana St 375|         1.9133007E7|\n",
            "|    603 Mason Street| 1.739179685714286E7|\n",
            "|       375 10th Av 2|         1.9125047E7|\n",
            "|   300 Toland Street|1.7767253333333332E7|\n",
            "|    1541 12th Avenue|1.6780718272727273E7|\n",
            "|    678 Green Street|        1.72614326E7|\n",
            "|          Bay Bridge|        1.70701634E7|\n",
            "|      Avenue B  East|         1.9110928E7|\n",
            "|    605 Jones Street|      1.7594864875E7|\n",
            "+--------------------+--------------------+\n",
            "only showing top 20 rows\n",
            "\n"
          ],
          "name": "stdout"
        }
      ]
    },
    {
      "cell_type": "markdown",
      "metadata": {
        "id": "GU4QT6LnuB0s",
        "colab_type": "text"
      },
      "source": [
        "####Group doing different operations"
      ]
    },
    {
      "cell_type": "code",
      "metadata": {
        "id": "P6qJECsZwNvl",
        "colab_type": "code",
        "colab": {
          "base_uri": "https://localhost:8080/",
          "height": 459
        },
        "outputId": "9f7708cb-597d-42a1-8a1c-78a0612fade6"
      },
      "source": [
        "sub_df.groupBy(\"address\").agg(F.min(\"incident_number\"),\n",
        "                              F.mean(\"incident_number\").alias(\"mean_indicent\"),\n",
        "                              F.max(\"incident_number\")).show()"
      ],
      "execution_count": 42,
      "outputs": [
        {
          "output_type": "stream",
          "text": [
            "+--------------------+--------------------+--------------------+--------------------+\n",
            "|             address|min(incident_number)|       mean_indicent|max(incident_number)|\n",
            "+--------------------+--------------------+--------------------+--------------------+\n",
            "| 180 Beaumont Avenue|            17015833|        1.80801035E7|            19144374|\n",
            "|  1329 Gilman Avenue|            19144015|         1.9144015E7|            19144015|\n",
            "|   1600 Filbert St 3|            19141330|          1.914133E7|            19141330|\n",
            "|  895 Pacific Av 432|            19140387|         1.9140387E7|            19140387|\n",
            "|    231 Wilde Avenue|            19139957|         1.9139957E7|            19139957|\n",
            "|         5 Lenox Way|            14050587| 1.664830657142857E7|            19139933|\n",
            "|    859 Baker Street|            18073271|          1.860605E7|            19138829|\n",
            "|    250 Clara Street|            15115183|        1.75013382E7|            19138297|\n",
            "|       Larkin Street|            18014418| 1.862224366197183E7|            19135866|\n",
            "|    125 Cambon Dr 12|            18139306|         1.8881239E7|            19133296|\n",
            "|550 Buena Vista A...|            17115525|1.8285991814814813E7|            19133054|\n",
            "|  800 Indiana St 375|            19133007|         1.9133007E7|            19133007|\n",
            "|    603 Mason Street|            14020149| 1.739179685714286E7|            19127701|\n",
            "|       375 10th Av 2|            19125047|         1.9125047E7|            19125047|\n",
            "|   300 Toland Street|            15131539|1.7767253333333332E7|            19118405|\n",
            "|    1541 12th Avenue|            14071398|1.6780718272727273E7|            19118363|\n",
            "|    678 Green Street|            14073540|        1.72614326E7|            19116512|\n",
            "|          Bay Bridge|            14048364|        1.70701634E7|            19113726|\n",
            "|      Avenue B  East|            19110928|         1.9110928E7|            19110928|\n",
            "|    605 Jones Street|            17051392|      1.7594864875E7|            19110152|\n",
            "+--------------------+--------------------+--------------------+--------------------+\n",
            "only showing top 20 rows\n",
            "\n"
          ],
          "name": "stdout"
        }
      ]
    },
    {
      "cell_type": "markdown",
      "metadata": {
        "id": "MXsNPscUzeAo",
        "colab_type": "text"
      },
      "source": [
        "####Group and filter"
      ]
    },
    {
      "cell_type": "code",
      "metadata": {
        "id": "iGp5d6JMyDoB",
        "colab_type": "code",
        "colab": {
          "base_uri": "https://localhost:8080/",
          "height": 459
        },
        "outputId": "e13c0851-acb0-4561-b273-109b469e6048"
      },
      "source": [
        "sub_df.groupBy(\"address\",\n",
        "               \"incident_date\").agg(F.count(\"call_number\").alias(\"count\")).filter(F.col(\"count\")>1).show()"
      ],
      "execution_count": 43,
      "outputs": [
        {
          "output_type": "stream",
          "text": [
            "+--------------------+-------------------+-----+\n",
            "|             address|      incident_date|count|\n",
            "+--------------------+-------------------+-----+\n",
            "|         6 Cargo Way|2019-08-12 00:00:00|    2|\n",
            "|364 Divisadero St...|2019-08-10 00:00:00|    2|\n",
            "|     55 Union Street|2019-06-16 00:00:00|    2|\n",
            "|    125 Cambon Drive|2019-05-07 00:00:00|    2|\n",
            "|    480 Ellis St 245|2019-02-03 00:00:00|    2|\n",
            "|       28 2nd Street|2019-02-02 00:00:00|    2|\n",
            "|  44 Woodland Avenue|2019-01-06 00:00:00|    2|\n",
            "|          Mission St|2018-02-09 00:00:00|    2|\n",
            "|        0 3rd Street|2018-01-21 00:00:00|    2|\n",
            "| 445 Ofarrell Street|2017-12-19 00:00:00|    2|\n",
            "|    540 Jones Street|2017-11-14 00:00:00|    2|\n",
            "|   100 Larkin Street|2016-12-21 00:00:00|    2|\n",
            "|          2nd Street|2019-02-09 00:00:00|    2|\n",
            "|0 Cesar Chavez St...|2017-10-27 00:00:00|    2|\n",
            "|        0 3rd Street|2017-06-01 00:00:00|    3|\n",
            "|    2300 16th Street|2017-05-22 00:00:00|    2|\n",
            "| 240 Stockton Street|2017-05-03 00:00:00|    2|\n",
            "| 1446 Jackson Street|2017-05-01 00:00:00|    2|\n",
            "| 0 California Street|2017-02-11 00:00:00|    2|\n",
            "|    1538 Clay Street|2016-12-20 00:00:00|    2|\n",
            "+--------------------+-------------------+-----+\n",
            "only showing top 20 rows\n",
            "\n"
          ],
          "name": "stdout"
        }
      ]
    },
    {
      "cell_type": "code",
      "metadata": {
        "id": "qTH5VLxVzRFX",
        "colab_type": "code",
        "colab": {
          "base_uri": "https://localhost:8080/",
          "height": 459
        },
        "outputId": "b8d5efe3-b6b4-434f-ab12-c27d74a49873"
      },
      "source": [
        "sub_df.groupBy(\"address\",\n",
        "               \"incident_date\").count().filter(F.col(\"count\")>1).show()"
      ],
      "execution_count": 44,
      "outputs": [
        {
          "output_type": "stream",
          "text": [
            "+--------------------+-------------------+-----+\n",
            "|             address|      incident_date|count|\n",
            "+--------------------+-------------------+-----+\n",
            "|         6 Cargo Way|2019-08-12 00:00:00|    2|\n",
            "|364 Divisadero St...|2019-08-10 00:00:00|    2|\n",
            "|     55 Union Street|2019-06-16 00:00:00|    2|\n",
            "|    125 Cambon Drive|2019-05-07 00:00:00|    2|\n",
            "|    480 Ellis St 245|2019-02-03 00:00:00|    2|\n",
            "|       28 2nd Street|2019-02-02 00:00:00|    2|\n",
            "|  44 Woodland Avenue|2019-01-06 00:00:00|    2|\n",
            "|          Mission St|2018-02-09 00:00:00|    2|\n",
            "|        0 3rd Street|2018-01-21 00:00:00|    2|\n",
            "| 445 Ofarrell Street|2017-12-19 00:00:00|    2|\n",
            "|    540 Jones Street|2017-11-14 00:00:00|    2|\n",
            "|   100 Larkin Street|2016-12-21 00:00:00|    2|\n",
            "|          2nd Street|2019-02-09 00:00:00|    2|\n",
            "|0 Cesar Chavez St...|2017-10-27 00:00:00|    2|\n",
            "|        0 3rd Street|2017-06-01 00:00:00|    3|\n",
            "|    2300 16th Street|2017-05-22 00:00:00|    2|\n",
            "| 240 Stockton Street|2017-05-03 00:00:00|    2|\n",
            "| 1446 Jackson Street|2017-05-01 00:00:00|    2|\n",
            "| 0 California Street|2017-02-11 00:00:00|    2|\n",
            "|    1538 Clay Street|2016-12-20 00:00:00|    2|\n",
            "+--------------------+-------------------+-----+\n",
            "only showing top 20 rows\n",
            "\n"
          ],
          "name": "stdout"
        }
      ]
    }
  ]
}